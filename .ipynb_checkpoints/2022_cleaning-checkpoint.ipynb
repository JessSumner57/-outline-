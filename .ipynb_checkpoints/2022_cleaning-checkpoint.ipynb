{
 "cells": [
  {
   "cell_type": "markdown",
   "id": "edd9a993-f078-4a2d-a9ed-8e5d7f58fe78",
   "metadata": {},
   "source": [
    "# Cleaning 2022 (4 Jan 2022) Inside Airbnb Data"
   ]
  },
  {
   "cell_type": "markdown",
   "id": "b1253431-27d0-4424-a9ca-3e3b8615a1cd",
   "metadata": {},
   "source": [
    "### Importing Packages\n",
    "Here, I am taking the main packages from throughout the practicals as well as some of the functions that Jon uses"
   ]
  },
  {
   "cell_type": "code",
   "execution_count": 1,
   "id": "f5ca7204-525c-4c83-9b8c-4609559b2c5a",
   "metadata": {},
   "outputs": [
    {
     "name": "stderr",
     "output_type": "stream",
     "text": [
      "<jemalloc>: MADV_DONTNEED does not work (memset will be used instead)\n",
      "<jemalloc>: (This is the expected behaviour if you are running under QEMU)\n"
     ]
    }
   ],
   "source": [
    "import os\n",
    "import numpy as np\n",
    "import pandas as pd\n",
    "import geopandas as gpd\n",
    "import seaborn as sns\n",
    "import matplotlib.cm as cm\n",
    "import matplotlib.pyplot as plt\n",
    "import matplotlib as mpl\n",
    "import re\n",
    "import math\n",
    "\n",
    "from matplotlib.colors import ListedColormap\n",
    "\n",
    "# All of these are potentially useful, though\n",
    "# not all have been used in this practical --\n",
    "# I'd suggest exploring the use of different \n",
    "# Scalers/Transformers as well as clustering \n",
    "# algorithms...\n",
    "import sklearn\n",
    "from sklearn.neighbors import NearestNeighbors\n",
    "from sklearn.decomposition import PCA\n",
    "from sklearn.preprocessing import MinMaxScaler, StandardScaler, RobustScaler, PowerTransformer\n",
    "from sklearn.cluster import KMeans, DBSCAN, OPTICS\n",
    "from sklearn.ensemble import RandomForestClassifier\n",
    "from sklearn.metrics import silhouette_samples, silhouette_score\n",
    "from sklearn.preprocessing import OneHotEncoder\n",
    "from sklearn.feature_extraction.text import TfidfVectorizer\n",
    "from sklearn.feature_extraction.text import CountVectorizer\n",
    "from sklearn.decomposition import LatentDirichletAllocation\n",
    "\n",
    "import random\n",
    "random.seed(42)    # For reproducibility\n",
    "np.random.seed(42) # For reproducibility\n",
    "\n",
    "# Make numeric display a bit neater\n",
    "pd.set_option('display.float_format', lambda x: '{:,.2f}'.format(x))"
   ]
  },
  {
   "cell_type": "code",
   "execution_count": 2,
   "id": "0d3bc1d0-d4e1-4731-bb11-02b9f7dde05c",
   "metadata": {},
   "outputs": [],
   "source": [
    "# These are specific to NLP\n",
    "import nltk\n",
    "import spacy\n",
    "from nltk.corpus import wordnet as wn\n",
    "from nltk.stem.wordnet import WordNetLemmatizer\n",
    "\n",
    "from nltk.corpus import stopwords\n",
    "\n",
    "from nltk.tokenize import word_tokenize, sent_tokenize\n",
    "from nltk.tokenize.toktok import ToktokTokenizer\n",
    "\n",
    "from nltk.stem.porter import PorterStemmer\n",
    "from nltk.stem.snowball import SnowballStemmer\n",
    "\n",
    "from nltk import ngrams, FreqDist\n",
    "\n",
    "lemmatizer = WordNetLemmatizer()\n",
    "tokenizer = ToktokTokenizer()\n",
    "mms  = MinMaxScaler(feature_range=(-1,1))\n",
    "stds = StandardScaler()\n",
    "rbs  = RobustScaler()\n",
    "pts  = PowerTransformer()\n",
    "\n",
    "import string\n",
    "import unicodedata\n",
    "from bs4 import BeautifulSoup\n",
    "from wordcloud import WordCloud, STOPWORDS"
   ]
  },
  {
   "cell_type": "code",
   "execution_count": 3,
   "id": "36ab8376-0ba8-4d44-8420-c0e4f50329ed",
   "metadata": {},
   "outputs": [],
   "source": [
    "# This is the Cache Function Jon wrote\n",
    "import os\n",
    "from requests import get\n",
    "from urllib.parse import urlparse\n",
    "\n",
    "def cache_data(src:str, dest:str) -> str:\n",
    "    \"\"\"Downloads and caches a remote file locally.\n",
    "    \n",
    "    The function sits between the 'read' step of a pandas or geopandas\n",
    "    data frame and downloading the file from a remote location. The idea\n",
    "    is that it will save it locally so that you don't need to remember to\n",
    "    do so yourself. Subsequent re-reads of the file will return instantly\n",
    "    rather than downloading the entire file for a second or n-th itme.\n",
    "    \n",
    "    Parameters\n",
    "    ----------\n",
    "    src : str\n",
    "        The remote *source* for the file, any valid URL should work.\n",
    "    dest : str\n",
    "        The *destination* location to save the downloaded file.\n",
    "        \n",
    "    Returns\n",
    "    -------\n",
    "    str\n",
    "        A string representing the local location of the file.\n",
    "    \"\"\"\n",
    "    \n",
    "    url = urlparse(src) # We assume that this is some kind of valid URL \n",
    "    fn  = os.path.split(url.path)[-1] # Extract the filename\n",
    "    dfn = os.path.join(dest,fn) # Destination filename\n",
    "    \n",
    "    # Check if dest+filename does *not* exist -- \n",
    "    # that would mean we have to download it!\n",
    "    if not os.path.isfile(dfn) or os.path.getsize(dfn) < 1:\n",
    "        \n",
    "        print(f\"{dfn} not found, downloading!\")\n",
    "\n",
    "        # Convert the path back into a list (without)\n",
    "        # the filename -- we need to check that directories\n",
    "        # exist first.\n",
    "        path = os.path.split(dest)\n",
    "        \n",
    "        # Create any missing directories in dest(ination) path\n",
    "        # -- os.path.join is the reverse of split (as you saw above)\n",
    "        # but it doesn't work with lists... so I had to google how\n",
    "        # to use the 'splat' operator! os.makedirs creates missing\n",
    "        # directories in a path automatically.\n",
    "        if len(path) >= 1 and path[0] != '':\n",
    "            os.makedirs(os.path.join(*path), exist_ok=True)\n",
    "            \n",
    "        # Download and write the file\n",
    "        with open(dfn, \"wb\") as file:\n",
    "            response = get(src)\n",
    "            file.write(response.content)\n",
    "            \n",
    "        print('Done downloading...')\n",
    "\n",
    "    else:\n",
    "        print(f\"Found {dfn} locally!\")\n",
    "\n",
    "    return dfn"
   ]
  },
  {
   "cell_type": "code",
   "execution_count": 4,
   "id": "e6f47ddc-7327-4b46-ae65-700039e1e2f4",
   "metadata": {},
   "outputs": [],
   "source": [
    "# This is the Plotting Function Jon wrote\n",
    "def plt_ldn(w, b):\n",
    "    \"\"\"\n",
    "    Creates a new figure of a standard size with the \n",
    "    water (w) and boundary (b) layers set up for easy\n",
    "    plotting. Right now this function assumes that you're\n",
    "    looking at London, but you could parameterise it in\n",
    "    other ways ot allow it to work for other areas.\n",
    "    \n",
    "    w: a water layer for London\n",
    "    b: a borough (or other) boundary layer for London\n",
    "    \"\"\"\n",
    "    fig, ax = plt.subplots(1, figsize=(14, 12))\n",
    "    w.plot(ax=ax, color='#79aef5', zorder=2)\n",
    "    b.plot(ax=ax, edgecolor='#cc2d2d', facecolor='None', zorder=3)\n",
    "    ax.set_xlim([502000,563000])\n",
    "    ax.set_ylim([155000,201500])\n",
    "    ax.spines['top'].set_visible(False)\n",
    "    ax.spines['right'].set_visible(False)\n",
    "    ax.spines['bottom'].set_visible(False)\n",
    "    ax.spines['left'].set_visible(False)\n",
    "    return fig, ax\n",
    "\n",
    "########################\n",
    "# These may no longer be relevant because of changes to geopandas API\n",
    "\n",
    "def default_cmap(n, outliers=False):\n",
    "    cmap = mpl.cm.get_cmap('viridis_r', n)\n",
    "    colors = cmap(np.linspace(0,1,n))\n",
    "    if outliers:\n",
    "        gray = np.array([225/256, 225/256, 225/256, 1])\n",
    "        colors = np.insert(colors, 0, gray, axis=0)\n",
    "    return ListedColormap(colors)\n",
    "\n",
    "# mappable = ax.collections[-1] if you add the geopandas\n",
    "# plot last.\n",
    "def add_colorbar(mappable, ax, cmap, norm, breaks, outliers=False):\n",
    "    cb = fig.colorbar(mappable, ax=ax, cmap=cmap, norm=norm,\n",
    "                    boundaries=breaks,\n",
    "                    extend=('min' if outliers else 'neither'), \n",
    "                    spacing='uniform',\n",
    "                    orientation='horizontal',\n",
    "                    fraction=0.05, shrink=0.5, pad=0.05)\n",
    "    cb.set_label(\"Cluster Number\")"
   ]
  },
  {
   "cell_type": "markdown",
   "id": "8d24b7c5-d8fe-46f5-bc22-c14868b1eb01",
   "metadata": {},
   "source": [
    "### Reading in the Data"
   ]
  },
  {
   "cell_type": "code",
   "execution_count": 8,
   "id": "b7fe96b6-9b82-410a-abb4-75ee97261505",
   "metadata": {},
   "outputs": [],
   "source": [
    "listings2022 = pd.read_csv('listings_2022.csv')\n",
    "#listings2022.to_feather('listings_2022.feather')"
   ]
  },
  {
   "cell_type": "code",
   "execution_count": 9,
   "id": "1f164403-0a6a-469e-bfc2-5fe1a61e17d7",
   "metadata": {},
   "outputs": [
    {
     "name": "stdout",
     "output_type": "stream",
     "text": [
      "Data frame is 69,351 x 75\n"
     ]
    }
   ],
   "source": [
    "print(f\"Data frame is {listings2022.shape[0]:,} x {listings2022.shape[1]}\")"
   ]
  },
  {
   "cell_type": "markdown",
   "id": "7cc57a9f-b94c-4cb2-a7aa-004894b0f081",
   "metadata": {
    "tags": []
   },
   "source": [
    "### Initial Data Cleaning: Booleans, Dates, Categories, Price Strings, Geography\n",
    "Most of this code comes from practical 5"
   ]
  },
  {
   "cell_type": "code",
   "execution_count": 37,
   "id": "8b4cc1ea-64bb-4328-be19-5c8928d9275a",
   "metadata": {},
   "outputs": [],
   "source": [
    "# Here I am parametrising the data by defining the columns so I can work with them more easily. This comes from the FSDS practical 5.\n",
    "cols = ['id', 'listing_url', 'last_scraped', 'name', 'description', 'host_id', 'host_name', \n",
    "        'host_since', 'host_location', 'host_about', 'host_is_superhost', \n",
    "        'host_listings_count', 'host_total_listings_count', 'host_verifications', 'latitude', 'longitude', \n",
    "        'property_type', 'room_type', 'accommodates', 'bathrooms', 'bathrooms_text', 'bedrooms', 'beds', \n",
    "        'amenities', 'price', 'minimum_nights', 'maximum_nights', 'availability_365', 'number_of_reviews', \n",
    "        'first_review', 'last_review', 'review_scores_rating', 'license', 'reviews_per_month', 'has_availability', 'calendar_last_scraped']"
   ]
  },
  {
   "cell_type": "code",
   "execution_count": 20,
   "id": "c6ec4a63-9e6b-4ae6-9164-bda6f0e5b85f",
   "metadata": {},
   "outputs": [],
   "source": [
    "# Here I want to find which columsn have t/f as a value and should be booleans, check how to do this because I just went into the excel doc\n",
    "#listings2022.filter(regex=(\"t\"))"
   ]
  },
  {
   "cell_type": "markdown",
   "id": "d8024137-7893-44c5-8017-919f9d284916",
   "metadata": {},
   "source": [
    "#### Booleans"
   ]
  },
  {
   "cell_type": "code",
   "execution_count": 21,
   "id": "98cc6394-9bb4-40f6-9369-a2eeacd0fd26",
   "metadata": {},
   "outputs": [],
   "source": [
    "# columns that seem to have values that should be booleans\n",
    "bcols = ['instant_bookable', 'host_has_profile_pic', 'host_identity_verified','host_is_superhost', 'has_availability']"
   ]
  },
  {
   "cell_type": "code",
   "execution_count": 22,
   "id": "f9b0704d-b8a3-40f8-afee-02a5494293f0",
   "metadata": {},
   "outputs": [
    {
     "name": "stdout",
     "output_type": "stream",
     "text": [
      "Converting instant_bookable\n",
      "Converting host_has_profile_pic\n",
      "Converting host_identity_verified\n",
      "Converting host_is_superhost\n",
      "Converting has_availability\n"
     ]
    }
   ],
   "source": [
    "# I want to make the dataset more usable and storable so I'll convert certain columns to booleans\n",
    "for b in bcols:\n",
    "    print(f\"Converting {b}\")\n",
    "    listings2022[b] = listings2022[b].replace({'f':False, 't':True}).astype('bool')"
   ]
  },
  {
   "cell_type": "code",
   "execution_count": 31,
   "id": "8f92b853-d2fa-405a-af88-da5eb28ca11b",
   "metadata": {},
   "outputs": [
    {
     "name": "stdout",
     "output_type": "stream",
     "text": [
      "The raw memory usage of `room_type` is 4,908 Kb.\n",
      "The categorical memory usage of `room_type` is 70 Kb.\n",
      "That's 1% of the original!\n"
     ]
    }
   ],
   "source": [
    "rtm = listings2022.room_type.memory_usage(deep=True) # Room Type Memory\n",
    "ctm = listings2022.room_type.astype('category').memory_usage(deep=True) # Categorical Type Memory\n",
    "\n",
    "print(f\"The raw memory usage of `room_type` is {rtm/1000:,.0f} Kb.\")\n",
    "print(f\"The categorical memory usage of `room_type` is {ctm/1000:,.0f} Kb.\")\n",
    "print(f\"That's {(ctm/rtm)*100:.0f}% of the original!\")"
   ]
  },
  {
   "cell_type": "code",
   "execution_count": 36,
   "id": "4d367c08-6615-477b-a09f-3b96d353fd9d",
   "metadata": {},
   "outputs": [],
   "source": [
    "#checking the memory of these now, using code from practical 5\n",
    "\n",
    "#for t in bcols:\n",
    "#    rtm = listings2022[t].memory_usage(deep=True) # Memory for each column\n",
    "#    ctm = listings2022[t].astype('category').memory_usage(deep=True) # Categorical Type Memory\n",
    "\n",
    "#    print(f\"The raw memory usage is {rtm/1000:,.0f} Kb.\")\n",
    "#    print(f\"The categorical memory usage is {ctm/1000:,.0f} Kb.\")\n",
    "#    print(f\"That's {(ctm/rtm)*100:.0f}% of the original!\")"
   ]
  },
  {
   "cell_type": "code",
   "execution_count": 35,
   "id": "512dad70-5ae9-4cc9-9015-fdb9453f79e9",
   "metadata": {},
   "outputs": [
    {
     "data": {
      "text/html": [
       "<div>\n",
       "<style scoped>\n",
       "    .dataframe tbody tr th:only-of-type {\n",
       "        vertical-align: middle;\n",
       "    }\n",
       "\n",
       "    .dataframe tbody tr th {\n",
       "        vertical-align: top;\n",
       "    }\n",
       "\n",
       "    .dataframe thead th {\n",
       "        text-align: right;\n",
       "    }\n",
       "</style>\n",
       "<table border=\"1\" class=\"dataframe\">\n",
       "  <thead>\n",
       "    <tr style=\"text-align: right;\">\n",
       "      <th></th>\n",
       "      <th>instant_bookable</th>\n",
       "      <th>host_has_profile_pic</th>\n",
       "      <th>host_identity_verified</th>\n",
       "      <th>host_is_superhost</th>\n",
       "      <th>has_availability</th>\n",
       "    </tr>\n",
       "  </thead>\n",
       "  <tbody>\n",
       "    <tr>\n",
       "      <th>17512</th>\n",
       "      <td>True</td>\n",
       "      <td>True</td>\n",
       "      <td>True</td>\n",
       "      <td>False</td>\n",
       "      <td>True</td>\n",
       "    </tr>\n",
       "    <tr>\n",
       "      <th>51224</th>\n",
       "      <td>False</td>\n",
       "      <td>True</td>\n",
       "      <td>True</td>\n",
       "      <td>False</td>\n",
       "      <td>True</td>\n",
       "    </tr>\n",
       "    <tr>\n",
       "      <th>788</th>\n",
       "      <td>False</td>\n",
       "      <td>True</td>\n",
       "      <td>False</td>\n",
       "      <td>False</td>\n",
       "      <td>True</td>\n",
       "    </tr>\n",
       "    <tr>\n",
       "      <th>24782</th>\n",
       "      <td>True</td>\n",
       "      <td>True</td>\n",
       "      <td>True</td>\n",
       "      <td>False</td>\n",
       "      <td>True</td>\n",
       "    </tr>\n",
       "    <tr>\n",
       "      <th>18992</th>\n",
       "      <td>False</td>\n",
       "      <td>True</td>\n",
       "      <td>True</td>\n",
       "      <td>False</td>\n",
       "      <td>True</td>\n",
       "    </tr>\n",
       "  </tbody>\n",
       "</table>\n",
       "</div>"
      ],
      "text/plain": [
       "       instant_bookable  host_has_profile_pic  host_identity_verified  \\\n",
       "17512              True                  True                    True   \n",
       "51224             False                  True                    True   \n",
       "788               False                  True                   False   \n",
       "24782              True                  True                    True   \n",
       "18992             False                  True                    True   \n",
       "\n",
       "       host_is_superhost  has_availability  \n",
       "17512              False              True  \n",
       "51224              False              True  \n",
       "788                False              True  \n",
       "24782              False              True  \n",
       "18992              False              True  "
      ]
     },
     "execution_count": 35,
     "metadata": {},
     "output_type": "execute_result"
    }
   ],
   "source": [
    "listings2022.sample(5, random_state=43)[bcols]"
   ]
  },
  {
   "cell_type": "markdown",
   "id": "6071a648-343f-446f-b72e-6bb34825b3ea",
   "metadata": {},
   "source": [
    "#### Dates"
   ]
  },
  {
   "cell_type": "code",
   "execution_count": 39,
   "id": "6638b976-7d8e-4c80-81ac-287474ee5d77",
   "metadata": {},
   "outputs": [
    {
     "data": {
      "text/html": [
       "<div>\n",
       "<style scoped>\n",
       "    .dataframe tbody tr th:only-of-type {\n",
       "        vertical-align: middle;\n",
       "    }\n",
       "\n",
       "    .dataframe tbody tr th {\n",
       "        vertical-align: top;\n",
       "    }\n",
       "\n",
       "    .dataframe thead th {\n",
       "        text-align: right;\n",
       "    }\n",
       "</style>\n",
       "<table border=\"1\" class=\"dataframe\">\n",
       "  <thead>\n",
       "    <tr style=\"text-align: right;\">\n",
       "      <th></th>\n",
       "      <th>last_scraped</th>\n",
       "      <th>host_since</th>\n",
       "      <th>calendar_last_scraped</th>\n",
       "      <th>first_review</th>\n",
       "      <th>last_review</th>\n",
       "    </tr>\n",
       "  </thead>\n",
       "  <tbody>\n",
       "    <tr>\n",
       "      <th>17512</th>\n",
       "      <td>2022-09-11</td>\n",
       "      <td>2014-04-29</td>\n",
       "      <td>2022-09-11</td>\n",
       "      <td>2017-07-01</td>\n",
       "      <td>2017-09-05</td>\n",
       "    </tr>\n",
       "    <tr>\n",
       "      <th>51224</th>\n",
       "      <td>2022-09-11</td>\n",
       "      <td>2015-05-21</td>\n",
       "      <td>2022-09-11</td>\n",
       "      <td>2021-11-12</td>\n",
       "      <td>2021-11-12</td>\n",
       "    </tr>\n",
       "    <tr>\n",
       "      <th>788</th>\n",
       "      <td>2022-09-11</td>\n",
       "      <td>2012-07-13</td>\n",
       "      <td>2022-09-11</td>\n",
       "      <td>NaN</td>\n",
       "      <td>NaN</td>\n",
       "    </tr>\n",
       "    <tr>\n",
       "      <th>24782</th>\n",
       "      <td>2022-09-11</td>\n",
       "      <td>2015-09-04</td>\n",
       "      <td>2022-09-11</td>\n",
       "      <td>2018-06-02</td>\n",
       "      <td>2022-07-04</td>\n",
       "    </tr>\n",
       "    <tr>\n",
       "      <th>18992</th>\n",
       "      <td>2022-09-11</td>\n",
       "      <td>2014-06-08</td>\n",
       "      <td>2022-09-11</td>\n",
       "      <td>2017-08-17</td>\n",
       "      <td>2022-08-17</td>\n",
       "    </tr>\n",
       "  </tbody>\n",
       "</table>\n",
       "</div>"
      ],
      "text/plain": [
       "      last_scraped  host_since calendar_last_scraped first_review last_review\n",
       "17512   2022-09-11  2014-04-29            2022-09-11   2017-07-01  2017-09-05\n",
       "51224   2022-09-11  2015-05-21            2022-09-11   2021-11-12  2021-11-12\n",
       "788     2022-09-11  2012-07-13            2022-09-11          NaN         NaN\n",
       "24782   2022-09-11  2015-09-04            2022-09-11   2018-06-02  2022-07-04\n",
       "18992   2022-09-11  2014-06-08            2022-09-11   2017-08-17  2022-08-17"
      ]
     },
     "execution_count": 39,
     "metadata": {},
     "output_type": "execute_result"
    }
   ],
   "source": [
    "dates = ['last_scraped','host_since', 'calendar_last_scraped','first_review','last_review']\n",
    "listings2022.sample(5, random_state=43)[dates]"
   ]
  },
  {
   "cell_type": "code",
   "execution_count": 40,
   "id": "3740afed-48ca-4ad7-802d-b2c29e5d9ef1",
   "metadata": {},
   "outputs": [
    {
     "name": "stdout",
     "output_type": "stream",
     "text": [
      "Converting last_scraped\n",
      "Converting host_since\n",
      "Converting calendar_last_scraped\n",
      "Converting first_review\n",
      "Converting last_review\n"
     ]
    }
   ],
   "source": [
    "for d in dates:\n",
    "    print(\"Converting \" + d)\n",
    "    listings2022[d] = pd.to_datetime(listings2022[d], infer_datetime_format=True)"
   ]
  },
  {
   "cell_type": "code",
   "execution_count": 49,
   "id": "6c7724a1-14d0-4c06-bf16-8487c01d1700",
   "metadata": {},
   "outputs": [
    {
     "name": "stdout",
     "output_type": "stream",
     "text": [
      "datetime64[ns] \n",
      "\n",
      "10125    Sunday September 11, 2022\n",
      "61320    Sunday September 11, 2022\n",
      "49096    Monday September 12, 2022\n",
      "36687    Monday September 12, 2022\n",
      "6747     Sunday September 11, 2022\n",
      "Name: last_scraped, dtype: object\n",
      "datetime64[ns] \n",
      "\n",
      "10125         Monday March 11, 2013\n",
      "61320     Tuesday November 17, 2009\n",
      "49096          Tuesday May 03, 2016\n",
      "36687    Tuesday September 06, 2016\n",
      "6747      Wednesday August 12, 2015\n",
      "Name: host_since, dtype: object\n",
      "datetime64[ns] \n",
      "\n",
      "10125    Sunday September 11, 2022\n",
      "61320    Sunday September 11, 2022\n",
      "49096    Monday September 12, 2022\n",
      "36687    Monday September 12, 2022\n",
      "6747     Sunday September 11, 2022\n",
      "Name: calendar_last_scraped, dtype: object\n",
      "datetime64[ns] \n",
      "\n",
      "10125    Wednesday November 23, 2016\n",
      "61320                            NaN\n",
      "49096           Sunday July 04, 2021\n",
      "36687         Saturday July 06, 2019\n",
      "6747                             NaN\n",
      "Name: first_review, dtype: object\n",
      "datetime64[ns] \n",
      "\n",
      "10125    Tuesday September 06, 2022\n",
      "61320                           NaN\n",
      "49096        Sunday August 28, 2022\n",
      "36687      Sunday February 23, 2020\n",
      "6747                            NaN\n",
      "Name: last_review, dtype: object\n"
     ]
    }
   ],
   "source": [
    "# This checks that we successfully changed the dates for each\n",
    "for d in dates:\n",
    "    print(listings2022[d].dtype, \"\\n\")\n",
    "    print(listings2022.sample(5, random_state=45)[d].dt.strftime('%A %B %d, %Y'))"
   ]
  },
  {
   "cell_type": "markdown",
   "id": "da1abe34-bf9f-487e-bf72-c2a5610af81a",
   "metadata": {},
   "source": [
    "#### Categories"
   ]
  },
  {
   "cell_type": "code",
   "execution_count": 51,
   "id": "b4022b25-a0f7-4f50-a362-0423854be2ad",
   "metadata": {},
   "outputs": [
    {
     "data": {
      "text/html": [
       "<div>\n",
       "<style scoped>\n",
       "    .dataframe tbody tr th:only-of-type {\n",
       "        vertical-align: middle;\n",
       "    }\n",
       "\n",
       "    .dataframe tbody tr th {\n",
       "        vertical-align: top;\n",
       "    }\n",
       "\n",
       "    .dataframe thead th {\n",
       "        text-align: right;\n",
       "    }\n",
       "</style>\n",
       "<table border=\"1\" class=\"dataframe\">\n",
       "  <thead>\n",
       "    <tr style=\"text-align: right;\">\n",
       "      <th></th>\n",
       "      <th>property_type</th>\n",
       "      <th>room_type</th>\n",
       "      <th>host_location</th>\n",
       "      <th>host_response_time</th>\n",
       "      <th>neighbourhood_cleansed</th>\n",
       "      <th>host_location</th>\n",
       "    </tr>\n",
       "  </thead>\n",
       "  <tbody>\n",
       "    <tr>\n",
       "      <th>26643</th>\n",
       "      <td>Private room in rental unit</td>\n",
       "      <td>Private room</td>\n",
       "      <td>London, United Kingdom</td>\n",
       "      <td>NaN</td>\n",
       "      <td>Tower Hamlets</td>\n",
       "      <td>London, United Kingdom</td>\n",
       "    </tr>\n",
       "    <tr>\n",
       "      <th>15713</th>\n",
       "      <td>Entire rental unit</td>\n",
       "      <td>Entire home/apt</td>\n",
       "      <td>London, United Kingdom</td>\n",
       "      <td>within an hour</td>\n",
       "      <td>Westminster</td>\n",
       "      <td>London, United Kingdom</td>\n",
       "    </tr>\n",
       "    <tr>\n",
       "      <th>67606</th>\n",
       "      <td>Entire home</td>\n",
       "      <td>Entire home/apt</td>\n",
       "      <td>London, United Kingdom</td>\n",
       "      <td>NaN</td>\n",
       "      <td>Croydon</td>\n",
       "      <td>London, United Kingdom</td>\n",
       "    </tr>\n",
       "    <tr>\n",
       "      <th>40703</th>\n",
       "      <td>Entire rental unit</td>\n",
       "      <td>Entire home/apt</td>\n",
       "      <td>England, United Kingdom</td>\n",
       "      <td>NaN</td>\n",
       "      <td>Kensington and Chelsea</td>\n",
       "      <td>England, United Kingdom</td>\n",
       "    </tr>\n",
       "    <tr>\n",
       "      <th>625</th>\n",
       "      <td>Entire rental unit</td>\n",
       "      <td>Entire home/apt</td>\n",
       "      <td>London, United Kingdom</td>\n",
       "      <td>NaN</td>\n",
       "      <td>Kensington and Chelsea</td>\n",
       "      <td>London, United Kingdom</td>\n",
       "    </tr>\n",
       "  </tbody>\n",
       "</table>\n",
       "</div>"
      ],
      "text/plain": [
       "                     property_type        room_type            host_location  \\\n",
       "26643  Private room in rental unit     Private room   London, United Kingdom   \n",
       "15713           Entire rental unit  Entire home/apt   London, United Kingdom   \n",
       "67606                  Entire home  Entire home/apt   London, United Kingdom   \n",
       "40703           Entire rental unit  Entire home/apt  England, United Kingdom   \n",
       "625             Entire rental unit  Entire home/apt   London, United Kingdom   \n",
       "\n",
       "      host_response_time  neighbourhood_cleansed            host_location  \n",
       "26643                NaN           Tower Hamlets   London, United Kingdom  \n",
       "15713     within an hour             Westminster   London, United Kingdom  \n",
       "67606                NaN                 Croydon   London, United Kingdom  \n",
       "40703                NaN  Kensington and Chelsea  England, United Kingdom  \n",
       "625                  NaN  Kensington and Chelsea   London, United Kingdom  "
      ]
     },
     "execution_count": 51,
     "metadata": {},
     "output_type": "execute_result"
    }
   ],
   "source": [
    "# converting to categories, here I am selecting the columns that use categorical data so we can groupby better\n",
    "cats = ['property_type','room_type', 'host_location', 'host_response_time', 'neighbourhood_cleansed', 'host_location']\n",
    "listings2022.sample(5, random_state=42)[cats]"
   ]
  },
  {
   "cell_type": "code",
   "execution_count": 61,
   "id": "2b804a13-c6a2-4d45-aca0-0041f5efa920",
   "metadata": {},
   "outputs": [
    {
     "data": {
      "text/plain": [
       "Entire rental unit             22780\n",
       "Private room in rental unit    12133\n",
       "Entire condo                    8676\n",
       "Private room in home            8500\n",
       "Entire home                     5379\n",
       "                               ...  \n",
       "Shared room in earthen home        1\n",
       "Shared room in villa               1\n",
       "Yurt                               1\n",
       "Shared room in bus                 1\n",
       "Bus                                1\n",
       "Name: property_type, Length: 100, dtype: int64"
      ]
     },
     "execution_count": 61,
     "metadata": {},
     "output_type": "execute_result"
    }
   ],
   "source": [
    "listings2022[cats[0]].value_counts()"
   ]
  },
  {
   "cell_type": "code",
   "execution_count": 62,
   "id": "6e421728-e82c-494a-a1ad-ff165b300c3d",
   "metadata": {},
   "outputs": [
    {
     "name": "stdout",
     "output_type": "stream",
     "text": [
      "Converting property_type\n",
      "Converting room_type\n",
      "Converting host_location\n",
      "Converting host_response_time\n",
      "Converting neighbourhood_cleansed\n",
      "Converting host_location\n"
     ]
    }
   ],
   "source": [
    "for c in cats:\n",
    "    print(f\"Converting {c}\")\n",
    "    listings2022[c] = listings2022[c].astype('category')"
   ]
  },
  {
   "cell_type": "code",
   "execution_count": 64,
   "id": "dcd780d7-4567-42e6-9c59-009a9e00ed76",
   "metadata": {},
   "outputs": [
    {
     "name": "stdout",
     "output_type": "stream",
     "text": [
      "['a few days or more' 'within a day' 'within a few hours' 'within an hour']\n"
     ]
    }
   ],
   "source": [
    "print(listings2022[cats[3]].cat.categories.values)"
   ]
  },
  {
   "cell_type": "markdown",
   "id": "8efd06ad-6430-4e50-902b-12d1d5aeec52",
   "metadata": {},
   "source": [
    "#### Price and String Values"
   ]
  },
  {
   "cell_type": "code",
   "execution_count": 65,
   "id": "26b1f511-1d1a-4f0c-92fa-c5dd7664d404",
   "metadata": {},
   "outputs": [
    {
     "data": {
      "text/html": [
       "<div>\n",
       "<style scoped>\n",
       "    .dataframe tbody tr th:only-of-type {\n",
       "        vertical-align: middle;\n",
       "    }\n",
       "\n",
       "    .dataframe tbody tr th {\n",
       "        vertical-align: top;\n",
       "    }\n",
       "\n",
       "    .dataframe thead th {\n",
       "        text-align: right;\n",
       "    }\n",
       "</style>\n",
       "<table border=\"1\" class=\"dataframe\">\n",
       "  <thead>\n",
       "    <tr style=\"text-align: right;\">\n",
       "      <th></th>\n",
       "      <th>price</th>\n",
       "    </tr>\n",
       "  </thead>\n",
       "  <tbody>\n",
       "    <tr>\n",
       "      <th>26643</th>\n",
       "      <td>$22.00</td>\n",
       "    </tr>\n",
       "    <tr>\n",
       "      <th>15713</th>\n",
       "      <td>$450.00</td>\n",
       "    </tr>\n",
       "    <tr>\n",
       "      <th>67606</th>\n",
       "      <td>$175.00</td>\n",
       "    </tr>\n",
       "    <tr>\n",
       "      <th>40703</th>\n",
       "      <td>$214.00</td>\n",
       "    </tr>\n",
       "    <tr>\n",
       "      <th>625</th>\n",
       "      <td>$50.00</td>\n",
       "    </tr>\n",
       "    <tr>\n",
       "      <th>21460</th>\n",
       "      <td>$80.00</td>\n",
       "    </tr>\n",
       "    <tr>\n",
       "      <th>16731</th>\n",
       "      <td>$125.00</td>\n",
       "    </tr>\n",
       "    <tr>\n",
       "      <th>60779</th>\n",
       "      <td>$154.00</td>\n",
       "    </tr>\n",
       "    <tr>\n",
       "      <th>6370</th>\n",
       "      <td>$45.00</td>\n",
       "    </tr>\n",
       "    <tr>\n",
       "      <th>48603</th>\n",
       "      <td>$145.00</td>\n",
       "    </tr>\n",
       "  </tbody>\n",
       "</table>\n",
       "</div>"
      ],
      "text/plain": [
       "         price\n",
       "26643   $22.00\n",
       "15713  $450.00\n",
       "67606  $175.00\n",
       "40703  $214.00\n",
       "625     $50.00\n",
       "21460   $80.00\n",
       "16731  $125.00\n",
       "60779  $154.00\n",
       "6370    $45.00\n",
       "48603  $145.00"
      ]
     },
     "execution_count": 65,
     "metadata": {},
     "output_type": "execute_result"
    }
   ],
   "source": [
    "money = ['price']\n",
    "listings2022.sample(10, random_state=42)[money]"
   ]
  },
  {
   "cell_type": "code",
   "execution_count": 85,
   "id": "b0b5a691-cb97-46a1-b3e1-4140d0d7f2a3",
   "metadata": {},
   "outputs": [
    {
     "name": "stdout",
     "output_type": "stream",
     "text": [
      "Converting price\n"
     ]
    }
   ],
   "source": [
    "for m in money:\n",
    "    print(f\"Converting {m}\")\n",
    "    listings2022[m] = listings2022[m].str.replace('$','', regex=False).str.replace(',','', regex=False).astype('float')\n",
    "# part of the issue here was that you had to remove the commas as well because it wouldn't convert to a float if you just removed the $"
   ]
  },
  {
   "cell_type": "code",
   "execution_count": 86,
   "id": "0950b73a-1917-462e-87d1-c13fe981b798",
   "metadata": {},
   "outputs": [
    {
     "name": "stdout",
     "output_type": "stream",
     "text": [
      "float64\n"
     ]
    }
   ],
   "source": [
    "print(listings2022.price.dtype)"
   ]
  },
  {
   "cell_type": "code",
   "execution_count": 111,
   "id": "d03c64fb-a020-4df1-bcf0-709a57969f50",
   "metadata": {},
   "outputs": [
    {
     "name": "stdout",
     "output_type": "stream",
     "text": [
      "19\n"
     ]
    }
   ],
   "source": [
    "print(len(listings2022[listings2022['price'] == 0]))"
   ]
  },
  {
   "cell_type": "code",
   "execution_count": 112,
   "id": "bf696007-ce3f-4949-8112-a5e236d50703",
   "metadata": {},
   "outputs": [],
   "source": [
    "priceis0 = (listings2022[listings2022['price'] == 0])"
   ]
  },
  {
   "cell_type": "code",
   "execution_count": 119,
   "id": "c3170936-a34e-466a-bd05-33c11bc1ed8c",
   "metadata": {},
   "outputs": [
    {
     "data": {
      "text/html": [
       "<div>\n",
       "<style scoped>\n",
       "    .dataframe tbody tr th:only-of-type {\n",
       "        vertical-align: middle;\n",
       "    }\n",
       "\n",
       "    .dataframe tbody tr th {\n",
       "        vertical-align: top;\n",
       "    }\n",
       "\n",
       "    .dataframe thead th {\n",
       "        text-align: right;\n",
       "    }\n",
       "</style>\n",
       "<table border=\"1\" class=\"dataframe\">\n",
       "  <thead>\n",
       "    <tr style=\"text-align: right;\">\n",
       "      <th></th>\n",
       "      <th>id</th>\n",
       "      <th>name</th>\n",
       "      <th>price</th>\n",
       "      <th>neighbourhood_cleansed</th>\n",
       "    </tr>\n",
       "  </thead>\n",
       "  <tbody>\n",
       "    <tr>\n",
       "      <th>41538</th>\n",
       "      <td>41132900</td>\n",
       "      <td>Room in canal side apartment</td>\n",
       "      <td>0.00</td>\n",
       "      <td>Tower Hamlets</td>\n",
       "    </tr>\n",
       "    <tr>\n",
       "      <th>42265</th>\n",
       "      <td>42065766</td>\n",
       "      <td>Collingham Serviced Apartments</td>\n",
       "      <td>0.00</td>\n",
       "      <td>Kensington and Chelsea</td>\n",
       "    </tr>\n",
       "    <tr>\n",
       "      <th>42704</th>\n",
       "      <td>42431337</td>\n",
       "      <td>Corus Hyde Park</td>\n",
       "      <td>0.00</td>\n",
       "      <td>Westminster</td>\n",
       "    </tr>\n",
       "    <tr>\n",
       "      <th>42705</th>\n",
       "      <td>42431383</td>\n",
       "      <td>Mornington Hotel London Victoria</td>\n",
       "      <td>0.00</td>\n",
       "      <td>Westminster</td>\n",
       "    </tr>\n",
       "    <tr>\n",
       "      <th>42772</th>\n",
       "      <td>42583430</td>\n",
       "      <td>Dover Castle Hostel</td>\n",
       "      <td>0.00</td>\n",
       "      <td>Southwark</td>\n",
       "    </tr>\n",
       "    <tr>\n",
       "      <th>42835</th>\n",
       "      <td>42535216</td>\n",
       "      <td>PubLove @ The Crown</td>\n",
       "      <td>0.00</td>\n",
       "      <td>Wandsworth</td>\n",
       "    </tr>\n",
       "    <tr>\n",
       "      <th>42836</th>\n",
       "      <td>42535268</td>\n",
       "      <td>PubLove @ The Green Man</td>\n",
       "      <td>0.00</td>\n",
       "      <td>Westminster</td>\n",
       "    </tr>\n",
       "    <tr>\n",
       "      <th>42841</th>\n",
       "      <td>42535294</td>\n",
       "      <td>PubLove @ The White Ferry</td>\n",
       "      <td>0.00</td>\n",
       "      <td>Westminster</td>\n",
       "    </tr>\n",
       "    <tr>\n",
       "      <th>42842</th>\n",
       "      <td>42535301</td>\n",
       "      <td>PubLove @ The Rose &amp; Crown</td>\n",
       "      <td>0.00</td>\n",
       "      <td>Southwark</td>\n",
       "    </tr>\n",
       "    <tr>\n",
       "      <th>43100</th>\n",
       "      <td>42740640</td>\n",
       "      <td>Lord Jim Hotel London Kensington</td>\n",
       "      <td>0.00</td>\n",
       "      <td>Kensington and Chelsea</td>\n",
       "    </tr>\n",
       "    <tr>\n",
       "      <th>43316</th>\n",
       "      <td>43077788</td>\n",
       "      <td>The Milestone Residences</td>\n",
       "      <td>0.00</td>\n",
       "      <td>Kensington and Chelsea</td>\n",
       "    </tr>\n",
       "    <tr>\n",
       "      <th>43617</th>\n",
       "      <td>43308857</td>\n",
       "      <td>Hostel One Notting Hill</td>\n",
       "      <td>0.00</td>\n",
       "      <td>Westminster</td>\n",
       "    </tr>\n",
       "    <tr>\n",
       "      <th>44787</th>\n",
       "      <td>45148705</td>\n",
       "      <td>Brand new private room in Aldgate East Station</td>\n",
       "      <td>0.00</td>\n",
       "      <td>Tower Hamlets</td>\n",
       "    </tr>\n",
       "    <tr>\n",
       "      <th>45985</th>\n",
       "      <td>46234327</td>\n",
       "      <td>CitizenM London Bankside</td>\n",
       "      <td>0.00</td>\n",
       "      <td>Southwark</td>\n",
       "    </tr>\n",
       "    <tr>\n",
       "      <th>46088</th>\n",
       "      <td>46410486</td>\n",
       "      <td>citizenM London Shoreditch</td>\n",
       "      <td>0.00</td>\n",
       "      <td>Hackney</td>\n",
       "    </tr>\n",
       "    <tr>\n",
       "      <th>47132</th>\n",
       "      <td>48579967</td>\n",
       "      <td>Large room  in Islington Co-living apartment</td>\n",
       "      <td>0.00</td>\n",
       "      <td>Islington</td>\n",
       "    </tr>\n",
       "    <tr>\n",
       "      <th>48143</th>\n",
       "      <td>49765360</td>\n",
       "      <td>Brand new private room in Aldgate East Station</td>\n",
       "      <td>0.00</td>\n",
       "      <td>Tower Hamlets</td>\n",
       "    </tr>\n",
       "    <tr>\n",
       "      <th>68023</th>\n",
       "      <td>707014562463781608</td>\n",
       "      <td>Co-living house on Harringay Ladder</td>\n",
       "      <td>0.00</td>\n",
       "      <td>Haringey</td>\n",
       "    </tr>\n",
       "    <tr>\n",
       "      <th>68081</th>\n",
       "      <td>707103111247342385</td>\n",
       "      <td>Co-living house on Harringay Ladder</td>\n",
       "      <td>0.00</td>\n",
       "      <td>Haringey</td>\n",
       "    </tr>\n",
       "  </tbody>\n",
       "</table>\n",
       "</div>"
      ],
      "text/plain": [
       "                       id                                            name  \\\n",
       "41538            41132900                    Room in canal side apartment   \n",
       "42265            42065766                  Collingham Serviced Apartments   \n",
       "42704            42431337                                 Corus Hyde Park   \n",
       "42705            42431383                Mornington Hotel London Victoria   \n",
       "42772            42583430                             Dover Castle Hostel   \n",
       "42835            42535216                             PubLove @ The Crown   \n",
       "42836            42535268                         PubLove @ The Green Man   \n",
       "42841            42535294                       PubLove @ The White Ferry   \n",
       "42842            42535301                      PubLove @ The Rose & Crown   \n",
       "43100            42740640                Lord Jim Hotel London Kensington   \n",
       "43316            43077788                        The Milestone Residences   \n",
       "43617            43308857                         Hostel One Notting Hill   \n",
       "44787            45148705  Brand new private room in Aldgate East Station   \n",
       "45985            46234327                        CitizenM London Bankside   \n",
       "46088            46410486                      citizenM London Shoreditch   \n",
       "47132            48579967    Large room  in Islington Co-living apartment   \n",
       "48143            49765360  Brand new private room in Aldgate East Station   \n",
       "68023  707014562463781608             Co-living house on Harringay Ladder   \n",
       "68081  707103111247342385             Co-living house on Harringay Ladder   \n",
       "\n",
       "       price  neighbourhood_cleansed  \n",
       "41538   0.00           Tower Hamlets  \n",
       "42265   0.00  Kensington and Chelsea  \n",
       "42704   0.00             Westminster  \n",
       "42705   0.00             Westminster  \n",
       "42772   0.00               Southwark  \n",
       "42835   0.00              Wandsworth  \n",
       "42836   0.00             Westminster  \n",
       "42841   0.00             Westminster  \n",
       "42842   0.00               Southwark  \n",
       "43100   0.00  Kensington and Chelsea  \n",
       "43316   0.00  Kensington and Chelsea  \n",
       "43617   0.00             Westminster  \n",
       "44787   0.00           Tower Hamlets  \n",
       "45985   0.00               Southwark  \n",
       "46088   0.00                 Hackney  \n",
       "47132   0.00               Islington  \n",
       "48143   0.00           Tower Hamlets  \n",
       "68023   0.00                Haringey  \n",
       "68081   0.00                Haringey  "
      ]
     },
     "execution_count": 119,
     "metadata": {},
     "output_type": "execute_result"
    }
   ],
   "source": [
    "priceis0.head(19)[['id','name','price','neighbourhood_cleansed']]"
   ]
  },
  {
   "cell_type": "markdown",
   "id": "36478d7f-1ad8-4d15-89fe-69d5c66a29bd",
   "metadata": {},
   "source": [
    "#### Converting other Values to Pandas Integers"
   ]
  },
  {
   "cell_type": "code",
   "execution_count": 120,
   "id": "115a763f-7f69-49ac-b507-556a3d97e0bd",
   "metadata": {},
   "outputs": [
    {
     "name": "stdout",
     "output_type": "stream",
     "text": [
      "Converting id\n",
      "Converting host_id\n",
      "Converting host_listings_count\n",
      "  - !!!Converting to unsigned 16-bit integer!!!\n",
      "Converting host_total_listings_count\n",
      "  - !!!Converting to unsigned 16-bit integer!!!\n",
      "Converting accommodates\n",
      "Converting beds\n",
      "  - !!!Converting to unsigned 16-bit integer!!!\n",
      "Converting minimum_nights\n",
      "Converting maximum_nights\n",
      "Converting availability_365\n"
     ]
    }
   ],
   "source": [
    "ints  = ['id','host_id','host_listings_count','host_total_listings_count','accommodates',\n",
    "         'beds','minimum_nights','maximum_nights','availability_365']\n",
    "for i in ints:\n",
    "    print(f\"Converting {i}\")\n",
    "    try:\n",
    "        listings2022[i] = listings2022[i].astype('float').astype('int')\n",
    "    except ValueError as e:\n",
    "        print(\"  - !!!Converting to unsigned 16-bit integer!!!\")\n",
    "        listings2022[i] = listings2022[i].astype('float').astype(pd.UInt16Dtype())"
   ]
  },
  {
   "cell_type": "code",
   "execution_count": 15,
   "id": "569771bb-7f18-4d4d-8a17-de047add7a66",
   "metadata": {},
   "outputs": [
    {
     "data": {
      "text/html": [
       "<div>\n",
       "<style scoped>\n",
       "    .dataframe tbody tr th:only-of-type {\n",
       "        vertical-align: middle;\n",
       "    }\n",
       "\n",
       "    .dataframe tbody tr th {\n",
       "        vertical-align: top;\n",
       "    }\n",
       "\n",
       "    .dataframe thead th {\n",
       "        text-align: right;\n",
       "    }\n",
       "</style>\n",
       "<table border=\"1\" class=\"dataframe\">\n",
       "  <thead>\n",
       "    <tr style=\"text-align: right;\">\n",
       "      <th></th>\n",
       "      <th>id</th>\n",
       "      <th>listing_url</th>\n",
       "      <th>scrape_id</th>\n",
       "      <th>last_scraped</th>\n",
       "      <th>source</th>\n",
       "      <th>name</th>\n",
       "      <th>description</th>\n",
       "      <th>neighborhood_overview</th>\n",
       "      <th>picture_url</th>\n",
       "      <th>host_id</th>\n",
       "      <th>...</th>\n",
       "      <th>review_scores_location</th>\n",
       "      <th>review_scores_value</th>\n",
       "      <th>license</th>\n",
       "      <th>instant_bookable</th>\n",
       "      <th>calculated_host_listings_count</th>\n",
       "      <th>calculated_host_listings_count_entire_homes</th>\n",
       "      <th>calculated_host_listings_count_private_rooms</th>\n",
       "      <th>calculated_host_listings_count_shared_rooms</th>\n",
       "      <th>reviews_per_month</th>\n",
       "      <th>geometry</th>\n",
       "    </tr>\n",
       "  </thead>\n",
       "  <tbody>\n",
       "  </tbody>\n",
       "</table>\n",
       "<p>0 rows × 76 columns</p>\n",
       "</div>"
      ],
      "text/plain": [
       "Empty GeoDataFrame\n",
       "Columns: [id, listing_url, scrape_id, last_scraped, source, name, description, neighborhood_overview, picture_url, host_id, host_url, host_name, host_since, host_location, host_about, host_response_time, host_response_rate, host_acceptance_rate, host_is_superhost, host_thumbnail_url, host_picture_url, host_neighbourhood, host_listings_count, host_total_listings_count, host_verifications, host_has_profile_pic, host_identity_verified, neighbourhood, neighbourhood_cleansed, neighbourhood_group_cleansed, latitude, longitude, property_type, room_type, accommodates, bathrooms, bathrooms_text, bedrooms, beds, amenities, price, minimum_nights, maximum_nights, minimum_minimum_nights, maximum_minimum_nights, minimum_maximum_nights, maximum_maximum_nights, minimum_nights_avg_ntm, maximum_nights_avg_ntm, calendar_updated, has_availability, availability_30, availability_60, availability_90, availability_365, calendar_last_scraped, number_of_reviews, number_of_reviews_ltm, number_of_reviews_l30d, first_review, last_review, review_scores_rating, review_scores_accuracy, review_scores_cleanliness, review_scores_checkin, review_scores_communication, review_scores_location, review_scores_value, license, instant_bookable, calculated_host_listings_count, calculated_host_listings_count_entire_homes, calculated_host_listings_count_private_rooms, calculated_host_listings_count_shared_rooms, reviews_per_month, geometry]\n",
       "Index: []\n",
       "\n",
       "[0 rows x 76 columns]"
      ]
     },
     "execution_count": 15,
     "metadata": {},
     "output_type": "execute_result"
    }
   ],
   "source": [
    "#check for na\n",
    "listings2022[~(geo_listings2022.price.str.startswith('$', na=False))]"
   ]
  },
  {
   "cell_type": "code",
   "execution_count": 14,
   "id": "209d2ce2-5b10-431b-9e1d-2125804f8b35",
   "metadata": {},
   "outputs": [
    {
     "name": "stdout",
     "output_type": "stream",
     "text": [
      "<class 'geopandas.geodataframe.GeoDataFrame'>\n",
      "RangeIndex: 69351 entries, 0 to 69350\n",
      "Data columns (total 76 columns):\n",
      " #   Column                                        Non-Null Count  Dtype   \n",
      "---  ------                                        --------------  -----   \n",
      " 0   id                                            69351 non-null  int64   \n",
      " 1   listing_url                                   69351 non-null  object  \n",
      " 2   scrape_id                                     69351 non-null  int64   \n",
      " 3   last_scraped                                  69351 non-null  object  \n",
      " 4   source                                        69351 non-null  object  \n",
      " 5   name                                          69330 non-null  object  \n",
      " 6   description                                   67832 non-null  object  \n",
      " 7   neighborhood_overview                         39964 non-null  object  \n",
      " 8   picture_url                                   69351 non-null  object  \n",
      " 9   host_id                                       69351 non-null  int64   \n",
      " 10  host_url                                      69351 non-null  object  \n",
      " 11  host_name                                     69346 non-null  object  \n",
      " 12  host_since                                    69346 non-null  object  \n",
      " 13  host_location                                 56984 non-null  object  \n",
      " 14  host_about                                    36946 non-null  object  \n",
      " 15  host_response_time                            42830 non-null  object  \n",
      " 16  host_response_rate                            42830 non-null  object  \n",
      " 17  host_acceptance_rate                          45090 non-null  object  \n",
      " 18  host_is_superhost                             69332 non-null  object  \n",
      " 19  host_thumbnail_url                            69346 non-null  object  \n",
      " 20  host_picture_url                              69346 non-null  object  \n",
      " 21  host_neighbourhood                            43597 non-null  object  \n",
      " 22  host_listings_count                           69346 non-null  float64 \n",
      " 23  host_total_listings_count                     69346 non-null  float64 \n",
      " 24  host_verifications                            69351 non-null  object  \n",
      " 25  host_has_profile_pic                          69346 non-null  object  \n",
      " 26  host_identity_verified                        69346 non-null  object  \n",
      " 27  neighbourhood                                 39965 non-null  object  \n",
      " 28  neighbourhood_cleansed                        69351 non-null  object  \n",
      " 29  neighbourhood_group_cleansed                  0 non-null      float64 \n",
      " 30  latitude                                      69351 non-null  float64 \n",
      " 31  longitude                                     69351 non-null  float64 \n",
      " 32  property_type                                 69351 non-null  object  \n",
      " 33  room_type                                     69351 non-null  object  \n",
      " 34  accommodates                                  69351 non-null  int64   \n",
      " 35  bathrooms                                     0 non-null      float64 \n",
      " 36  bathrooms_text                                69220 non-null  object  \n",
      " 37  bedrooms                                      65922 non-null  float64 \n",
      " 38  beds                                          68151 non-null  float64 \n",
      " 39  amenities                                     69351 non-null  object  \n",
      " 40  price                                         69351 non-null  object  \n",
      " 41  minimum_nights                                69351 non-null  int64   \n",
      " 42  maximum_nights                                69351 non-null  int64   \n",
      " 43  minimum_minimum_nights                        69348 non-null  float64 \n",
      " 44  maximum_minimum_nights                        69348 non-null  float64 \n",
      " 45  minimum_maximum_nights                        69348 non-null  float64 \n",
      " 46  maximum_maximum_nights                        69348 non-null  float64 \n",
      " 47  minimum_nights_avg_ntm                        69348 non-null  float64 \n",
      " 48  maximum_nights_avg_ntm                        69348 non-null  float64 \n",
      " 49  calendar_updated                              0 non-null      float64 \n",
      " 50  has_availability                              69351 non-null  object  \n",
      " 51  availability_30                               69351 non-null  int64   \n",
      " 52  availability_60                               69351 non-null  int64   \n",
      " 53  availability_90                               69351 non-null  int64   \n",
      " 54  availability_365                              69351 non-null  int64   \n",
      " 55  calendar_last_scraped                         69351 non-null  object  \n",
      " 56  number_of_reviews                             69351 non-null  int64   \n",
      " 57  number_of_reviews_ltm                         69351 non-null  int64   \n",
      " 58  number_of_reviews_l30d                        69351 non-null  int64   \n",
      " 59  first_review                                  52571 non-null  object  \n",
      " 60  last_review                                   52571 non-null  object  \n",
      " 61  review_scores_rating                          52571 non-null  float64 \n",
      " 62  review_scores_accuracy                        51549 non-null  float64 \n",
      " 63  review_scores_cleanliness                     51562 non-null  float64 \n",
      " 64  review_scores_checkin                         51515 non-null  float64 \n",
      " 65  review_scores_communication                   51548 non-null  float64 \n",
      " 66  review_scores_location                        51517 non-null  float64 \n",
      " 67  review_scores_value                           51514 non-null  float64 \n",
      " 68  license                                       0 non-null      float64 \n",
      " 69  instant_bookable                              69351 non-null  object  \n",
      " 70  calculated_host_listings_count                69351 non-null  int64   \n",
      " 71  calculated_host_listings_count_entire_homes   69351 non-null  int64   \n",
      " 72  calculated_host_listings_count_private_rooms  69351 non-null  int64   \n",
      " 73  calculated_host_listings_count_shared_rooms   69351 non-null  int64   \n",
      " 74  reviews_per_month                             52571 non-null  float64 \n",
      " 75  geometry                                      69351 non-null  geometry\n",
      "dtypes: float64(24), geometry(1), int64(17), object(34)\n",
      "memory usage: 40.2+ MB\n"
     ]
    }
   ],
   "source": [
    "listings2022.info(verbose=True)"
   ]
  },
  {
   "cell_type": "code",
   "execution_count": 16,
   "id": "57f1f970-69cb-498d-9a95-301723cb0c39",
   "metadata": {},
   "outputs": [
    {
     "data": {
      "text/plain": [
       "neighbourhood_group_cleansed                   69351\n",
       "calendar_updated                               69351\n",
       "license                                        69351\n",
       "bathrooms                                      69351\n",
       "host_about                                     32405\n",
       "neighborhood_overview                          29387\n",
       "neighbourhood                                  29386\n",
       "host_response_time                             26521\n",
       "host_response_rate                             26521\n",
       "host_neighbourhood                             25754\n",
       "host_acceptance_rate                           24261\n",
       "review_scores_value                            17837\n",
       "review_scores_checkin                          17836\n",
       "review_scores_location                         17834\n",
       "review_scores_communication                    17803\n",
       "review_scores_accuracy                         17802\n",
       "review_scores_cleanliness                      17789\n",
       "review_scores_rating                           16780\n",
       "reviews_per_month                              16780\n",
       "last_review                                    16780\n",
       "first_review                                   16780\n",
       "host_location                                  12367\n",
       "bedrooms                                        3429\n",
       "description                                     1519\n",
       "beds                                            1200\n",
       "bathrooms_text                                   131\n",
       "name                                              21\n",
       "host_is_superhost                                 19\n",
       "host_identity_verified                             5\n",
       "host_total_listings_count                          5\n",
       "host_listings_count                                5\n",
       "host_picture_url                                   5\n",
       "host_thumbnail_url                                 5\n",
       "host_since                                         5\n",
       "host_name                                          5\n",
       "host_has_profile_pic                               5\n",
       "minimum_maximum_nights                             3\n",
       "minimum_nights_avg_ntm                             3\n",
       "maximum_maximum_nights                             3\n",
       "maximum_minimum_nights                             3\n",
       "minimum_minimum_nights                             3\n",
       "maximum_nights_avg_ntm                             3\n",
       "availability_90                                    0\n",
       "calculated_host_listings_count_shared_rooms        0\n",
       "number_of_reviews                                  0\n",
       "dtype: int64"
      ]
     },
     "execution_count": 16,
     "metadata": {},
     "output_type": "execute_result"
    }
   ],
   "source": [
    "#check for columns with most na values but here I will sort them in descending order to get a better visual sense\n",
    "listings2022.isna().sum().sort_values(ascending=False).head(45)"
   ]
  },
  {
   "cell_type": "code",
   "execution_count": 21,
   "id": "ad08d67d-aacc-4ae0-8c69-354fa1776768",
   "metadata": {},
   "outputs": [],
   "source": [
    "#drop listings with na ID values (this is more for the process because there don't appear to be any with no ID)\n",
    "listings2022.drop(listings2022[listings2022.id.isna()].index.array, axis=0, inplace=True)"
   ]
  },
  {
   "cell_type": "code",
   "execution_count": 22,
   "id": "271a402c-7089-422d-b482-6072cb669c49",
   "metadata": {},
   "outputs": [
    {
     "data": {
      "text/plain": [
       "6365     30\n",
       "4511     30\n",
       "7415     30\n",
       "5697     30\n",
       "46088    28\n",
       "45985    28\n",
       "6959     28\n",
       "42836    27\n",
       "43316    26\n",
       "42704    26\n",
       "43100    26\n",
       "43617    26\n",
       "43974    25\n",
       "42734    24\n",
       "34516    24\n",
       "42685    24\n",
       "41873    24\n",
       "42068    24\n",
       "46943    24\n",
       "47153    24\n",
       "dtype: int64"
      ]
     },
     "execution_count": 22,
     "metadata": {},
     "output_type": "execute_result"
    }
   ],
   "source": [
    "#count the null values by the row\n",
    "listings2022.isnull().sum(axis=1).sort_values(ascending=False).head(20)"
   ]
  },
  {
   "cell_type": "code",
   "execution_count": 23,
   "id": "d9d79099-e5b0-4ea7-82ab-02f248794d96",
   "metadata": {},
   "outputs": [],
   "source": [
    "#the \"problem\" rows that have a lot of nan values\n",
    "probs = listings2022.isnull().sum(axis=1)"
   ]
  },
  {
   "cell_type": "code",
   "execution_count": 24,
   "id": "f3f84596-f2f9-4c9f-9673-00d84f49cdd1",
   "metadata": {},
   "outputs": [
    {
     "data": {
      "text/plain": [
       "<AxesSubplot:ylabel='Frequency'>"
      ]
     },
     "execution_count": 24,
     "metadata": {},
     "output_type": "execute_result"
    },
    {
     "data": {
      "image/png": "[encoded data removed]",
      "text/plain": [
       "<Figure size 432x288 with 1 Axes>"
      ]
     },
     "metadata": {
      "needs_background": "light"
     },
     "output_type": "display_data"
    }
   ],
   "source": [
    "probs.plot.hist(bins=30)"
   ]
  },
  {
   "cell_type": "code",
   "execution_count": 12,
   "id": "efdaec16-f3a5-4911-b84a-e12d565ea9f6",
   "metadata": {},
   "outputs": [
    {
     "name": "stdout",
     "output_type": "stream",
     "text": [
      "The bottom-left corner is -0.5236, 51.27248\n",
      "The top-right corner is 0.30515, 51.70893\n",
      "<class 'geopandas.geodataframe.GeoDataFrame'>\n",
      "<class 'geopandas.geoseries.GeoSeries'>\n"
     ]
    },
    {
     "data": {
      "text/plain": [
       "<bound method NDFrame.head of 0         $50.00\n",
       "1         $75.00\n",
       "2         $90.00\n",
       "3         $55.00\n",
       "4        $379.00\n",
       "          ...   \n",
       "69346     $55.00\n",
       "69347    $201.00\n",
       "69348    $246.00\n",
       "69349    $250.00\n",
       "69350    $134.00\n",
       "Name: price, Length: 69351, dtype: object>"
      ]
     },
     "execution_count": 12,
     "metadata": {},
     "output_type": "execute_result"
    }
   ],
   "source": [
    "# Making the Longitude and Latitude in Geographically Usable Data\n",
    "\n",
    "print(f\"The bottom-left corner is {listings2022.longitude.min()}, {listings2022.latitude.min()}\")\n",
    "print(f\"The top-right corner is {listings2022.longitude.max()}, {listings2022.latitude.max()}\")\n",
    "\n",
    "geo_listings2022 = gpd.GeoDataFrame(listings2022,geometry=gpd.points_from_xy(listings2022 .longitude, listings2022 .latitude, crs='epsg:4326'))\n",
    "geo_listings2022.to_crs('epsg:27700')\n",
    "\n",
    "#check the type\n",
    "print(type(geo_listings2022))\n",
    "print(type(geo_listings2022.geometry))\n",
    "geo_listings2022.price.head"
   ]
  },
  {
   "cell_type": "markdown",
   "id": "116a24f5-f856-4d35-8b61-016a18f4aeb2",
   "metadata": {},
   "source": [
    "Thoughts: we should not uses neighbourhood as a field or any about the reviews because we will lose so many listings. Also we should not use info about bathrooms, liscence (does that mean all the listings don't have licenses or they're not displayed? if so, maybe that could be a policy to show they're complying). A substantial amount of hosts do not list a location - also leads to the question if a host might have multiple locations?\n",
    "\n",
    "Before dropping these na values, it might make sense to select the columns you want so you don't accidentally drop a row of a listing that has data you want but an na value in one row. I.e., it has an nan in \"review_scores_checkin\" but we might accidentally delete it. We should clean the date rows and then maybe remove the ones that don't have dates. We need to be more purposefull about which rows we drop (i.e., we can drop rows that have a na date for \"calendar_last_scraped\" if we don't think that row is more generally valuable)\n",
    "\n",
    "We should also chat about which fields should be categorical - i.e., I feel like neighbourhoods should be because we will want to group by them. The host_location field might be a bit more complicated because it is not cleaned like the neighbourhood one. It has 1519 values/locations. Maybe we should use a regex to make these categorical by host country?\n",
    "\n",
    "\n",
    "So, we should drop the following:"
   ]
  },
  {
   "cell_type": "markdown",
   "id": "d7ef6444-79c1-4d04-bd0d-f83144e17cbc",
   "metadata": {},
   "source": [
    "### Just Numeric Data Dataset\n",
    "Numeric columns are:\n",
    "ncols = ['id', 'listing_url', 'last_scraped', 'name', 'description', 'host_id', 'host_name', \n",
    "        'host_since', 'host_location', 'host_about', 'host_is_superhost', \n",
    "        'host_listings_count', 'host_total_listings_count', 'host_verifications', 'latitude', 'longitude', \n",
    "        'property_type', 'room_type', 'accommodates', 'bathrooms', 'bathrooms_text', 'bedrooms', 'beds', \n",
    "        'amenities', 'price', 'minimum_nights', 'maximum_nights', 'availability_365', 'number_of_reviews', \n",
    "        'first_review', 'last_review', 'review_scores_rating', 'license', 'reviews_per_month', 'has_availability', 'calendar_last_scraped']"
   ]
  },
  {
   "cell_type": "code",
   "execution_count": null,
   "id": "cb788c05-7619-4af5-a756-a493d4ce60a4",
   "metadata": {},
   "outputs": [],
   "source": [
    "#add code from prac5"
   ]
  },
  {
   "cell_type": "markdown",
   "id": "c528bf3b-bc6e-4ac7-8f2e-fd040dd80a5d",
   "metadata": {
    "tags": []
   },
   "source": [
    "### Dataset for NLP Analysis"
   ]
  }
 ],
 "metadata": {
  "kernelspec": {
   "display_name": "Python 3 (ipykernel)",
   "language": "python",
   "name": "python3"
  },
  "language_info": {
   "codemirror_mode": {
    "name": "ipython",
    "version": 3
   },
   "file_extension": ".py",
   "mimetype": "text/x-python",
   "name": "python",
   "nbconvert_exporter": "python",
   "pygments_lexer": "ipython3",
   "version": "3.10.5"
  }
 },
 "nbformat": 4,
 "nbformat_minor": 5
}
