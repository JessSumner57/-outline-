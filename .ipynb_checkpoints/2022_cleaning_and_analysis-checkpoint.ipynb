{
 "cells": [
  {
   "cell_type": "markdown",
   "id": "edd9a993-f078-4a2d-a9ed-8e5d7f58fe78",
   "metadata": {},
   "source": [
    "# Inside Airbnb 2022 (4 Jan 2022)"
   ]
  },
  {
   "cell_type": "markdown",
   "id": "b1253431-27d0-4424-a9ca-3e3b8615a1cd",
   "metadata": {},
   "source": [
    "### Importing Packages\n",
    "Here, I am taking the main packages from throughout the practicals as well as some of the functions that Jon uses"
   ]
  },
  {
   "cell_type": "code",
   "execution_count": 1,
   "id": "f5ca7204-525c-4c83-9b8c-4609559b2c5a",
   "metadata": {},
   "outputs": [
    {
     "name": "stderr",
     "output_type": "stream",
     "text": [
      "<jemalloc>: MADV_DONTNEED does not work (memset will be used instead)\n",
      "<jemalloc>: (This is the expected behaviour if you are running under QEMU)\n"
     ]
    }
   ],
   "source": [
    "import os\n",
    "import numpy as np\n",
    "import pandas as pd\n",
    "import geopandas as gpd\n",
    "import seaborn as sns\n",
    "import matplotlib.cm as cm\n",
    "import matplotlib.pyplot as plt\n",
    "import matplotlib as mpl\n",
    "import re\n",
    "import math\n",
    "\n",
    "from matplotlib.colors import ListedColormap\n",
    "\n",
    "# All of these are potentially useful, though\n",
    "# not all have been used in this practical --\n",
    "# I'd suggest exploring the use of different \n",
    "# Scalers/Transformers as well as clustering \n",
    "# algorithms...\n",
    "import sklearn\n",
    "from sklearn.neighbors import NearestNeighbors\n",
    "from sklearn.decomposition import PCA\n",
    "from sklearn.preprocessing import MinMaxScaler, StandardScaler, RobustScaler, PowerTransformer\n",
    "from sklearn.cluster import KMeans, DBSCAN, OPTICS\n",
    "from sklearn.ensemble import RandomForestClassifier\n",
    "from sklearn.metrics import silhouette_samples, silhouette_score\n",
    "from sklearn.preprocessing import OneHotEncoder\n",
    "from sklearn.feature_extraction.text import TfidfVectorizer\n",
    "from sklearn.feature_extraction.text import CountVectorizer\n",
    "from sklearn.decomposition import LatentDirichletAllocation\n",
    "\n",
    "import random\n",
    "random.seed(42)    # For reproducibility\n",
    "np.random.seed(42) # For reproducibility\n",
    "\n",
    "# Make numeric display a bit neater\n",
    "pd.set_option('display.float_format', lambda x: '{:,.2f}'.format(x))"
   ]
  },
  {
   "cell_type": "code",
   "execution_count": 2,
   "id": "0d3bc1d0-d4e1-4731-bb11-02b9f7dde05c",
   "metadata": {},
   "outputs": [],
   "source": [
    "# These are specific to NLP\n",
    "import nltk\n",
    "import spacy\n",
    "from nltk.corpus import wordnet as wn\n",
    "from nltk.stem.wordnet import WordNetLemmatizer\n",
    "\n",
    "from nltk.corpus import stopwords\n",
    "\n",
    "from nltk.tokenize import word_tokenize, sent_tokenize\n",
    "from nltk.tokenize.toktok import ToktokTokenizer\n",
    "\n",
    "from nltk.stem.porter import PorterStemmer\n",
    "from nltk.stem.snowball import SnowballStemmer\n",
    "\n",
    "from nltk import ngrams, FreqDist\n",
    "\n",
    "lemmatizer = WordNetLemmatizer()\n",
    "tokenizer = ToktokTokenizer()\n",
    "mms  = MinMaxScaler(feature_range=(-1,1))\n",
    "stds = StandardScaler()\n",
    "rbs  = RobustScaler()\n",
    "pts  = PowerTransformer()\n",
    "\n",
    "import string\n",
    "import unicodedata\n",
    "from bs4 import BeautifulSoup\n",
    "from wordcloud import WordCloud, STOPWORDS"
   ]
  },
  {
   "cell_type": "code",
   "execution_count": 3,
   "id": "36ab8376-0ba8-4d44-8420-c0e4f50329ed",
   "metadata": {},
   "outputs": [],
   "source": [
    "# This is the Cache Function Jon wrote\n",
    "import os\n",
    "from requests import get\n",
    "from urllib.parse import urlparse\n",
    "\n",
    "def cache_data(src:str, dest:str) -> str:\n",
    "    \"\"\"Downloads and caches a remote file locally.\n",
    "    \n",
    "    The function sits between the 'read' step of a pandas or geopandas\n",
    "    data frame and downloading the file from a remote location. The idea\n",
    "    is that it will save it locally so that you don't need to remember to\n",
    "    do so yourself. Subsequent re-reads of the file will return instantly\n",
    "    rather than downloading the entire file for a second or n-th itme.\n",
    "    \n",
    "    Parameters\n",
    "    ----------\n",
    "    src : str\n",
    "        The remote *source* for the file, any valid URL should work.\n",
    "    dest : str\n",
    "        The *destination* location to save the downloaded file.\n",
    "        \n",
    "    Returns\n",
    "    -------\n",
    "    str\n",
    "        A string representing the local location of the file.\n",
    "    \"\"\"\n",
    "    \n",
    "    url = urlparse(src) # We assume that this is some kind of valid URL \n",
    "    fn  = os.path.split(url.path)[-1] # Extract the filename\n",
    "    dfn = os.path.join(dest,fn) # Destination filename\n",
    "    \n",
    "    # Check if dest+filename does *not* exist -- \n",
    "    # that would mean we have to download it!\n",
    "    if not os.path.isfile(dfn) or os.path.getsize(dfn) < 1:\n",
    "        \n",
    "        print(f\"{dfn} not found, downloading!\")\n",
    "\n",
    "        # Convert the path back into a list (without)\n",
    "        # the filename -- we need to check that directories\n",
    "        # exist first.\n",
    "        path = os.path.split(dest)\n",
    "        \n",
    "        # Create any missing directories in dest(ination) path\n",
    "        # -- os.path.join is the reverse of split (as you saw above)\n",
    "        # but it doesn't work with lists... so I had to google how\n",
    "        # to use the 'splat' operator! os.makedirs creates missing\n",
    "        # directories in a path automatically.\n",
    "        if len(path) >= 1 and path[0] != '':\n",
    "            os.makedirs(os.path.join(*path), exist_ok=True)\n",
    "            \n",
    "        # Download and write the file\n",
    "        with open(dfn, \"wb\") as file:\n",
    "            response = get(src)\n",
    "            file.write(response.content)\n",
    "            \n",
    "        print('Done downloading...')\n",
    "\n",
    "    else:\n",
    "        print(f\"Found {dfn} locally!\")\n",
    "\n",
    "    return dfn"
   ]
  },
  {
   "cell_type": "code",
   "execution_count": 4,
   "id": "e6f47ddc-7327-4b46-ae65-700039e1e2f4",
   "metadata": {},
   "outputs": [],
   "source": [
    "# This is the Plotting Function Jon wrote\n",
    "def plt_ldn(w, b):\n",
    "    \"\"\"\n",
    "    Creates a new figure of a standard size with the \n",
    "    water (w) and boundary (b) layers set up for easy\n",
    "    plotting. Right now this function assumes that you're\n",
    "    looking at London, but you could parameterise it in\n",
    "    other ways ot allow it to work for other areas.\n",
    "    \n",
    "    w: a water layer for London\n",
    "    b: a borough (or other) boundary layer for London\n",
    "    \"\"\"\n",
    "    fig, ax = plt.subplots(1, figsize=(14, 12))\n",
    "    w.plot(ax=ax, color='#79aef5', zorder=2)\n",
    "    b.plot(ax=ax, edgecolor='#cc2d2d', facecolor='None', zorder=3)\n",
    "    ax.set_xlim([502000,563000])\n",
    "    ax.set_ylim([155000,201500])\n",
    "    ax.spines['top'].set_visible(False)\n",
    "    ax.spines['right'].set_visible(False)\n",
    "    ax.spines['bottom'].set_visible(False)\n",
    "    ax.spines['left'].set_visible(False)\n",
    "    return fig, ax\n",
    "\n",
    "########################\n",
    "# These may no longer be relevant because of changes to geopandas API\n",
    "\n",
    "def default_cmap(n, outliers=False):\n",
    "    cmap = mpl.cm.get_cmap('viridis_r', n)\n",
    "    colors = cmap(np.linspace(0,1,n))\n",
    "    if outliers:\n",
    "        gray = np.array([225/256, 225/256, 225/256, 1])\n",
    "        colors = np.insert(colors, 0, gray, axis=0)\n",
    "    return ListedColormap(colors)\n",
    "\n",
    "# mappable = ax.collections[-1] if you add the geopandas\n",
    "# plot last.\n",
    "def add_colorbar(mappable, ax, cmap, norm, breaks, outliers=False):\n",
    "    cb = fig.colorbar(mappable, ax=ax, cmap=cmap, norm=norm,\n",
    "                    boundaries=breaks,\n",
    "                    extend=('min' if outliers else 'neither'), \n",
    "                    spacing='uniform',\n",
    "                    orientation='horizontal',\n",
    "                    fraction=0.05, shrink=0.5, pad=0.05)\n",
    "    cb.set_label(\"Cluster Number\")"
   ]
  },
  {
   "cell_type": "code",
   "execution_count": 5,
   "id": "4deaf443-00be-4489-ad28-fcb3281fcd81",
   "metadata": {},
   "outputs": [],
   "source": [
    "#This is used in NLP to convert string object to be compatible with markdown\n",
    "from IPython.display import display_markdown\n",
    "\n",
    "def as_markdown(head='', body='Some body text'):\n",
    "    if head != '':\n",
    "        display_markdown(f\"##### {head}\\n\\n>{body}\\n\", raw=True)\n",
    "    else:\n",
    "        display_markdown(f\">{body}\\n\", raw=True)"
   ]
  },
  {
   "cell_type": "markdown",
   "id": "8d24b7c5-d8fe-46f5-bc22-c14868b1eb01",
   "metadata": {},
   "source": [
    "### Reading in the Data"
   ]
  },
  {
   "cell_type": "code",
   "execution_count": 6,
   "id": "b7fe96b6-9b82-410a-abb4-75ee97261505",
   "metadata": {},
   "outputs": [
    {
     "name": "stdout",
     "output_type": "stream",
     "text": [
      "Data frame is 69,351 x 75\n"
     ]
    }
   ],
   "source": [
    "listings2022 = pd.read_csv('listings.csv.gz', compression='gzip', low_memory=False)\n",
    "print(f\"Data frame is {listings2022.shape[0]:,} x {listings2022.shape[1]}\")"
   ]
  },
  {
   "cell_type": "markdown",
   "id": "7cc57a9f-b94c-4cb2-a7aa-004894b0f081",
   "metadata": {
    "tags": []
   },
   "source": [
    "### General Data Cleaning: Booleans, Dates, Categories, Price Strings, Geography\n",
    "Most of this code comes from practical 5"
   ]
  },
  {
   "cell_type": "code",
   "execution_count": 7,
   "id": "8b4cc1ea-64bb-4328-be19-5c8928d9275a",
   "metadata": {},
   "outputs": [],
   "source": [
    "# Here I am parametrising the data by defining the columns so I can work with them more easily. This comes from the FSDS practical 5.\n",
    "cols = ['id', 'listing_url', 'last_scraped', 'name', 'description', 'host_id', 'host_name', \n",
    "        'host_since', 'host_location', 'host_about', 'host_is_superhost', \n",
    "        'host_listings_count', 'host_total_listings_count', 'host_verifications', 'latitude', 'longitude', \n",
    "        'property_type', 'room_type', 'accommodates', 'bathrooms', 'bathrooms_text', 'bedrooms', 'beds', \n",
    "        'amenities', 'price', 'minimum_nights', 'maximum_nights', 'availability_365', 'number_of_reviews', \n",
    "        'first_review', 'last_review', 'review_scores_rating', 'license', 'reviews_per_month', 'has_availability', 'calendar_last_scraped']"
   ]
  },
  {
   "cell_type": "markdown",
   "id": "d8024137-7893-44c5-8017-919f9d284916",
   "metadata": {},
   "source": [
    "#### Booleans"
   ]
  },
  {
   "cell_type": "code",
   "execution_count": 8,
   "id": "98cc6394-9bb4-40f6-9369-a2eeacd0fd26",
   "metadata": {},
   "outputs": [],
   "source": [
    "# columns that seem to have values that should be booleans\n",
    "bcols = ['instant_bookable', 'host_has_profile_pic', 'host_identity_verified','host_is_superhost', 'has_availability']"
   ]
  },
  {
   "cell_type": "code",
   "execution_count": 9,
   "id": "c6ec4a63-9e6b-4ae6-9164-bda6f0e5b85f",
   "metadata": {},
   "outputs": [],
   "source": [
    "# Here I want to find which columsn have t/f as a value and should be booleans, check how to do this because I just went into the excel doc\n",
    "#listings2022.filter(regex=(\"t\"))"
   ]
  },
  {
   "cell_type": "code",
   "execution_count": 10,
   "id": "f9b0704d-b8a3-40f8-afee-02a5494293f0",
   "metadata": {},
   "outputs": [
    {
     "name": "stdout",
     "output_type": "stream",
     "text": [
      "Converting instant_bookable\n",
      "Converting host_has_profile_pic\n",
      "Converting host_identity_verified\n",
      "Converting host_is_superhost\n",
      "Converting has_availability\n"
     ]
    }
   ],
   "source": [
    "# I want to make the dataset more usable and storable so I'll convert certain columns to booleans\n",
    "for b in bcols:\n",
    "    print(f\"Converting {b}\")\n",
    "    listings2022[b] = listings2022[b].replace({'f':False, 't':True}).astype('bool')"
   ]
  },
  {
   "cell_type": "code",
   "execution_count": 11,
   "id": "a1ae3bb3-8f85-4e18-bed2-4597c08fcfc6",
   "metadata": {},
   "outputs": [
    {
     "name": "stdout",
     "output_type": "stream",
     "text": [
      "bool\n"
     ]
    }
   ],
   "source": [
    "print(listings2022.has_availability.dtype)\n",
    "#all seem to be booleans but idk why that didn't improve the memory"
   ]
  },
  {
   "cell_type": "code",
   "execution_count": 12,
   "id": "60a21097-f1a9-46f3-963e-492187e09c4d",
   "metadata": {},
   "outputs": [
    {
     "name": "stdout",
     "output_type": "stream",
     "text": [
      "The raw memory usage of `host_is_superhost` is 69 Kb.\n",
      "The boolean memory usage of `host_is_superhost` is 69 Kb.\n",
      "That's 100% of the original!\n"
     ]
    }
   ],
   "source": [
    "shm = listings2022.host_is_superhost.memory_usage(deep=True) # Super Host Memory\n",
    "bhm = listings2022.host_is_superhost.replace({'f':False, 't':True}).astype('bool').memory_usage(deep=True) # Boolean Host Memory\n",
    "\n",
    "print(f\"The raw memory usage of `host_is_superhost` is {shm/1000:,.0f} Kb.\")\n",
    "print(f\"The boolean memory usage of `host_is_superhost` is {bhm/1000:,.0f} Kb.\")\n",
    "print(f\"That's {(bhm/shm)*100:.0f}% of the original!\")"
   ]
  },
  {
   "cell_type": "code",
   "execution_count": 13,
   "id": "512dad70-5ae9-4cc9-9015-fdb9453f79e9",
   "metadata": {},
   "outputs": [
    {
     "data": {
      "text/html": [
       "<div>\n",
       "<style scoped>\n",
       "    .dataframe tbody tr th:only-of-type {\n",
       "        vertical-align: middle;\n",
       "    }\n",
       "\n",
       "    .dataframe tbody tr th {\n",
       "        vertical-align: top;\n",
       "    }\n",
       "\n",
       "    .dataframe thead th {\n",
       "        text-align: right;\n",
       "    }\n",
       "</style>\n",
       "<table border=\"1\" class=\"dataframe\">\n",
       "  <thead>\n",
       "    <tr style=\"text-align: right;\">\n",
       "      <th></th>\n",
       "      <th>instant_bookable</th>\n",
       "      <th>host_has_profile_pic</th>\n",
       "      <th>host_identity_verified</th>\n",
       "      <th>host_is_superhost</th>\n",
       "      <th>has_availability</th>\n",
       "    </tr>\n",
       "  </thead>\n",
       "  <tbody>\n",
       "    <tr>\n",
       "      <th>17512</th>\n",
       "      <td>True</td>\n",
       "      <td>True</td>\n",
       "      <td>True</td>\n",
       "      <td>False</td>\n",
       "      <td>True</td>\n",
       "    </tr>\n",
       "    <tr>\n",
       "      <th>51224</th>\n",
       "      <td>False</td>\n",
       "      <td>True</td>\n",
       "      <td>True</td>\n",
       "      <td>False</td>\n",
       "      <td>True</td>\n",
       "    </tr>\n",
       "    <tr>\n",
       "      <th>788</th>\n",
       "      <td>False</td>\n",
       "      <td>True</td>\n",
       "      <td>False</td>\n",
       "      <td>False</td>\n",
       "      <td>True</td>\n",
       "    </tr>\n",
       "    <tr>\n",
       "      <th>24782</th>\n",
       "      <td>True</td>\n",
       "      <td>True</td>\n",
       "      <td>True</td>\n",
       "      <td>False</td>\n",
       "      <td>True</td>\n",
       "    </tr>\n",
       "    <tr>\n",
       "      <th>18992</th>\n",
       "      <td>False</td>\n",
       "      <td>True</td>\n",
       "      <td>True</td>\n",
       "      <td>False</td>\n",
       "      <td>True</td>\n",
       "    </tr>\n",
       "  </tbody>\n",
       "</table>\n",
       "</div>"
      ],
      "text/plain": [
       "       instant_bookable  host_has_profile_pic  host_identity_verified  \\\n",
       "17512              True                  True                    True   \n",
       "51224             False                  True                    True   \n",
       "788               False                  True                   False   \n",
       "24782              True                  True                    True   \n",
       "18992             False                  True                    True   \n",
       "\n",
       "       host_is_superhost  has_availability  \n",
       "17512              False              True  \n",
       "51224              False              True  \n",
       "788                False              True  \n",
       "24782              False              True  \n",
       "18992              False              True  "
      ]
     },
     "execution_count": 13,
     "metadata": {},
     "output_type": "execute_result"
    }
   ],
   "source": [
    "listings2022.sample(5, random_state=43)[bcols]"
   ]
  },
  {
   "cell_type": "markdown",
   "id": "6071a648-343f-446f-b72e-6bb34825b3ea",
   "metadata": {},
   "source": [
    "#### Dates"
   ]
  },
  {
   "cell_type": "code",
   "execution_count": 14,
   "id": "6638b976-7d8e-4c80-81ac-287474ee5d77",
   "metadata": {},
   "outputs": [
    {
     "data": {
      "text/html": [
       "<div>\n",
       "<style scoped>\n",
       "    .dataframe tbody tr th:only-of-type {\n",
       "        vertical-align: middle;\n",
       "    }\n",
       "\n",
       "    .dataframe tbody tr th {\n",
       "        vertical-align: top;\n",
       "    }\n",
       "\n",
       "    .dataframe thead th {\n",
       "        text-align: right;\n",
       "    }\n",
       "</style>\n",
       "<table border=\"1\" class=\"dataframe\">\n",
       "  <thead>\n",
       "    <tr style=\"text-align: right;\">\n",
       "      <th></th>\n",
       "      <th>last_scraped</th>\n",
       "      <th>host_since</th>\n",
       "      <th>calendar_last_scraped</th>\n",
       "      <th>first_review</th>\n",
       "      <th>last_review</th>\n",
       "    </tr>\n",
       "  </thead>\n",
       "  <tbody>\n",
       "    <tr>\n",
       "      <th>17512</th>\n",
       "      <td>2022-09-11</td>\n",
       "      <td>2014-04-29</td>\n",
       "      <td>2022-09-11</td>\n",
       "      <td>2017-07-01</td>\n",
       "      <td>2017-09-05</td>\n",
       "    </tr>\n",
       "    <tr>\n",
       "      <th>51224</th>\n",
       "      <td>2022-09-11</td>\n",
       "      <td>2015-05-21</td>\n",
       "      <td>2022-09-11</td>\n",
       "      <td>2021-11-12</td>\n",
       "      <td>2021-11-12</td>\n",
       "    </tr>\n",
       "    <tr>\n",
       "      <th>788</th>\n",
       "      <td>2022-09-11</td>\n",
       "      <td>2012-07-13</td>\n",
       "      <td>2022-09-11</td>\n",
       "      <td>NaN</td>\n",
       "      <td>NaN</td>\n",
       "    </tr>\n",
       "    <tr>\n",
       "      <th>24782</th>\n",
       "      <td>2022-09-11</td>\n",
       "      <td>2015-09-04</td>\n",
       "      <td>2022-09-11</td>\n",
       "      <td>2018-06-02</td>\n",
       "      <td>2022-07-04</td>\n",
       "    </tr>\n",
       "    <tr>\n",
       "      <th>18992</th>\n",
       "      <td>2022-09-11</td>\n",
       "      <td>2014-06-08</td>\n",
       "      <td>2022-09-11</td>\n",
       "      <td>2017-08-17</td>\n",
       "      <td>2022-08-17</td>\n",
       "    </tr>\n",
       "  </tbody>\n",
       "</table>\n",
       "</div>"
      ],
      "text/plain": [
       "      last_scraped  host_since calendar_last_scraped first_review last_review\n",
       "17512   2022-09-11  2014-04-29            2022-09-11   2017-07-01  2017-09-05\n",
       "51224   2022-09-11  2015-05-21            2022-09-11   2021-11-12  2021-11-12\n",
       "788     2022-09-11  2012-07-13            2022-09-11          NaN         NaN\n",
       "24782   2022-09-11  2015-09-04            2022-09-11   2018-06-02  2022-07-04\n",
       "18992   2022-09-11  2014-06-08            2022-09-11   2017-08-17  2022-08-17"
      ]
     },
     "execution_count": 14,
     "metadata": {},
     "output_type": "execute_result"
    }
   ],
   "source": [
    "dates = ['last_scraped','host_since', 'calendar_last_scraped','first_review','last_review']\n",
    "listings2022.sample(5, random_state=43)[dates]"
   ]
  },
  {
   "cell_type": "code",
   "execution_count": 15,
   "id": "3740afed-48ca-4ad7-802d-b2c29e5d9ef1",
   "metadata": {},
   "outputs": [
    {
     "name": "stdout",
     "output_type": "stream",
     "text": [
      "Converting last_scraped\n",
      "Converting host_since\n",
      "Converting calendar_last_scraped\n",
      "Converting first_review\n",
      "Converting last_review\n"
     ]
    }
   ],
   "source": [
    "for d in dates:\n",
    "    print(\"Converting \" + d)\n",
    "    listings2022[d] = pd.to_datetime(listings2022[d], infer_datetime_format=True)"
   ]
  },
  {
   "cell_type": "code",
   "execution_count": 16,
   "id": "6c7724a1-14d0-4c06-bf16-8487c01d1700",
   "metadata": {},
   "outputs": [
    {
     "name": "stdout",
     "output_type": "stream",
     "text": [
      "datetime64[ns] \n",
      "\n",
      "10125    Sunday September 11, 2022\n",
      "61320    Sunday September 11, 2022\n",
      "49096    Monday September 12, 2022\n",
      "36687    Monday September 12, 2022\n",
      "6747     Sunday September 11, 2022\n",
      "Name: last_scraped, dtype: object\n",
      "datetime64[ns] \n",
      "\n",
      "10125         Monday March 11, 2013\n",
      "61320     Tuesday November 17, 2009\n",
      "49096          Tuesday May 03, 2016\n",
      "36687    Tuesday September 06, 2016\n",
      "6747      Wednesday August 12, 2015\n",
      "Name: host_since, dtype: object\n",
      "datetime64[ns] \n",
      "\n",
      "10125    Sunday September 11, 2022\n",
      "61320    Sunday September 11, 2022\n",
      "49096    Monday September 12, 2022\n",
      "36687    Monday September 12, 2022\n",
      "6747     Sunday September 11, 2022\n",
      "Name: calendar_last_scraped, dtype: object\n",
      "datetime64[ns] \n",
      "\n",
      "10125    Wednesday November 23, 2016\n",
      "61320                            NaN\n",
      "49096           Sunday July 04, 2021\n",
      "36687         Saturday July 06, 2019\n",
      "6747                             NaN\n",
      "Name: first_review, dtype: object\n",
      "datetime64[ns] \n",
      "\n",
      "10125    Tuesday September 06, 2022\n",
      "61320                           NaN\n",
      "49096        Sunday August 28, 2022\n",
      "36687      Sunday February 23, 2020\n",
      "6747                            NaN\n",
      "Name: last_review, dtype: object\n"
     ]
    }
   ],
   "source": [
    "# This checks that we successfully changed the dates for each\n",
    "for d in dates:\n",
    "    print(listings2022[d].dtype, \"\\n\")\n",
    "    print(listings2022.sample(5, random_state=45)[d].dt.strftime('%A %B %d, %Y'))"
   ]
  },
  {
   "cell_type": "markdown",
   "id": "da1abe34-bf9f-487e-bf72-c2a5610af81a",
   "metadata": {},
   "source": [
    "#### Categories"
   ]
  },
  {
   "cell_type": "code",
   "execution_count": 17,
   "id": "b4022b25-a0f7-4f50-a362-0423854be2ad",
   "metadata": {},
   "outputs": [
    {
     "data": {
      "text/html": [
       "<div>\n",
       "<style scoped>\n",
       "    .dataframe tbody tr th:only-of-type {\n",
       "        vertical-align: middle;\n",
       "    }\n",
       "\n",
       "    .dataframe tbody tr th {\n",
       "        vertical-align: top;\n",
       "    }\n",
       "\n",
       "    .dataframe thead th {\n",
       "        text-align: right;\n",
       "    }\n",
       "</style>\n",
       "<table border=\"1\" class=\"dataframe\">\n",
       "  <thead>\n",
       "    <tr style=\"text-align: right;\">\n",
       "      <th></th>\n",
       "      <th>property_type</th>\n",
       "      <th>room_type</th>\n",
       "      <th>host_location</th>\n",
       "      <th>host_response_time</th>\n",
       "      <th>host_location</th>\n",
       "      <th>neighbourhood_cleansed</th>\n",
       "    </tr>\n",
       "  </thead>\n",
       "  <tbody>\n",
       "    <tr>\n",
       "      <th>26643</th>\n",
       "      <td>Private room in rental unit</td>\n",
       "      <td>Private room</td>\n",
       "      <td>London, United Kingdom</td>\n",
       "      <td>NaN</td>\n",
       "      <td>London, United Kingdom</td>\n",
       "      <td>Tower Hamlets</td>\n",
       "    </tr>\n",
       "    <tr>\n",
       "      <th>15713</th>\n",
       "      <td>Entire rental unit</td>\n",
       "      <td>Entire home/apt</td>\n",
       "      <td>London, United Kingdom</td>\n",
       "      <td>within an hour</td>\n",
       "      <td>London, United Kingdom</td>\n",
       "      <td>Westminster</td>\n",
       "    </tr>\n",
       "    <tr>\n",
       "      <th>67606</th>\n",
       "      <td>Entire home</td>\n",
       "      <td>Entire home/apt</td>\n",
       "      <td>London, United Kingdom</td>\n",
       "      <td>NaN</td>\n",
       "      <td>London, United Kingdom</td>\n",
       "      <td>Croydon</td>\n",
       "    </tr>\n",
       "    <tr>\n",
       "      <th>40703</th>\n",
       "      <td>Entire rental unit</td>\n",
       "      <td>Entire home/apt</td>\n",
       "      <td>England, United Kingdom</td>\n",
       "      <td>NaN</td>\n",
       "      <td>England, United Kingdom</td>\n",
       "      <td>Kensington and Chelsea</td>\n",
       "    </tr>\n",
       "    <tr>\n",
       "      <th>625</th>\n",
       "      <td>Entire rental unit</td>\n",
       "      <td>Entire home/apt</td>\n",
       "      <td>London, United Kingdom</td>\n",
       "      <td>NaN</td>\n",
       "      <td>London, United Kingdom</td>\n",
       "      <td>Kensington and Chelsea</td>\n",
       "    </tr>\n",
       "  </tbody>\n",
       "</table>\n",
       "</div>"
      ],
      "text/plain": [
       "                     property_type        room_type            host_location  \\\n",
       "26643  Private room in rental unit     Private room   London, United Kingdom   \n",
       "15713           Entire rental unit  Entire home/apt   London, United Kingdom   \n",
       "67606                  Entire home  Entire home/apt   London, United Kingdom   \n",
       "40703           Entire rental unit  Entire home/apt  England, United Kingdom   \n",
       "625             Entire rental unit  Entire home/apt   London, United Kingdom   \n",
       "\n",
       "      host_response_time            host_location  neighbourhood_cleansed  \n",
       "26643                NaN   London, United Kingdom           Tower Hamlets  \n",
       "15713     within an hour   London, United Kingdom             Westminster  \n",
       "67606                NaN   London, United Kingdom                 Croydon  \n",
       "40703                NaN  England, United Kingdom  Kensington and Chelsea  \n",
       "625                  NaN   London, United Kingdom  Kensington and Chelsea  "
      ]
     },
     "execution_count": 17,
     "metadata": {},
     "output_type": "execute_result"
    }
   ],
   "source": [
    "# converting to categories, here I am selecting the columns that use categorical data so we can groupby better\n",
    "cats = ['property_type','room_type', 'host_location', 'host_response_time', 'host_location', 'neighbourhood_cleansed']\n",
    "listings2022.sample(5, random_state=42)[cats]"
   ]
  },
  {
   "cell_type": "code",
   "execution_count": 18,
   "id": "2b804a13-c6a2-4d45-aca0-0041f5efa920",
   "metadata": {},
   "outputs": [
    {
     "data": {
      "text/plain": [
       "Entire rental unit             22780\n",
       "Private room in rental unit    12133\n",
       "Entire condo                    8676\n",
       "Private room in home            8500\n",
       "Entire home                     5379\n",
       "                               ...  \n",
       "Shared room in earthen home        1\n",
       "Shared room in villa               1\n",
       "Yurt                               1\n",
       "Shared room in bus                 1\n",
       "Bus                                1\n",
       "Name: property_type, Length: 100, dtype: int64"
      ]
     },
     "execution_count": 18,
     "metadata": {},
     "output_type": "execute_result"
    }
   ],
   "source": [
    "listings2022[cats[0]].value_counts()"
   ]
  },
  {
   "cell_type": "code",
   "execution_count": 19,
   "id": "6e421728-e82c-494a-a1ad-ff165b300c3d",
   "metadata": {},
   "outputs": [
    {
     "name": "stdout",
     "output_type": "stream",
     "text": [
      "Converting property_type\n",
      "Converting room_type\n",
      "Converting host_location\n",
      "Converting host_response_time\n",
      "Converting host_location\n",
      "Converting neighbourhood_cleansed\n"
     ]
    }
   ],
   "source": [
    "for c in cats:\n",
    "    print(f\"Converting {c}\")\n",
    "    listings2022[c] = listings2022[c].astype('category')"
   ]
  },
  {
   "cell_type": "code",
   "execution_count": 20,
   "id": "dcd780d7-4567-42e6-9c59-009a9e00ed76",
   "metadata": {},
   "outputs": [
    {
     "name": "stdout",
     "output_type": "stream",
     "text": [
      "['a few days or more' 'within a day' 'within a few hours' 'within an hour']\n"
     ]
    }
   ],
   "source": [
    "print(listings2022[cats[3]].cat.categories.values)"
   ]
  },
  {
   "cell_type": "markdown",
   "id": "8efd06ad-6430-4e50-902b-12d1d5aeec52",
   "metadata": {},
   "source": [
    "#### Price and String Values"
   ]
  },
  {
   "cell_type": "code",
   "execution_count": 21,
   "id": "26b1f511-1d1a-4f0c-92fa-c5dd7664d404",
   "metadata": {},
   "outputs": [
    {
     "data": {
      "text/html": [
       "<div>\n",
       "<style scoped>\n",
       "    .dataframe tbody tr th:only-of-type {\n",
       "        vertical-align: middle;\n",
       "    }\n",
       "\n",
       "    .dataframe tbody tr th {\n",
       "        vertical-align: top;\n",
       "    }\n",
       "\n",
       "    .dataframe thead th {\n",
       "        text-align: right;\n",
       "    }\n",
       "</style>\n",
       "<table border=\"1\" class=\"dataframe\">\n",
       "  <thead>\n",
       "    <tr style=\"text-align: right;\">\n",
       "      <th></th>\n",
       "      <th>price</th>\n",
       "    </tr>\n",
       "  </thead>\n",
       "  <tbody>\n",
       "    <tr>\n",
       "      <th>26643</th>\n",
       "      <td>$22.00</td>\n",
       "    </tr>\n",
       "    <tr>\n",
       "      <th>15713</th>\n",
       "      <td>$450.00</td>\n",
       "    </tr>\n",
       "    <tr>\n",
       "      <th>67606</th>\n",
       "      <td>$175.00</td>\n",
       "    </tr>\n",
       "    <tr>\n",
       "      <th>40703</th>\n",
       "      <td>$214.00</td>\n",
       "    </tr>\n",
       "    <tr>\n",
       "      <th>625</th>\n",
       "      <td>$50.00</td>\n",
       "    </tr>\n",
       "    <tr>\n",
       "      <th>21460</th>\n",
       "      <td>$80.00</td>\n",
       "    </tr>\n",
       "    <tr>\n",
       "      <th>16731</th>\n",
       "      <td>$125.00</td>\n",
       "    </tr>\n",
       "    <tr>\n",
       "      <th>60779</th>\n",
       "      <td>$154.00</td>\n",
       "    </tr>\n",
       "    <tr>\n",
       "      <th>6370</th>\n",
       "      <td>$45.00</td>\n",
       "    </tr>\n",
       "    <tr>\n",
       "      <th>48603</th>\n",
       "      <td>$145.00</td>\n",
       "    </tr>\n",
       "  </tbody>\n",
       "</table>\n",
       "</div>"
      ],
      "text/plain": [
       "         price\n",
       "26643   $22.00\n",
       "15713  $450.00\n",
       "67606  $175.00\n",
       "40703  $214.00\n",
       "625     $50.00\n",
       "21460   $80.00\n",
       "16731  $125.00\n",
       "60779  $154.00\n",
       "6370    $45.00\n",
       "48603  $145.00"
      ]
     },
     "execution_count": 21,
     "metadata": {},
     "output_type": "execute_result"
    }
   ],
   "source": [
    "money = ['price']\n",
    "listings2022.sample(10, random_state=42)[money]"
   ]
  },
  {
   "cell_type": "code",
   "execution_count": 22,
   "id": "b0b5a691-cb97-46a1-b3e1-4140d0d7f2a3",
   "metadata": {},
   "outputs": [
    {
     "name": "stdout",
     "output_type": "stream",
     "text": [
      "Converting price\n"
     ]
    }
   ],
   "source": [
    "for m in money:\n",
    "    print(f\"Converting {m}\")\n",
    "    listings2022[m] = listings2022[m].str.replace('$','', regex=False).str.replace(',','', regex=False).astype('float')\n",
    "# part of the issue here was that you had to remove the commas as well because it wouldn't convert to a float if you just removed the $"
   ]
  },
  {
   "cell_type": "code",
   "execution_count": 23,
   "id": "0950b73a-1917-462e-87d1-c13fe981b798",
   "metadata": {},
   "outputs": [
    {
     "name": "stdout",
     "output_type": "stream",
     "text": [
      "float64\n"
     ]
    }
   ],
   "source": [
    "print(listings2022.price.dtype)"
   ]
  },
  {
   "cell_type": "code",
   "execution_count": 24,
   "id": "d03c64fb-a020-4df1-bcf0-709a57969f50",
   "metadata": {},
   "outputs": [
    {
     "name": "stdout",
     "output_type": "stream",
     "text": [
      "19\n"
     ]
    }
   ],
   "source": [
    "print(len(listings2022[listings2022['price'] == 0]))"
   ]
  },
  {
   "cell_type": "code",
   "execution_count": 25,
   "id": "bf696007-ce3f-4949-8112-a5e236d50703",
   "metadata": {},
   "outputs": [],
   "source": [
    "priceis0 = (listings2022[listings2022['price'] == 0])"
   ]
  },
  {
   "cell_type": "code",
   "execution_count": 26,
   "id": "c3170936-a34e-466a-bd05-33c11bc1ed8c",
   "metadata": {},
   "outputs": [
    {
     "data": {
      "text/html": [
       "<div>\n",
       "<style scoped>\n",
       "    .dataframe tbody tr th:only-of-type {\n",
       "        vertical-align: middle;\n",
       "    }\n",
       "\n",
       "    .dataframe tbody tr th {\n",
       "        vertical-align: top;\n",
       "    }\n",
       "\n",
       "    .dataframe thead th {\n",
       "        text-align: right;\n",
       "    }\n",
       "</style>\n",
       "<table border=\"1\" class=\"dataframe\">\n",
       "  <thead>\n",
       "    <tr style=\"text-align: right;\">\n",
       "      <th></th>\n",
       "      <th>id</th>\n",
       "      <th>name</th>\n",
       "      <th>price</th>\n",
       "      <th>neighbourhood_cleansed</th>\n",
       "    </tr>\n",
       "  </thead>\n",
       "  <tbody>\n",
       "    <tr>\n",
       "      <th>41538</th>\n",
       "      <td>41132900</td>\n",
       "      <td>Room in canal side apartment</td>\n",
       "      <td>0.00</td>\n",
       "      <td>Tower Hamlets</td>\n",
       "    </tr>\n",
       "    <tr>\n",
       "      <th>42265</th>\n",
       "      <td>42065766</td>\n",
       "      <td>Collingham Serviced Apartments</td>\n",
       "      <td>0.00</td>\n",
       "      <td>Kensington and Chelsea</td>\n",
       "    </tr>\n",
       "    <tr>\n",
       "      <th>42704</th>\n",
       "      <td>42431337</td>\n",
       "      <td>Corus Hyde Park</td>\n",
       "      <td>0.00</td>\n",
       "      <td>Westminster</td>\n",
       "    </tr>\n",
       "    <tr>\n",
       "      <th>42705</th>\n",
       "      <td>42431383</td>\n",
       "      <td>Mornington Hotel London Victoria</td>\n",
       "      <td>0.00</td>\n",
       "      <td>Westminster</td>\n",
       "    </tr>\n",
       "    <tr>\n",
       "      <th>42772</th>\n",
       "      <td>42583430</td>\n",
       "      <td>Dover Castle Hostel</td>\n",
       "      <td>0.00</td>\n",
       "      <td>Southwark</td>\n",
       "    </tr>\n",
       "    <tr>\n",
       "      <th>42835</th>\n",
       "      <td>42535216</td>\n",
       "      <td>PubLove @ The Crown</td>\n",
       "      <td>0.00</td>\n",
       "      <td>Wandsworth</td>\n",
       "    </tr>\n",
       "    <tr>\n",
       "      <th>42836</th>\n",
       "      <td>42535268</td>\n",
       "      <td>PubLove @ The Green Man</td>\n",
       "      <td>0.00</td>\n",
       "      <td>Westminster</td>\n",
       "    </tr>\n",
       "    <tr>\n",
       "      <th>42841</th>\n",
       "      <td>42535294</td>\n",
       "      <td>PubLove @ The White Ferry</td>\n",
       "      <td>0.00</td>\n",
       "      <td>Westminster</td>\n",
       "    </tr>\n",
       "    <tr>\n",
       "      <th>42842</th>\n",
       "      <td>42535301</td>\n",
       "      <td>PubLove @ The Rose &amp; Crown</td>\n",
       "      <td>0.00</td>\n",
       "      <td>Southwark</td>\n",
       "    </tr>\n",
       "    <tr>\n",
       "      <th>43100</th>\n",
       "      <td>42740640</td>\n",
       "      <td>Lord Jim Hotel London Kensington</td>\n",
       "      <td>0.00</td>\n",
       "      <td>Kensington and Chelsea</td>\n",
       "    </tr>\n",
       "    <tr>\n",
       "      <th>43316</th>\n",
       "      <td>43077788</td>\n",
       "      <td>The Milestone Residences</td>\n",
       "      <td>0.00</td>\n",
       "      <td>Kensington and Chelsea</td>\n",
       "    </tr>\n",
       "    <tr>\n",
       "      <th>43617</th>\n",
       "      <td>43308857</td>\n",
       "      <td>Hostel One Notting Hill</td>\n",
       "      <td>0.00</td>\n",
       "      <td>Westminster</td>\n",
       "    </tr>\n",
       "    <tr>\n",
       "      <th>44787</th>\n",
       "      <td>45148705</td>\n",
       "      <td>Brand new private room in Aldgate East Station</td>\n",
       "      <td>0.00</td>\n",
       "      <td>Tower Hamlets</td>\n",
       "    </tr>\n",
       "    <tr>\n",
       "      <th>45985</th>\n",
       "      <td>46234327</td>\n",
       "      <td>CitizenM London Bankside</td>\n",
       "      <td>0.00</td>\n",
       "      <td>Southwark</td>\n",
       "    </tr>\n",
       "    <tr>\n",
       "      <th>46088</th>\n",
       "      <td>46410486</td>\n",
       "      <td>citizenM London Shoreditch</td>\n",
       "      <td>0.00</td>\n",
       "      <td>Hackney</td>\n",
       "    </tr>\n",
       "    <tr>\n",
       "      <th>47132</th>\n",
       "      <td>48579967</td>\n",
       "      <td>Large room  in Islington Co-living apartment</td>\n",
       "      <td>0.00</td>\n",
       "      <td>Islington</td>\n",
       "    </tr>\n",
       "    <tr>\n",
       "      <th>48143</th>\n",
       "      <td>49765360</td>\n",
       "      <td>Brand new private room in Aldgate East Station</td>\n",
       "      <td>0.00</td>\n",
       "      <td>Tower Hamlets</td>\n",
       "    </tr>\n",
       "    <tr>\n",
       "      <th>68023</th>\n",
       "      <td>707014562463781608</td>\n",
       "      <td>Co-living house on Harringay Ladder</td>\n",
       "      <td>0.00</td>\n",
       "      <td>Haringey</td>\n",
       "    </tr>\n",
       "    <tr>\n",
       "      <th>68081</th>\n",
       "      <td>707103111247342385</td>\n",
       "      <td>Co-living house on Harringay Ladder</td>\n",
       "      <td>0.00</td>\n",
       "      <td>Haringey</td>\n",
       "    </tr>\n",
       "  </tbody>\n",
       "</table>\n",
       "</div>"
      ],
      "text/plain": [
       "                       id                                            name  \\\n",
       "41538            41132900                    Room in canal side apartment   \n",
       "42265            42065766                  Collingham Serviced Apartments   \n",
       "42704            42431337                                 Corus Hyde Park   \n",
       "42705            42431383                Mornington Hotel London Victoria   \n",
       "42772            42583430                             Dover Castle Hostel   \n",
       "42835            42535216                             PubLove @ The Crown   \n",
       "42836            42535268                         PubLove @ The Green Man   \n",
       "42841            42535294                       PubLove @ The White Ferry   \n",
       "42842            42535301                      PubLove @ The Rose & Crown   \n",
       "43100            42740640                Lord Jim Hotel London Kensington   \n",
       "43316            43077788                        The Milestone Residences   \n",
       "43617            43308857                         Hostel One Notting Hill   \n",
       "44787            45148705  Brand new private room in Aldgate East Station   \n",
       "45985            46234327                        CitizenM London Bankside   \n",
       "46088            46410486                      citizenM London Shoreditch   \n",
       "47132            48579967    Large room  in Islington Co-living apartment   \n",
       "48143            49765360  Brand new private room in Aldgate East Station   \n",
       "68023  707014562463781608             Co-living house on Harringay Ladder   \n",
       "68081  707103111247342385             Co-living house on Harringay Ladder   \n",
       "\n",
       "       price  neighbourhood_cleansed  \n",
       "41538   0.00           Tower Hamlets  \n",
       "42265   0.00  Kensington and Chelsea  \n",
       "42704   0.00             Westminster  \n",
       "42705   0.00             Westminster  \n",
       "42772   0.00               Southwark  \n",
       "42835   0.00              Wandsworth  \n",
       "42836   0.00             Westminster  \n",
       "42841   0.00             Westminster  \n",
       "42842   0.00               Southwark  \n",
       "43100   0.00  Kensington and Chelsea  \n",
       "43316   0.00  Kensington and Chelsea  \n",
       "43617   0.00             Westminster  \n",
       "44787   0.00           Tower Hamlets  \n",
       "45985   0.00               Southwark  \n",
       "46088   0.00                 Hackney  \n",
       "47132   0.00               Islington  \n",
       "48143   0.00           Tower Hamlets  \n",
       "68023   0.00                Haringey  \n",
       "68081   0.00                Haringey  "
      ]
     },
     "execution_count": 26,
     "metadata": {},
     "output_type": "execute_result"
    }
   ],
   "source": [
    "priceis0.head(19)[['id','name','price','neighbourhood_cleansed']]"
   ]
  },
  {
   "cell_type": "markdown",
   "id": "36478d7f-1ad8-4d15-89fe-69d5c66a29bd",
   "metadata": {},
   "source": [
    "#### Converting other Values to Pandas Integers"
   ]
  },
  {
   "cell_type": "code",
   "execution_count": 27,
   "id": "115a763f-7f69-49ac-b507-556a3d97e0bd",
   "metadata": {},
   "outputs": [
    {
     "name": "stdout",
     "output_type": "stream",
     "text": [
      "Converting id\n",
      "Converting host_id\n",
      "Converting host_listings_count\n",
      "  - !!!Converting to unsigned 16-bit integer!!!\n",
      "Converting host_total_listings_count\n",
      "  - !!!Converting to unsigned 16-bit integer!!!\n",
      "Converting accommodates\n",
      "Converting beds\n",
      "  - !!!Converting to unsigned 16-bit integer!!!\n",
      "Converting minimum_nights\n",
      "Converting maximum_nights\n",
      "Converting availability_365\n"
     ]
    }
   ],
   "source": [
    "ints  = ['id','host_id','host_listings_count','host_total_listings_count','accommodates',\n",
    "         'beds','minimum_nights','maximum_nights','availability_365']\n",
    "for i in ints:\n",
    "    print(f\"Converting {i}\")\n",
    "    try:\n",
    "        listings2022[i] = listings2022[i].astype('float').astype('int')\n",
    "    except ValueError as e:\n",
    "        print(\"  - !!!Converting to unsigned 16-bit integer!!!\")\n",
    "        listings2022[i] = listings2022[i].astype('float').astype(pd.UInt16Dtype())"
   ]
  },
  {
   "cell_type": "code",
   "execution_count": 28,
   "id": "e6f357e7-77d3-432e-a2cc-eeb03689e869",
   "metadata": {},
   "outputs": [],
   "source": [
    "#exporting cleaned file, this comes from practical 5 too"
   ]
  },
  {
   "cell_type": "code",
   "execution_count": 29,
   "id": "0080c204-793f-4890-a246-b6c83b83d55b",
   "metadata": {},
   "outputs": [],
   "source": [
    "# path = os.path.join('data','raw') # A default location to save raw data\n",
    "# fn   = listings2022\n",
    "# print(f\"Writing to: {fn}\")"
   ]
  },
  {
   "cell_type": "code",
   "execution_count": 30,
   "id": "9fcdd0e8-3588-4234-905c-7348fe10e39f",
   "metadata": {},
   "outputs": [],
   "source": [
    "# testing = True\n",
    "\n",
    "# if testing:\n",
    "#     listings2022 = pd.read_csv(os.path.join(path,'listings_2022.csv.gz'), \n",
    "#                 low_memory=False, usecols=cols, nrows=10000)\n",
    "# else:\n",
    "#     listings2022 = pd.read_csv(os.path.join(path,'listings_2022.csv.gz'), \n",
    "#                 low_memory=False, usecols=cols)\n",
    "\n",
    "# print(f\"Data frame is {df.shape[0]:,} x {df.shape[1]}\")"
   ]
  },
  {
   "cell_type": "code",
   "execution_count": 31,
   "id": "81ceca39-495f-4f21-969c-898a8557bed2",
   "metadata": {},
   "outputs": [],
   "source": [
    "# path = os.path.join('data','clean')\n",
    "\n",
    "# if not os.path.exists(path):\n",
    "#     print(f\"Creating {path} under {os.getcwd()}\")\n",
    "#     os.makedirs(path)\n",
    "    \n",
    "# listings2022.to_csv(os.path.join(path,'listings_2022.csv'.replace('.csv','-testing.csv' if testing else '.csv')), index=False)\n",
    "# print(\"Done.\")"
   ]
  },
  {
   "cell_type": "code",
   "execution_count": 32,
   "id": "00cd491d-d3b7-48ee-a12d-25ad4c26a06e",
   "metadata": {},
   "outputs": [],
   "source": [
    "# listings2022.reset_index().to_feather(os.path.join(path,'listings_2022.csv'.replace('.csv.gz','-testing.feather' if testing else '.feather')))"
   ]
  },
  {
   "cell_type": "code",
   "execution_count": 33,
   "id": "efdaec16-f3a5-4911-b84a-e12d565ea9f6",
   "metadata": {},
   "outputs": [
    {
     "name": "stdout",
     "output_type": "stream",
     "text": [
      "The bottom-left corner is -0.5236, 51.27248\n",
      "The top-right corner is 0.30515, 51.70893\n",
      "<class 'geopandas.geodataframe.GeoDataFrame'>\n",
      "<class 'geopandas.geoseries.GeoSeries'>\n"
     ]
    },
    {
     "data": {
      "text/plain": [
       "<bound method NDFrame.head of 0        50.00\n",
       "1        75.00\n",
       "2        90.00\n",
       "3        55.00\n",
       "4       379.00\n",
       "         ...  \n",
       "69346    55.00\n",
       "69347   201.00\n",
       "69348   246.00\n",
       "69349   250.00\n",
       "69350   134.00\n",
       "Name: price, Length: 69351, dtype: float64>"
      ]
     },
     "execution_count": 33,
     "metadata": {},
     "output_type": "execute_result"
    }
   ],
   "source": [
    "# Making the Longitude and Latitude in Geographically Usable Data\n",
    "\n",
    "print(f\"The bottom-left corner is {listings2022.longitude.min()}, {listings2022.latitude.min()}\")\n",
    "print(f\"The top-right corner is {listings2022.longitude.max()}, {listings2022.latitude.max()}\")\n",
    "\n",
    "geo_listings2022 = gpd.GeoDataFrame(listings2022,geometry=gpd.points_from_xy(listings2022 .longitude, listings2022 .latitude, crs='epsg:4326'))\n",
    "geo_listings2022.to_crs('epsg:27700')\n",
    "\n",
    "#check the type\n",
    "print(type(geo_listings2022))\n",
    "print(type(geo_listings2022.geometry))\n",
    "geo_listings2022.price.head"
   ]
  },
  {
   "cell_type": "markdown",
   "id": "483d4c39-622e-4fad-9716-c681bdc4fac3",
   "metadata": {},
   "source": [
    "### Saving Cleaned Data Files"
   ]
  },
  {
   "cell_type": "code",
   "execution_count": 34,
   "id": "b141ccb5-254c-439c-a79b-7a2f1a629e75",
   "metadata": {},
   "outputs": [],
   "source": [
    "# Save general cleaned data\n",
    "#listings2022.to_csv('2022listingsclean.csv')"
   ]
  },
  {
   "cell_type": "code",
   "execution_count": 35,
   "id": "dc50fde4-ad14-468b-bb3f-3771c2992092",
   "metadata": {},
   "outputs": [],
   "source": [
    "# Save spatial cleaned data\n",
    "#geo_listings2022.to_csv('geo_2022listingsclean.csv')"
   ]
  },
  {
   "cell_type": "markdown",
   "id": "8f747dca-2ed1-4654-91ff-c5a2789a7bc6",
   "metadata": {},
   "source": [
    "### NaNs and Nulls"
   ]
  },
  {
   "cell_type": "code",
   "execution_count": 36,
   "id": "569771bb-7f18-4d4d-8a17-de047add7a66",
   "metadata": {},
   "outputs": [],
   "source": [
    "# #check for na\n",
    "# listings2022[~(geo_listings2022.price.str.startswith('$', na=False))]"
   ]
  },
  {
   "cell_type": "code",
   "execution_count": 37,
   "id": "209d2ce2-5b10-431b-9e1d-2125804f8b35",
   "metadata": {},
   "outputs": [],
   "source": [
    "# listings2022.info(verbose=True)"
   ]
  },
  {
   "cell_type": "code",
   "execution_count": 38,
   "id": "57f1f970-69cb-498d-9a95-301723cb0c39",
   "metadata": {},
   "outputs": [],
   "source": [
    "# #check for columns with most na values but here I will sort them in descending order to get a better visual sense\n",
    "# listings2022.isna().sum().sort_values(ascending=False).head(45)"
   ]
  },
  {
   "cell_type": "code",
   "execution_count": 39,
   "id": "ad08d67d-aacc-4ae0-8c69-354fa1776768",
   "metadata": {},
   "outputs": [],
   "source": [
    "# #drop listings with na ID values (this is more for the process because there don't appear to be any with no ID)\n",
    "# listings2022.drop(listings2022[listings2022.id.isna()].index.array, axis=0, inplace=True)"
   ]
  },
  {
   "cell_type": "code",
   "execution_count": 40,
   "id": "271a402c-7089-422d-b482-6072cb669c49",
   "metadata": {},
   "outputs": [],
   "source": [
    "# #count the null values by the row\n",
    "# listings2022.isnull().sum(axis=1).sort_values(ascending=False).head(20)"
   ]
  },
  {
   "cell_type": "code",
   "execution_count": 41,
   "id": "d9d79099-e5b0-4ea7-82ab-02f248794d96",
   "metadata": {},
   "outputs": [],
   "source": [
    "# #the \"problem\" rows that have a lot of nan values\n",
    "# probs = listings2022.isnull().sum(axis=1)"
   ]
  },
  {
   "cell_type": "code",
   "execution_count": 42,
   "id": "f3f84596-f2f9-4c9f-9673-00d84f49cdd1",
   "metadata": {},
   "outputs": [],
   "source": [
    "# probs.plot.hist(bins=30)"
   ]
  },
  {
   "cell_type": "markdown",
   "id": "116a24f5-f856-4d35-8b61-016a18f4aeb2",
   "metadata": {},
   "source": [
    "Thoughts: we should not uses neighbourhood as a field or any about the reviews because we will lose so many listings. Also we should not use info about bathrooms, liscence (does that mean all the listings don't have licenses or they're not displayed? if so, maybe that could be a policy to show they're complying). A substantial amount of hosts do not list a location - also leads to the question if a host might have multiple locations?\n",
    "\n",
    "Before dropping these na values, it might make sense to select the columns you want so you don't accidentally drop a row of a listing that has data you want but an na value in one row. I.e., it has an nan in \"review_scores_checkin\" but we might accidentally delete it. We should clean the date rows and then maybe remove the ones that don't have dates. We need to be more purposefull about which rows we drop (i.e., we can drop rows that have a na date for \"calendar_last_scraped\" if we don't think that row is more generally valuable)\n",
    "\n",
    "We should also chat about which fields should be categorical - i.e., I feel like neighbourhoods should be because we will want to group by them. The host_location field might be a bit more complicated because it is not cleaned like the neighbourhood one. It has 1519 values/locations. Maybe we should use a regex to make these categorical by host country?\n",
    "\n",
    "\n",
    "So, we should drop the following:"
   ]
  },
  {
   "cell_type": "markdown",
   "id": "d7ef6444-79c1-4d04-bd0d-f83144e17cbc",
   "metadata": {},
   "source": [
    "### Focused Cleaning\n",
    "cols = ['id', 'name', 'description', 'host_id', 'host_location', 'host_listings_count', 'host_total_listings_count', 'latitude', 'longitude', 'property_type', 'rom_type','price', 'accomodates' 'minimum_nights', 'maximum_nights']"
   ]
  },
  {
   "cell_type": "code",
   "execution_count": 43,
   "id": "cb788c05-7619-4af5-a756-a493d4ce60a4",
   "metadata": {},
   "outputs": [],
   "source": [
    "fcols = ['id', 'name', 'description', 'host_id', 'host_location', 'host_listings_count', 'host_total_listings_count', 'neighbourhood_cleansed', 'latitude', 'longitude', 'property_type', 'room_type','price', 'minimum_nights', 'maximum_nights', 'geometry']\n",
    "geo_listings2022_cleaned = geo_listings2022[fcols]"
   ]
  },
  {
   "cell_type": "code",
   "execution_count": 44,
   "id": "7c480e20-6394-47b3-8bfe-4d13a95599b2",
   "metadata": {},
   "outputs": [
    {
     "data": {
      "text/html": [
       "<div>\n",
       "<style scoped>\n",
       "    .dataframe tbody tr th:only-of-type {\n",
       "        vertical-align: middle;\n",
       "    }\n",
       "\n",
       "    .dataframe tbody tr th {\n",
       "        vertical-align: top;\n",
       "    }\n",
       "\n",
       "    .dataframe thead th {\n",
       "        text-align: right;\n",
       "    }\n",
       "</style>\n",
       "<table border=\"1\" class=\"dataframe\">\n",
       "  <thead>\n",
       "    <tr style=\"text-align: right;\">\n",
       "      <th></th>\n",
       "      <th>id</th>\n",
       "      <th>name</th>\n",
       "      <th>description</th>\n",
       "      <th>host_id</th>\n",
       "      <th>host_location</th>\n",
       "      <th>host_listings_count</th>\n",
       "      <th>host_total_listings_count</th>\n",
       "      <th>neighbourhood_cleansed</th>\n",
       "      <th>latitude</th>\n",
       "      <th>longitude</th>\n",
       "      <th>property_type</th>\n",
       "      <th>room_type</th>\n",
       "      <th>price</th>\n",
       "      <th>minimum_nights</th>\n",
       "      <th>maximum_nights</th>\n",
       "      <th>geometry</th>\n",
       "    </tr>\n",
       "  </thead>\n",
       "  <tbody>\n",
       "    <tr>\n",
       "      <th>0</th>\n",
       "      <td>13913</td>\n",
       "      <td>Holiday London DB Room Let-on going</td>\n",
       "      <td>My bright double bedroom with a large window h...</td>\n",
       "      <td>54730</td>\n",
       "      <td>London, United Kingdom</td>\n",
       "      <td>3</td>\n",
       "      <td>4</td>\n",
       "      <td>Islington</td>\n",
       "      <td>51.57</td>\n",
       "      <td>-0.11</td>\n",
       "      <td>Private room in rental unit</td>\n",
       "      <td>Private room</td>\n",
       "      <td>50.00</td>\n",
       "      <td>1</td>\n",
       "      <td>29</td>\n",
       "      <td>POINT (-0.11270 51.56861)</td>\n",
       "    </tr>\n",
       "    <tr>\n",
       "      <th>1</th>\n",
       "      <td>15400</td>\n",
       "      <td>Bright Chelsea  Apartment. Chelsea!</td>\n",
       "      <td>Lots of windows and light.  St Luke's Gardens ...</td>\n",
       "      <td>60302</td>\n",
       "      <td>Kensington, United Kingdom</td>\n",
       "      <td>1</td>\n",
       "      <td>12</td>\n",
       "      <td>Kensington and Chelsea</td>\n",
       "      <td>51.49</td>\n",
       "      <td>-0.17</td>\n",
       "      <td>Entire rental unit</td>\n",
       "      <td>Entire home/apt</td>\n",
       "      <td>75.00</td>\n",
       "      <td>3</td>\n",
       "      <td>50</td>\n",
       "      <td>POINT (-0.16813 51.48780)</td>\n",
       "    </tr>\n",
       "    <tr>\n",
       "      <th>2</th>\n",
       "      <td>284532</td>\n",
       "      <td>COSY STUDIO-FLAT WITH A GREAT  VIEW</td>\n",
       "      <td>My very RECENTLY RENOVATED flat is located in ...</td>\n",
       "      <td>1481412</td>\n",
       "      <td>London, United Kingdom</td>\n",
       "      <td>1</td>\n",
       "      <td>3</td>\n",
       "      <td>Tower Hamlets</td>\n",
       "      <td>51.53</td>\n",
       "      <td>-0.07</td>\n",
       "      <td>Entire rental unit</td>\n",
       "      <td>Entire home/apt</td>\n",
       "      <td>90.00</td>\n",
       "      <td>5</td>\n",
       "      <td>365</td>\n",
       "      <td>POINT (-0.07426 51.52851)</td>\n",
       "    </tr>\n",
       "    <tr>\n",
       "      <th>3</th>\n",
       "      <td>106332</td>\n",
       "      <td>Lovely large room, Bethnal Green</td>\n",
       "      <td>Lovely characterful room in a house belonging ...</td>\n",
       "      <td>264345</td>\n",
       "      <td>London, United Kingdom</td>\n",
       "      <td>2</td>\n",
       "      <td>5</td>\n",
       "      <td>Tower Hamlets</td>\n",
       "      <td>51.53</td>\n",
       "      <td>-0.05</td>\n",
       "      <td>Private room in home</td>\n",
       "      <td>Private room</td>\n",
       "      <td>55.00</td>\n",
       "      <td>3</td>\n",
       "      <td>365</td>\n",
       "      <td>POINT (-0.05396 51.52874)</td>\n",
       "    </tr>\n",
       "    <tr>\n",
       "      <th>4</th>\n",
       "      <td>17402</td>\n",
       "      <td>Superb 3-Bed/2 Bath &amp; Wifi: Trendy W1</td>\n",
       "      <td>You'll have a wonderful stay in this superb mo...</td>\n",
       "      <td>67564</td>\n",
       "      <td>London, United Kingdom</td>\n",
       "      <td>6</td>\n",
       "      <td>32</td>\n",
       "      <td>Westminster</td>\n",
       "      <td>51.52</td>\n",
       "      <td>-0.14</td>\n",
       "      <td>Entire rental unit</td>\n",
       "      <td>Entire home/apt</td>\n",
       "      <td>379.00</td>\n",
       "      <td>4</td>\n",
       "      <td>365</td>\n",
       "      <td>POINT (-0.14094 51.52195)</td>\n",
       "    </tr>\n",
       "  </tbody>\n",
       "</table>\n",
       "</div>"
      ],
      "text/plain": [
       "       id                                   name  \\\n",
       "0   13913    Holiday London DB Room Let-on going   \n",
       "1   15400    Bright Chelsea  Apartment. Chelsea!   \n",
       "2  284532    COSY STUDIO-FLAT WITH A GREAT  VIEW   \n",
       "3  106332       Lovely large room, Bethnal Green   \n",
       "4   17402  Superb 3-Bed/2 Bath & Wifi: Trendy W1   \n",
       "\n",
       "                                         description  host_id  \\\n",
       "0  My bright double bedroom with a large window h...    54730   \n",
       "1  Lots of windows and light.  St Luke's Gardens ...    60302   \n",
       "2  My very RECENTLY RENOVATED flat is located in ...  1481412   \n",
       "3  Lovely characterful room in a house belonging ...   264345   \n",
       "4  You'll have a wonderful stay in this superb mo...    67564   \n",
       "\n",
       "                host_location  host_listings_count  host_total_listings_count  \\\n",
       "0      London, United Kingdom                    3                          4   \n",
       "1  Kensington, United Kingdom                    1                         12   \n",
       "2      London, United Kingdom                    1                          3   \n",
       "3      London, United Kingdom                    2                          5   \n",
       "4      London, United Kingdom                    6                         32   \n",
       "\n",
       "   neighbourhood_cleansed  latitude  longitude                property_type  \\\n",
       "0               Islington     51.57      -0.11  Private room in rental unit   \n",
       "1  Kensington and Chelsea     51.49      -0.17           Entire rental unit   \n",
       "2           Tower Hamlets     51.53      -0.07           Entire rental unit   \n",
       "3           Tower Hamlets     51.53      -0.05         Private room in home   \n",
       "4             Westminster     51.52      -0.14           Entire rental unit   \n",
       "\n",
       "         room_type  price  minimum_nights  maximum_nights  \\\n",
       "0     Private room  50.00               1              29   \n",
       "1  Entire home/apt  75.00               3              50   \n",
       "2  Entire home/apt  90.00               5             365   \n",
       "3     Private room  55.00               3             365   \n",
       "4  Entire home/apt 379.00               4             365   \n",
       "\n",
       "                    geometry  \n",
       "0  POINT (-0.11270 51.56861)  \n",
       "1  POINT (-0.16813 51.48780)  \n",
       "2  POINT (-0.07426 51.52851)  \n",
       "3  POINT (-0.05396 51.52874)  \n",
       "4  POINT (-0.14094 51.52195)  "
      ]
     },
     "execution_count": 44,
     "metadata": {},
     "output_type": "execute_result"
    }
   ],
   "source": [
    "geo_listings2022_cleaned.head(5)"
   ]
  },
  {
   "cell_type": "code",
   "execution_count": 45,
   "id": "d340ea95-2966-4a05-aff9-934a70549cb4",
   "metadata": {},
   "outputs": [
    {
     "name": "stdout",
     "output_type": "stream",
     "text": [
      "<class 'geopandas.geodataframe.GeoDataFrame'>\n",
      "RangeIndex: 69351 entries, 0 to 69350\n",
      "Data columns (total 16 columns):\n",
      " #   Column                     Non-Null Count  Dtype   \n",
      "---  ------                     --------------  -----   \n",
      " 0   id                         69351 non-null  int64   \n",
      " 1   name                       69330 non-null  object  \n",
      " 2   description                67832 non-null  object  \n",
      " 3   host_id                    69351 non-null  int64   \n",
      " 4   host_location              56984 non-null  category\n",
      " 5   host_listings_count        69346 non-null  UInt16  \n",
      " 6   host_total_listings_count  69346 non-null  UInt16  \n",
      " 7   neighbourhood_cleansed     69351 non-null  category\n",
      " 8   latitude                   69351 non-null  float64 \n",
      " 9   longitude                  69351 non-null  float64 \n",
      " 10  property_type              69351 non-null  category\n",
      " 11  room_type                  69351 non-null  category\n",
      " 12  price                      69351 non-null  float64 \n",
      " 13  minimum_nights             69351 non-null  int64   \n",
      " 14  maximum_nights             69351 non-null  int64   \n",
      " 15  geometry                   69351 non-null  geometry\n",
      "dtypes: UInt16(2), category(4), float64(3), geometry(1), int64(4), object(2)\n",
      "memory usage: 6.1+ MB\n"
     ]
    }
   ],
   "source": [
    "geo_listings2022_cleaned.info(verbose=True)"
   ]
  },
  {
   "cell_type": "code",
   "execution_count": 46,
   "id": "c3361b29-46ef-44ff-84fa-c50842675eae",
   "metadata": {},
   "outputs": [
    {
     "data": {
      "text/plain": [
       "host_location                12367\n",
       "description                   1519\n",
       "name                            21\n",
       "host_listings_count              5\n",
       "host_total_listings_count        5\n",
       "id                               0\n",
       "host_id                          0\n",
       "neighbourhood_cleansed           0\n",
       "latitude                         0\n",
       "longitude                        0\n",
       "dtype: int64"
      ]
     },
     "execution_count": 46,
     "metadata": {},
     "output_type": "execute_result"
    }
   ],
   "source": [
    "# count the null values by the column\n",
    "gl22 = geo_listings2022_cleaned\n",
    "gl22.isna().sum().sort_values(ascending=False).head(10)"
   ]
  },
  {
   "cell_type": "code",
   "execution_count": 47,
   "id": "fee52f36-789a-42a7-822f-d7e6f7335b7d",
   "metadata": {},
   "outputs": [
    {
     "data": {
      "text/plain": [
       "5697     3\n",
       "4511     3\n",
       "7415     3\n",
       "6365     3\n",
       "6959     3\n",
       "32319    2\n",
       "38352    2\n",
       "50884    2\n",
       "38479    2\n",
       "46895    2\n",
       "dtype: int64"
      ]
     },
     "execution_count": 47,
     "metadata": {},
     "output_type": "execute_result"
    }
   ],
   "source": [
    "# count the null values by the row\n",
    "gl22.isnull().sum(axis=1).sort_values(ascending=False).head(10)"
   ]
  },
  {
   "cell_type": "code",
   "execution_count": 48,
   "id": "457ed7ec-4233-4084-9063-7e4c27b5fdd1",
   "metadata": {},
   "outputs": [
    {
     "data": {
      "text/html": [
       "<div>\n",
       "<style scoped>\n",
       "    .dataframe tbody tr th:only-of-type {\n",
       "        vertical-align: middle;\n",
       "    }\n",
       "\n",
       "    .dataframe tbody tr th {\n",
       "        vertical-align: top;\n",
       "    }\n",
       "\n",
       "    .dataframe thead th {\n",
       "        text-align: right;\n",
       "    }\n",
       "</style>\n",
       "<table border=\"1\" class=\"dataframe\">\n",
       "  <thead>\n",
       "    <tr style=\"text-align: right;\">\n",
       "      <th></th>\n",
       "      <th>id</th>\n",
       "      <th>name</th>\n",
       "      <th>description</th>\n",
       "      <th>host_id</th>\n",
       "      <th>host_location</th>\n",
       "      <th>host_listings_count</th>\n",
       "      <th>host_total_listings_count</th>\n",
       "      <th>neighbourhood_cleansed</th>\n",
       "      <th>latitude</th>\n",
       "      <th>longitude</th>\n",
       "      <th>property_type</th>\n",
       "      <th>room_type</th>\n",
       "      <th>price</th>\n",
       "      <th>minimum_nights</th>\n",
       "      <th>maximum_nights</th>\n",
       "      <th>geometry</th>\n",
       "    </tr>\n",
       "  </thead>\n",
       "  <tbody>\n",
       "    <tr>\n",
       "      <th>2451</th>\n",
       "      <td>3203563</td>\n",
       "      <td>Private access to db rm en-suite  &amp; great loca...</td>\n",
       "      <td>NaN</td>\n",
       "      <td>16233825</td>\n",
       "      <td>NaN</td>\n",
       "      <td>3</td>\n",
       "      <td>4</td>\n",
       "      <td>Richmond upon Thames</td>\n",
       "      <td>51.47</td>\n",
       "      <td>-0.28</td>\n",
       "      <td>Private room in home</td>\n",
       "      <td>Private room</td>\n",
       "      <td>35.00</td>\n",
       "      <td>3</td>\n",
       "      <td>1125</td>\n",
       "      <td>POINT (-0.28056 51.47036)</td>\n",
       "    </tr>\n",
       "    <tr>\n",
       "      <th>4511</th>\n",
       "      <td>5811550</td>\n",
       "      <td>large room in Shoreditch</td>\n",
       "      <td>Big space, very convenient location, 5 mins by...</td>\n",
       "      <td>8317501</td>\n",
       "      <td>NaN</td>\n",
       "      <td>&lt;NA&gt;</td>\n",
       "      <td>&lt;NA&gt;</td>\n",
       "      <td>Tower Hamlets</td>\n",
       "      <td>51.53</td>\n",
       "      <td>-0.07</td>\n",
       "      <td>Private room in home</td>\n",
       "      <td>Private room</td>\n",
       "      <td>50.00</td>\n",
       "      <td>1</td>\n",
       "      <td>1125</td>\n",
       "      <td>POINT (-0.06566 51.52512)</td>\n",
       "    </tr>\n",
       "    <tr>\n",
       "      <th>5697</th>\n",
       "      <td>7007873</td>\n",
       "      <td>Victoria / Pimlico</td>\n",
       "      <td>Bright room in Victoria / Pimlico area. Clean ...</td>\n",
       "      <td>22047056</td>\n",
       "      <td>NaN</td>\n",
       "      <td>&lt;NA&gt;</td>\n",
       "      <td>&lt;NA&gt;</td>\n",
       "      <td>Westminster</td>\n",
       "      <td>51.49</td>\n",
       "      <td>-0.13</td>\n",
       "      <td>Private room in rental unit</td>\n",
       "      <td>Private room</td>\n",
       "      <td>35.00</td>\n",
       "      <td>8</td>\n",
       "      <td>1125</td>\n",
       "      <td>POINT (-0.13414 51.49459)</td>\n",
       "    </tr>\n",
       "    <tr>\n",
       "      <th>6365</th>\n",
       "      <td>7595146</td>\n",
       "      <td>Nice room in near Canary wharf</td>\n",
       "      <td>We have an empty room in our house in Island G...</td>\n",
       "      <td>39828462</td>\n",
       "      <td>NaN</td>\n",
       "      <td>&lt;NA&gt;</td>\n",
       "      <td>&lt;NA&gt;</td>\n",
       "      <td>Tower Hamlets</td>\n",
       "      <td>51.49</td>\n",
       "      <td>-0.01</td>\n",
       "      <td>Private room in home</td>\n",
       "      <td>Private room</td>\n",
       "      <td>30.00</td>\n",
       "      <td>1</td>\n",
       "      <td>1125</td>\n",
       "      <td>POINT (-0.01428 51.48730)</td>\n",
       "    </tr>\n",
       "    <tr>\n",
       "      <th>6959</th>\n",
       "      <td>8149344</td>\n",
       "      <td>LUXURIOUS SUITE IN HISTORIC HOUSE</td>\n",
       "      <td>Hi, I am an interior designer and I have a stu...</td>\n",
       "      <td>43023101</td>\n",
       "      <td>NaN</td>\n",
       "      <td>&lt;NA&gt;</td>\n",
       "      <td>&lt;NA&gt;</td>\n",
       "      <td>Waltham Forest</td>\n",
       "      <td>51.63</td>\n",
       "      <td>0.01</td>\n",
       "      <td>Private room in home</td>\n",
       "      <td>Private room</td>\n",
       "      <td>70.00</td>\n",
       "      <td>7</td>\n",
       "      <td>345</td>\n",
       "      <td>POINT (0.00607 51.63272)</td>\n",
       "    </tr>\n",
       "    <tr>\n",
       "      <th>7415</th>\n",
       "      <td>8511150</td>\n",
       "      <td>large room in camden</td>\n",
       "      <td>large room in camden, close to king's cross. p...</td>\n",
       "      <td>44815642</td>\n",
       "      <td>NaN</td>\n",
       "      <td>&lt;NA&gt;</td>\n",
       "      <td>&lt;NA&gt;</td>\n",
       "      <td>Camden</td>\n",
       "      <td>51.54</td>\n",
       "      <td>-0.14</td>\n",
       "      <td>Private room in rental unit</td>\n",
       "      <td>Private room</td>\n",
       "      <td>33.00</td>\n",
       "      <td>1</td>\n",
       "      <td>1125</td>\n",
       "      <td>POINT (-0.13965 51.53744)</td>\n",
       "    </tr>\n",
       "    <tr>\n",
       "      <th>8650</th>\n",
       "      <td>9666936</td>\n",
       "      <td>NaN</td>\n",
       "      <td>NaN</td>\n",
       "      <td>49016292</td>\n",
       "      <td>London, United Kingdom</td>\n",
       "      <td>1</td>\n",
       "      <td>1</td>\n",
       "      <td>Newham</td>\n",
       "      <td>51.51</td>\n",
       "      <td>0.04</td>\n",
       "      <td>Private room in home</td>\n",
       "      <td>Private room</td>\n",
       "      <td>20.00</td>\n",
       "      <td>7</td>\n",
       "      <td>1125</td>\n",
       "      <td>POINT (0.03633 51.51249)</td>\n",
       "    </tr>\n",
       "    <tr>\n",
       "      <th>14071</th>\n",
       "      <td>15097990</td>\n",
       "      <td>Beautifully Located flat @ 5min from Tube Station</td>\n",
       "      <td>NaN</td>\n",
       "      <td>18203580</td>\n",
       "      <td>NaN</td>\n",
       "      <td>3</td>\n",
       "      <td>3</td>\n",
       "      <td>Haringey</td>\n",
       "      <td>51.57</td>\n",
       "      <td>-0.11</td>\n",
       "      <td>Entire rental unit</td>\n",
       "      <td>Entire home/apt</td>\n",
       "      <td>55.00</td>\n",
       "      <td>13</td>\n",
       "      <td>90</td>\n",
       "      <td>POINT (-0.10684 51.56654)</td>\n",
       "    </tr>\n",
       "    <tr>\n",
       "      <th>16514</th>\n",
       "      <td>17461666</td>\n",
       "      <td>Nice Single Room</td>\n",
       "      <td>NaN</td>\n",
       "      <td>118230777</td>\n",
       "      <td>NaN</td>\n",
       "      <td>1</td>\n",
       "      <td>4</td>\n",
       "      <td>Wandsworth</td>\n",
       "      <td>51.46</td>\n",
       "      <td>-0.22</td>\n",
       "      <td>Private room in rental unit</td>\n",
       "      <td>Private room</td>\n",
       "      <td>31.00</td>\n",
       "      <td>30</td>\n",
       "      <td>1125</td>\n",
       "      <td>POINT (-0.22476 51.45732)</td>\n",
       "    </tr>\n",
       "    <tr>\n",
       "      <th>16903</th>\n",
       "      <td>17844086</td>\n",
       "      <td>Garden flat</td>\n",
       "      <td>NaN</td>\n",
       "      <td>27405122</td>\n",
       "      <td>NaN</td>\n",
       "      <td>3</td>\n",
       "      <td>3</td>\n",
       "      <td>Hammersmith and Fulham</td>\n",
       "      <td>51.48</td>\n",
       "      <td>-0.19</td>\n",
       "      <td>Private room in rental unit</td>\n",
       "      <td>Private room</td>\n",
       "      <td>150.00</td>\n",
       "      <td>3</td>\n",
       "      <td>90</td>\n",
       "      <td>POINT (-0.19062 51.47710)</td>\n",
       "    </tr>\n",
       "    <tr>\n",
       "      <th>19992</th>\n",
       "      <td>19967408</td>\n",
       "      <td>Quiet House close to Westfield Shopping Centre</td>\n",
       "      <td>NaN</td>\n",
       "      <td>141576282</td>\n",
       "      <td>NaN</td>\n",
       "      <td>4</td>\n",
       "      <td>6</td>\n",
       "      <td>Hammersmith and Fulham</td>\n",
       "      <td>51.51</td>\n",
       "      <td>-0.24</td>\n",
       "      <td>Entire home</td>\n",
       "      <td>Entire home/apt</td>\n",
       "      <td>99.00</td>\n",
       "      <td>3</td>\n",
       "      <td>30</td>\n",
       "      <td>POINT (-0.23993 51.51153)</td>\n",
       "    </tr>\n",
       "    <tr>\n",
       "      <th>20317</th>\n",
       "      <td>20192297</td>\n",
       "      <td>2 Bed Spacious flat Bow Road with an ensuite room</td>\n",
       "      <td>NaN</td>\n",
       "      <td>143780554</td>\n",
       "      <td>NaN</td>\n",
       "      <td>1</td>\n",
       "      <td>1</td>\n",
       "      <td>Tower Hamlets</td>\n",
       "      <td>51.53</td>\n",
       "      <td>-0.02</td>\n",
       "      <td>Entire condo</td>\n",
       "      <td>Entire home/apt</td>\n",
       "      <td>90.00</td>\n",
       "      <td>2</td>\n",
       "      <td>28</td>\n",
       "      <td>POINT (-0.02097 51.52689)</td>\n",
       "    </tr>\n",
       "    <tr>\n",
       "      <th>25254</th>\n",
       "      <td>24014864</td>\n",
       "      <td>The Sapphire Suite</td>\n",
       "      <td>NaN</td>\n",
       "      <td>194033700</td>\n",
       "      <td>NaN</td>\n",
       "      <td>34</td>\n",
       "      <td>38</td>\n",
       "      <td>Kensington and Chelsea</td>\n",
       "      <td>51.49</td>\n",
       "      <td>-0.18</td>\n",
       "      <td>Entire villa</td>\n",
       "      <td>Entire home/apt</td>\n",
       "      <td>2,645.00</td>\n",
       "      <td>7</td>\n",
       "      <td>1125</td>\n",
       "      <td>POINT (-0.17926 51.49348)</td>\n",
       "    </tr>\n",
       "    <tr>\n",
       "      <th>25257</th>\n",
       "      <td>24014865</td>\n",
       "      <td>The Ruby Residence</td>\n",
       "      <td>NaN</td>\n",
       "      <td>194033700</td>\n",
       "      <td>NaN</td>\n",
       "      <td>34</td>\n",
       "      <td>38</td>\n",
       "      <td>Kensington and Chelsea</td>\n",
       "      <td>51.49</td>\n",
       "      <td>-0.18</td>\n",
       "      <td>Entire villa</td>\n",
       "      <td>Entire home/apt</td>\n",
       "      <td>2,645.00</td>\n",
       "      <td>7</td>\n",
       "      <td>1125</td>\n",
       "      <td>POINT (-0.17745 51.49341)</td>\n",
       "    </tr>\n",
       "    <tr>\n",
       "      <th>26623</th>\n",
       "      <td>25422277</td>\n",
       "      <td>Hyde park Gardens 5 bedroom</td>\n",
       "      <td>NaN</td>\n",
       "      <td>191898777</td>\n",
       "      <td>NaN</td>\n",
       "      <td>1</td>\n",
       "      <td>1</td>\n",
       "      <td>Westminster</td>\n",
       "      <td>51.51</td>\n",
       "      <td>-0.17</td>\n",
       "      <td>Private room in rental unit</td>\n",
       "      <td>Private room</td>\n",
       "      <td>600.00</td>\n",
       "      <td>6</td>\n",
       "      <td>1125</td>\n",
       "      <td>POINT (-0.17146 51.51227)</td>\n",
       "    </tr>\n",
       "    <tr>\n",
       "      <th>26778</th>\n",
       "      <td>25474603</td>\n",
       "      <td>Nice, Large Double Room In Amazing Home</td>\n",
       "      <td>NaN</td>\n",
       "      <td>192270478</td>\n",
       "      <td>NaN</td>\n",
       "      <td>1</td>\n",
       "      <td>1</td>\n",
       "      <td>Newham</td>\n",
       "      <td>51.52</td>\n",
       "      <td>0.05</td>\n",
       "      <td>Private room in home</td>\n",
       "      <td>Private room</td>\n",
       "      <td>25.00</td>\n",
       "      <td>3</td>\n",
       "      <td>1125</td>\n",
       "      <td>POINT (0.04732 51.51918)</td>\n",
       "    </tr>\n",
       "    <tr>\n",
       "      <th>26898</th>\n",
       "      <td>25832526</td>\n",
       "      <td>Erith Park</td>\n",
       "      <td>NaN</td>\n",
       "      <td>194098169</td>\n",
       "      <td>NaN</td>\n",
       "      <td>1</td>\n",
       "      <td>1</td>\n",
       "      <td>Bexley</td>\n",
       "      <td>51.47</td>\n",
       "      <td>0.18</td>\n",
       "      <td>Private room in rental unit</td>\n",
       "      <td>Private room</td>\n",
       "      <td>36.00</td>\n",
       "      <td>5</td>\n",
       "      <td>1124</td>\n",
       "      <td>POINT (0.17872 51.47282)</td>\n",
       "    </tr>\n",
       "    <tr>\n",
       "      <th>26981</th>\n",
       "      <td>25759776</td>\n",
       "      <td>Access Tower Hill, Two-bedroom sleeps 4</td>\n",
       "      <td>NaN</td>\n",
       "      <td>192660473</td>\n",
       "      <td>NaN</td>\n",
       "      <td>4</td>\n",
       "      <td>4</td>\n",
       "      <td>Tower Hamlets</td>\n",
       "      <td>51.51</td>\n",
       "      <td>-0.07</td>\n",
       "      <td>Entire rental unit</td>\n",
       "      <td>Entire home/apt</td>\n",
       "      <td>240.00</td>\n",
       "      <td>1</td>\n",
       "      <td>1125</td>\n",
       "      <td>POINT (-0.07276 51.51276)</td>\n",
       "    </tr>\n",
       "    <tr>\n",
       "      <th>26997</th>\n",
       "      <td>25761169</td>\n",
       "      <td>Access Tower Hill, Two bedroom sleeps 5</td>\n",
       "      <td>NaN</td>\n",
       "      <td>192660473</td>\n",
       "      <td>NaN</td>\n",
       "      <td>4</td>\n",
       "      <td>4</td>\n",
       "      <td>Tower Hamlets</td>\n",
       "      <td>51.51</td>\n",
       "      <td>-0.07</td>\n",
       "      <td>Entire rental unit</td>\n",
       "      <td>Entire home/apt</td>\n",
       "      <td>250.00</td>\n",
       "      <td>1</td>\n",
       "      <td>1125</td>\n",
       "      <td>POINT (-0.07290 51.51272)</td>\n",
       "    </tr>\n",
       "    <tr>\n",
       "      <th>27055</th>\n",
       "      <td>25953640</td>\n",
       "      <td>Access Little Venice, Two Bedroom Sleeps 4</td>\n",
       "      <td>NaN</td>\n",
       "      <td>192857759</td>\n",
       "      <td>NaN</td>\n",
       "      <td>2</td>\n",
       "      <td>2</td>\n",
       "      <td>Westminster</td>\n",
       "      <td>51.53</td>\n",
       "      <td>-0.19</td>\n",
       "      <td>Entire rental unit</td>\n",
       "      <td>Entire home/apt</td>\n",
       "      <td>300.00</td>\n",
       "      <td>1</td>\n",
       "      <td>1125</td>\n",
       "      <td>POINT (-0.18816 51.52592)</td>\n",
       "    </tr>\n",
       "  </tbody>\n",
       "</table>\n",
       "</div>"
      ],
      "text/plain": [
       "             id                                               name  \\\n",
       "2451    3203563  Private access to db rm en-suite  & great loca...   \n",
       "4511    5811550                           large room in Shoreditch   \n",
       "5697    7007873                                 Victoria / Pimlico   \n",
       "6365    7595146                     Nice room in near Canary wharf   \n",
       "6959    8149344                  LUXURIOUS SUITE IN HISTORIC HOUSE   \n",
       "7415    8511150                               large room in camden   \n",
       "8650    9666936                                                NaN   \n",
       "14071  15097990  Beautifully Located flat @ 5min from Tube Station   \n",
       "16514  17461666                                   Nice Single Room   \n",
       "16903  17844086                                        Garden flat   \n",
       "19992  19967408     Quiet House close to Westfield Shopping Centre   \n",
       "20317  20192297  2 Bed Spacious flat Bow Road with an ensuite room   \n",
       "25254  24014864                                 The Sapphire Suite   \n",
       "25257  24014865                                 The Ruby Residence   \n",
       "26623  25422277                        Hyde park Gardens 5 bedroom   \n",
       "26778  25474603            Nice, Large Double Room In Amazing Home   \n",
       "26898  25832526                                         Erith Park   \n",
       "26981  25759776            Access Tower Hill, Two-bedroom sleeps 4   \n",
       "26997  25761169            Access Tower Hill, Two bedroom sleeps 5   \n",
       "27055  25953640         Access Little Venice, Two Bedroom Sleeps 4   \n",
       "\n",
       "                                             description    host_id  \\\n",
       "2451                                                 NaN   16233825   \n",
       "4511   Big space, very convenient location, 5 mins by...    8317501   \n",
       "5697   Bright room in Victoria / Pimlico area. Clean ...   22047056   \n",
       "6365   We have an empty room in our house in Island G...   39828462   \n",
       "6959   Hi, I am an interior designer and I have a stu...   43023101   \n",
       "7415   large room in camden, close to king's cross. p...   44815642   \n",
       "8650                                                 NaN   49016292   \n",
       "14071                                                NaN   18203580   \n",
       "16514                                                NaN  118230777   \n",
       "16903                                                NaN   27405122   \n",
       "19992                                                NaN  141576282   \n",
       "20317                                                NaN  143780554   \n",
       "25254                                                NaN  194033700   \n",
       "25257                                                NaN  194033700   \n",
       "26623                                                NaN  191898777   \n",
       "26778                                                NaN  192270478   \n",
       "26898                                                NaN  194098169   \n",
       "26981                                                NaN  192660473   \n",
       "26997                                                NaN  192660473   \n",
       "27055                                                NaN  192857759   \n",
       "\n",
       "                host_location  host_listings_count  host_total_listings_count  \\\n",
       "2451                      NaN                    3                          4   \n",
       "4511                      NaN                 <NA>                       <NA>   \n",
       "5697                      NaN                 <NA>                       <NA>   \n",
       "6365                      NaN                 <NA>                       <NA>   \n",
       "6959                      NaN                 <NA>                       <NA>   \n",
       "7415                      NaN                 <NA>                       <NA>   \n",
       "8650   London, United Kingdom                    1                          1   \n",
       "14071                     NaN                    3                          3   \n",
       "16514                     NaN                    1                          4   \n",
       "16903                     NaN                    3                          3   \n",
       "19992                     NaN                    4                          6   \n",
       "20317                     NaN                    1                          1   \n",
       "25254                     NaN                   34                         38   \n",
       "25257                     NaN                   34                         38   \n",
       "26623                     NaN                    1                          1   \n",
       "26778                     NaN                    1                          1   \n",
       "26898                     NaN                    1                          1   \n",
       "26981                     NaN                    4                          4   \n",
       "26997                     NaN                    4                          4   \n",
       "27055                     NaN                    2                          2   \n",
       "\n",
       "       neighbourhood_cleansed  latitude  longitude  \\\n",
       "2451     Richmond upon Thames     51.47      -0.28   \n",
       "4511            Tower Hamlets     51.53      -0.07   \n",
       "5697              Westminster     51.49      -0.13   \n",
       "6365            Tower Hamlets     51.49      -0.01   \n",
       "6959           Waltham Forest     51.63       0.01   \n",
       "7415                   Camden     51.54      -0.14   \n",
       "8650                   Newham     51.51       0.04   \n",
       "14071                Haringey     51.57      -0.11   \n",
       "16514              Wandsworth     51.46      -0.22   \n",
       "16903  Hammersmith and Fulham     51.48      -0.19   \n",
       "19992  Hammersmith and Fulham     51.51      -0.24   \n",
       "20317           Tower Hamlets     51.53      -0.02   \n",
       "25254  Kensington and Chelsea     51.49      -0.18   \n",
       "25257  Kensington and Chelsea     51.49      -0.18   \n",
       "26623             Westminster     51.51      -0.17   \n",
       "26778                  Newham     51.52       0.05   \n",
       "26898                  Bexley     51.47       0.18   \n",
       "26981           Tower Hamlets     51.51      -0.07   \n",
       "26997           Tower Hamlets     51.51      -0.07   \n",
       "27055             Westminster     51.53      -0.19   \n",
       "\n",
       "                     property_type        room_type    price  minimum_nights  \\\n",
       "2451          Private room in home     Private room    35.00               3   \n",
       "4511          Private room in home     Private room    50.00               1   \n",
       "5697   Private room in rental unit     Private room    35.00               8   \n",
       "6365          Private room in home     Private room    30.00               1   \n",
       "6959          Private room in home     Private room    70.00               7   \n",
       "7415   Private room in rental unit     Private room    33.00               1   \n",
       "8650          Private room in home     Private room    20.00               7   \n",
       "14071           Entire rental unit  Entire home/apt    55.00              13   \n",
       "16514  Private room in rental unit     Private room    31.00              30   \n",
       "16903  Private room in rental unit     Private room   150.00               3   \n",
       "19992                  Entire home  Entire home/apt    99.00               3   \n",
       "20317                 Entire condo  Entire home/apt    90.00               2   \n",
       "25254                 Entire villa  Entire home/apt 2,645.00               7   \n",
       "25257                 Entire villa  Entire home/apt 2,645.00               7   \n",
       "26623  Private room in rental unit     Private room   600.00               6   \n",
       "26778         Private room in home     Private room    25.00               3   \n",
       "26898  Private room in rental unit     Private room    36.00               5   \n",
       "26981           Entire rental unit  Entire home/apt   240.00               1   \n",
       "26997           Entire rental unit  Entire home/apt   250.00               1   \n",
       "27055           Entire rental unit  Entire home/apt   300.00               1   \n",
       "\n",
       "       maximum_nights                   geometry  \n",
       "2451             1125  POINT (-0.28056 51.47036)  \n",
       "4511             1125  POINT (-0.06566 51.52512)  \n",
       "5697             1125  POINT (-0.13414 51.49459)  \n",
       "6365             1125  POINT (-0.01428 51.48730)  \n",
       "6959              345   POINT (0.00607 51.63272)  \n",
       "7415             1125  POINT (-0.13965 51.53744)  \n",
       "8650             1125   POINT (0.03633 51.51249)  \n",
       "14071              90  POINT (-0.10684 51.56654)  \n",
       "16514            1125  POINT (-0.22476 51.45732)  \n",
       "16903              90  POINT (-0.19062 51.47710)  \n",
       "19992              30  POINT (-0.23993 51.51153)  \n",
       "20317              28  POINT (-0.02097 51.52689)  \n",
       "25254            1125  POINT (-0.17926 51.49348)  \n",
       "25257            1125  POINT (-0.17745 51.49341)  \n",
       "26623            1125  POINT (-0.17146 51.51227)  \n",
       "26778            1125   POINT (0.04732 51.51918)  \n",
       "26898            1124   POINT (0.17872 51.47282)  \n",
       "26981            1125  POINT (-0.07276 51.51276)  \n",
       "26997            1125  POINT (-0.07290 51.51272)  \n",
       "27055            1125  POINT (-0.18816 51.52592)  "
      ]
     },
     "execution_count": 48,
     "metadata": {},
     "output_type": "execute_result"
    }
   ],
   "source": [
    "probrows = gl22.isnull().sum(axis=1) > 1\n",
    "null_rows = gl22[probrows]\n",
    "null_rows.head(20)"
   ]
  },
  {
   "cell_type": "code",
   "execution_count": 49,
   "id": "f7b01de4-36a7-4147-ab9b-6c2e55e83af6",
   "metadata": {},
   "outputs": [
    {
     "name": "stdout",
     "output_type": "stream",
     "text": [
      "The dataset now has 69,054 rows after dropping those with more than 1 null value\n"
     ]
    }
   ],
   "source": [
    "gl22 = gl22.dropna(thresh=len(gl22.columns)-1)\n",
    "print(f\"The dataset now has {gl22.shape[0]:,} rows after dropping those with more than 1 null value\")"
   ]
  },
  {
   "cell_type": "code",
   "execution_count": 50,
   "id": "70c6d39d-9204-430c-9dea-99aa1f150cc0",
   "metadata": {},
   "outputs": [
    {
     "data": {
      "text/plain": [
       "69350    1\n",
       "52411    1\n",
       "59702    1\n",
       "52413    1\n",
       "41922    1\n",
       "41923    1\n",
       "41924    1\n",
       "18311    1\n",
       "10277    1\n",
       "30243    1\n",
       "dtype: int64"
      ]
     },
     "execution_count": 50,
     "metadata": {},
     "output_type": "execute_result"
    }
   ],
   "source": [
    "#Check that it worked\n",
    "gl22.isnull().sum(axis=1).sort_values(ascending=False).head(10)"
   ]
  },
  {
   "cell_type": "markdown",
   "id": "c1d6652e-cb58-41a5-9d6a-eab71bf9fa2c",
   "metadata": {},
   "source": [
    "Here I will create a subset of these listings by boroughs of interest:\n",
    "\n",
    "Least Deprived:\n",
    "Haringey\n",
    "Kensington and Chelsea (kc for shorthand)\n",
    "\n",
    "Middle:\n",
    "Camden\n",
    "\n",
    "Most Deprived:\n",
    "Sutton\n",
    "Merton"
   ]
  },
  {
   "cell_type": "code",
   "execution_count": 51,
   "id": "75199f66-344c-4616-9a2b-bd743665b939",
   "metadata": {},
   "outputs": [
    {
     "name": "stdout",
     "output_type": "stream",
     "text": [
      "Found 1,890 listings in the cleaned geodataset for listings in Haringey\n",
      "Found 4,596 listings in the cleaned geodataset for listings in Kensington and Chelsea\n",
      "Found 4,684 listings in the cleaned geodataset for listings in Camden\n",
      "Found 284 listings in the cleaned geodataset for listings in Sutton\n",
      "Found 1,110 listings in the cleaned geodataset for listings in Merton\n"
     ]
    }
   ],
   "source": [
    "boros_oi = ['Haringey','Kensington and Chelsea','Camden', 'Sutton', 'Merton']\n",
    "#boros_oi stands for \"boroughs of interest\"\n",
    "#I tried making a for loop for this but couldn't figure it out... this should do the same thing though\n",
    "\n",
    "Haringey = gl22[gl22.neighbourhood_cleansed.str.contains(r'Haringey', regex=True, flags=re.IGNORECASE)].copy()\n",
    "print(f\"Found {Haringey.shape[0]:,} listings in the cleaned geodataset for listings in Haringey\")\n",
    "\n",
    "kc = gl22[gl22.neighbourhood_cleansed.str.contains(r'Kensington and Chelsea', regex=True, flags=re.IGNORECASE)].copy()\n",
    "print(f\"Found {kc.shape[0]:,} listings in the cleaned geodataset for listings in Kensington and Chelsea\")\n",
    "\n",
    "Camden = gl22[gl22.neighbourhood_cleansed.str.contains(r'Camden', regex=True, flags=re.IGNORECASE)].copy()\n",
    "print(f\"Found {Camden.shape[0]:,} listings in the cleaned geodataset for listings in Camden\")\n",
    "\n",
    "Sutton = gl22[gl22.neighbourhood_cleansed.str.contains(r'Sutton', regex=True, flags=re.IGNORECASE)].copy()\n",
    "print(f\"Found {Sutton.shape[0]:,} listings in the cleaned geodataset for listings in Sutton\")\n",
    "\n",
    "Merton = gl22[gl22.neighbourhood_cleansed.str.contains(r'Merton', regex=True, flags=re.IGNORECASE)].copy()\n",
    "print(f\"Found {Merton.shape[0]:,} listings in the cleaned geodataset for listings in Merton\")"
   ]
  },
  {
   "cell_type": "markdown",
   "id": "c528bf3b-bc6e-4ac7-8f2e-fd040dd80a5d",
   "metadata": {
    "tags": []
   },
   "source": [
    "### NLP Analysis\n",
    "This code draws from practical 7"
   ]
  },
  {
   "cell_type": "markdown",
   "id": "6aaea588-6d66-400e-9353-13bfd3cf9018",
   "metadata": {},
   "source": [
    "Here, I target descriptions using text mining analysis with the aim of discerning Airbnb listings that might be tied to gentrification. I do this first in terms of london more generally then on the subsets of data for specific boroughs.\n",
    "\n",
    "Because I am working on NLP, I will drop all the description rows that have null values because I will primarily be working with the descriptions."
   ]
  },
  {
   "cell_type": "code",
   "execution_count": 52,
   "id": "fe3d1a05-f4fa-4681-bde6-cf3b6d75a3e4",
   "metadata": {},
   "outputs": [
    {
     "name": "stdout",
     "output_type": "stream",
     "text": [
      "Now gdf has 67,827 rows.\n"
     ]
    }
   ],
   "source": [
    "gdf = gl22.dropna(subset=['description'])\n",
    "print(f\"Now gdf has {gdf.shape[0]:,} rows.\")"
   ]
  },
  {
   "cell_type": "code",
   "execution_count": 53,
   "id": "72039159-4d81-4d3c-9d54-928ece7965f7",
   "metadata": {},
   "outputs": [
    {
     "data": {
      "text/plain": [
       "56440    A beautiful private bedroom in a peaceful plac...\n",
       "49775    The listing is for an airy and modern double b...\n",
       "33399    A lovely bright 1 bedroom flat with spacious r...\n",
       "698      <b>The space</b><br />Situated in a quiet, pri...\n",
       "23691    My place is less than a 5 min walk to Lordship...\n",
       "64504    A light, bright, airy 2 bedroom flat located i...\n",
       "44923    Situated on the third floor of this impressive...\n",
       "37569    This apartment features a bedroom with a king ...\n",
       "18263    Comfortable one bedroom apartment with separat...\n",
       "27895    Our apartment was built in March 2018 so every...\n",
       "Name: description, dtype: object"
      ]
     },
     "execution_count": 53,
     "metadata": {},
     "output_type": "execute_result"
    }
   ],
   "source": [
    "gdf[~gdf.description.isna()].description.sample(10, random_state=42)\n",
    "#It seems there are more or less the same issues as in the practical regarding the descriptions"
   ]
  },
  {
   "cell_type": "code",
   "execution_count": 54,
   "id": "d88a596f-9557-4d34-8860-8ed4cad40fbe",
   "metadata": {},
   "outputs": [
    {
     "data": {
      "text/plain": [
       "\"Enjoy a stylish experience at this BRAND-NEW centrally-located place! <br /><br />(Air conditioners in all bedrooms and living room)<br /><br />This luxurious place offers 3 large bedrooms, 2 bathrooms, a stylish living room, and a fully equipped kitchen. <br /><br />Perfectly located in Marylebone, Central London, moments away from Baker Street Station and just opposite Regent's Park. This place is perfect for guests wanting to see the sights of London or do some shopping, as Oxford Street is just a short walk away.<br /><br /><b>The space</b><br />- 65 Inch TV smart LED TV in the living room.<br />- Toilet built-in bidet shower in the bathrooms. ( Shattafa) <br />- Newly renovated and modernly designed with a stylish touch.<br />- The apartment is fully equipped with everything you need for a short or long stay!<br /><br />- Baby cot and high chair available (Free of Charge)<br /><br /><b>Guest access</b><br />- The entire space is set up for guests to have a stay to remember!<br />-\""
      ]
     },
     "execution_count": 54,
     "metadata": {},
     "output_type": "execute_result"
    }
   ],
   "source": [
    "gdf.description.iloc[56440]\n",
    "#While many of the above end in ..., the dots do not appear to be part of the actual description but rather a way of shortening it"
   ]
  },
  {
   "cell_type": "markdown",
   "id": "e34c3df2-8bcf-4bbf-84c3-0c1faefb5d5b",
   "metadata": {},
   "source": [
    "##### Cleaning the text using beautiful soup\n",
    "1. Removing HTML\n",
    "2. Case\n",
    "3. Removing Punctuation"
   ]
  },
  {
   "cell_type": "code",
   "execution_count": 55,
   "id": "6f1756e3-7351-465c-b55e-2c5034299eef",
   "metadata": {},
   "outputs": [
    {
     "name": "stderr",
     "output_type": "stream",
     "text": [
      "/opt/conda/lib/python3.10/site-packages/bs4/__init__.py:435: MarkupResemblesLocatorWarning: The input looks more like a filename than markup. You may want to open this file and pass the filehandle into Beautiful Soup.\n",
      "  warnings.warn(\n",
      "/opt/conda/lib/python3.10/site-packages/geopandas/geodataframe.py:1443: SettingWithCopyWarning: \n",
      "A value is trying to be set on a copy of a slice from a DataFrame.\n",
      "Try using .loc[row_indexer,col_indexer] = value instead\n",
      "\n",
      "See the caveats in the documentation: https://pandas.pydata.org/pandas-docs/stable/user_guide/indexing.html#returning-a-view-versus-a-copy\n",
      "  super().__setitem__(key, value)\n"
     ]
    }
   ],
   "source": [
    "for col in gdf.select_dtypes(include='object'):\n",
    "    gdf['description'] = gdf['description'].apply(lambda x: BeautifulSoup(x, 'html.parser').get_text())"
   ]
  },
  {
   "cell_type": "code",
   "execution_count": 56,
   "id": "5b2dca8d-6685-4a4d-b715-1b073c87ba21",
   "metadata": {},
   "outputs": [],
   "source": [
    "#make lowercase\n",
    "dcol = gdf['description']\n",
    "gdf['description'] = dcol.apply(lambda x: x.lower())"
   ]
  },
  {
   "cell_type": "code",
   "execution_count": 57,
   "id": "619723a0-3eca-4ccc-b2dd-9bbd64b97916",
   "metadata": {},
   "outputs": [],
   "source": [
    "#remove punctuation\n",
    "pattern = re.compile(r'[,\\.!\\-><=\\(\\)\\[\\]\\/&\\'\\\"’;\\+\\–\\—]+')\n",
    "punkt   = []\n",
    "for l in gdf['description']:\n",
    "    punkt.append(re.sub(pattern, ' ', l))"
   ]
  },
  {
   "cell_type": "code",
   "execution_count": 59,
   "id": "fd4b8533-3c67-4548-aa23-6d68f042a12f",
   "metadata": {
    "tags": []
   },
   "outputs": [],
   "source": [
    "# for p in punkt:\n",
    "#     as_markdown(\"Line of Text\", p)"
   ]
  },
  {
   "cell_type": "code",
   "execution_count": 60,
   "id": "ba3fbf1b-8849-4193-b56c-745283cd5ba9",
   "metadata": {},
   "outputs": [
    {
     "data": {
      "text/plain": [
       "56440    a beautiful private bedroom in a peaceful plac...\n",
       "49775    the listing is for an airy and modern double b...\n",
       "33399    a lovely bright 1 bedroom flat with spacious r...\n",
       "698      the spacesituated in a quiet, private mews in ...\n",
       "23691    my place is less than a 5 min walk to lordship...\n",
       "Name: description, dtype: object"
      ]
     },
     "execution_count": 60,
     "metadata": {},
     "output_type": "execute_result"
    }
   ],
   "source": [
    "gdf.description.sample(5, random_state=42)\n",
    "#for some reason the removal of punct didn't stick..."
   ]
  },
  {
   "cell_type": "code",
   "execution_count": 61,
   "id": "9e61a957-3890-4f31-9eee-f2091f6c556f",
   "metadata": {},
   "outputs": [
    {
     "name": "stdout",
     "output_type": "stream",
     "text": [
      "Found 5,713 records for airbnbs in areas that might be gentrifying\n"
     ]
    }
   ],
   "source": [
    "#Regex for words often associated with gentrification:\n",
    "gent = gdf[gdf.description.str.contains(r'\\b(?:trend(?:y|iness|ing)|revitalize|popular(?:ity|ness)|edgy|vibrant|authentic(?:ity)|cultur(?:e|al|ed))\\b', \n",
    "                                        regex=True, flags=re.IGNORECASE)].copy()\n",
    "print(f\"Found {gent.shape[0]:,} records for airbnbs in areas that might be gentrifying\")"
   ]
  },
  {
   "cell_type": "code",
   "execution_count": 62,
   "id": "e4f31c61-5132-4234-9bf0-573fb3f9c80f",
   "metadata": {},
   "outputs": [
    {
     "name": "stdout",
     "output_type": "stream",
     "text": [
      "Found data/geo/Boroughs.gpkg locally!\n",
      "Found data/geo/Water.gpkg locally!\n",
      "Found data/geo/Greenspace.gpkg locally!\n",
      "Done.\n"
     ]
    }
   ],
   "source": [
    "#mapping\n",
    "ddir  = os.path.join('data','geo') # destination directory\n",
    "spath = 'https://github.com/jreades/fsds/blob/master/data/src/' # source path\n",
    "\n",
    "boros = gpd.read_file( cache_data(spath+'Boroughs.gpkg?raw=true', ddir) )\n",
    "water = gpd.read_file( cache_data(spath+'Water.gpkg?raw=true', ddir) )\n",
    "green = gpd.read_file( cache_data(spath+'Greenspace.gpkg?raw=true', ddir) )\n",
    "\n",
    "print('Done.')"
   ]
  },
  {
   "cell_type": "code",
   "execution_count": 63,
   "id": "bd6f1485-bc01-4987-848d-41cac261540f",
   "metadata": {},
   "outputs": [
    {
     "data": {
      "image/png": "[encoded data removed]",
      "text/plain": [
       "<Figure size 864x576 with 2 Axes>"
      ]
     },
     "metadata": {
      "needs_background": "light"
     },
     "output_type": "display_data"
    }
   ],
   "source": [
    "#mapping pt.2\n",
    "f,ax = plt.subplots(1,1,figsize=(12,8))\n",
    "\n",
    "# The first plot \n",
    "ax1 = plt.subplot2grid((4, 1), (0, 0), rowspan=3)\n",
    "boros.plot(edgecolor='red', facecolor='none', linewidth=1, alpha=0.75, ax=ax1)\n",
    "gent.plot(markersize=2, column='price', cmap='viridis', alpha=0.2, scheme='Fisher_Jenks_Sampled', ax=ax1)\n",
    "\n",
    "ax1.set_xlim([500000, 565000])\n",
    "ax1.set_ylim([165000, 195000]);\n",
    "\n",
    "# The last one is spread on 1 column only, on the 4th column of the second line.\n",
    "ax2 = plt.subplot2grid((4, 1), (3, 0), rowspan=1)\n",
    "gent.price.plot.hist(bins=250, ax=ax2)\n",
    "\n",
    "plt.suptitle(\"Listings with Keywords Suggesting Gentrification\") # <-- How does this differ from title? Change it and see!\n",
    "plt.show()"
   ]
  },
  {
   "cell_type": "code",
   "execution_count": null,
   "id": "9a7e2239-80da-4586-bf69-25277f3006da",
   "metadata": {},
   "outputs": [],
   "source": []
  }
 ],
 "metadata": {
  "kernelspec": {
   "display_name": "Python 3 (ipykernel)",
   "language": "python",
   "name": "python3"
  },
  "language_info": {
   "codemirror_mode": {
    "name": "ipython",
    "version": 3
   },
   "file_extension": ".py",
   "mimetype": "text/x-python",
   "name": "python",
   "nbconvert_exporter": "python",
   "pygments_lexer": "ipython3",
   "version": "3.10.5"
  }
 },
 "nbformat": 4,
 "nbformat_minor": 5
}
