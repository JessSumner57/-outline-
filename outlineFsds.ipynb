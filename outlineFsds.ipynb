{
 "cells": [
  {
   "cell_type": "code",
   "execution_count": 32,
   "id": "83a3e2cc-46e2-4853-bb5a-33228f1a4b69",
   "metadata": {},
   "outputs": [
    {
     "data": {
      "text/html": [
       "<div>\n",
       "<style scoped>\n",
       "    .dataframe tbody tr th:only-of-type {\n",
       "        vertical-align: middle;\n",
       "    }\n",
       "\n",
       "    .dataframe tbody tr th {\n",
       "        vertical-align: top;\n",
       "    }\n",
       "\n",
       "    .dataframe thead th {\n",
       "        text-align: right;\n",
       "    }\n",
       "</style>\n",
       "<table border=\"1\" class=\"dataframe\">\n",
       "  <thead>\n",
       "    <tr style=\"text-align: right;\">\n",
       "      <th></th>\n",
       "      <th>code</th>\n",
       "      <th>area</th>\n",
       "      <th>date</th>\n",
       "      <th>median_salary</th>\n",
       "      <th>life_satisfaction</th>\n",
       "      <th>mean_salary</th>\n",
       "      <th>recycling_pct</th>\n",
       "      <th>population_size</th>\n",
       "      <th>number_of_jobs</th>\n",
       "      <th>area_size</th>\n",
       "      <th>no_of_houses</th>\n",
       "      <th>borough_flag</th>\n",
       "    </tr>\n",
       "  </thead>\n",
       "  <tbody>\n",
       "    <tr>\n",
       "      <th>0</th>\n",
       "      <td>E09000001</td>\n",
       "      <td>city of london</td>\n",
       "      <td>1999-12-01</td>\n",
       "      <td>33020.0</td>\n",
       "      <td>NaN</td>\n",
       "      <td>48922</td>\n",
       "      <td>0</td>\n",
       "      <td>6581.0</td>\n",
       "      <td>NaN</td>\n",
       "      <td>NaN</td>\n",
       "      <td>NaN</td>\n",
       "      <td>1</td>\n",
       "    </tr>\n",
       "    <tr>\n",
       "      <th>1</th>\n",
       "      <td>E09000002</td>\n",
       "      <td>barking and dagenham</td>\n",
       "      <td>1999-12-01</td>\n",
       "      <td>21480.0</td>\n",
       "      <td>NaN</td>\n",
       "      <td>23620</td>\n",
       "      <td>3</td>\n",
       "      <td>162444.0</td>\n",
       "      <td>NaN</td>\n",
       "      <td>NaN</td>\n",
       "      <td>NaN</td>\n",
       "      <td>1</td>\n",
       "    </tr>\n",
       "    <tr>\n",
       "      <th>2</th>\n",
       "      <td>E09000003</td>\n",
       "      <td>barnet</td>\n",
       "      <td>1999-12-01</td>\n",
       "      <td>19568.0</td>\n",
       "      <td>NaN</td>\n",
       "      <td>23128</td>\n",
       "      <td>8</td>\n",
       "      <td>313469.0</td>\n",
       "      <td>NaN</td>\n",
       "      <td>NaN</td>\n",
       "      <td>NaN</td>\n",
       "      <td>1</td>\n",
       "    </tr>\n",
       "    <tr>\n",
       "      <th>3</th>\n",
       "      <td>E09000004</td>\n",
       "      <td>bexley</td>\n",
       "      <td>1999-12-01</td>\n",
       "      <td>18621.0</td>\n",
       "      <td>NaN</td>\n",
       "      <td>21386</td>\n",
       "      <td>18</td>\n",
       "      <td>217458.0</td>\n",
       "      <td>NaN</td>\n",
       "      <td>NaN</td>\n",
       "      <td>NaN</td>\n",
       "      <td>1</td>\n",
       "    </tr>\n",
       "    <tr>\n",
       "      <th>4</th>\n",
       "      <td>E09000005</td>\n",
       "      <td>brent</td>\n",
       "      <td>1999-12-01</td>\n",
       "      <td>18532.0</td>\n",
       "      <td>NaN</td>\n",
       "      <td>20911</td>\n",
       "      <td>6</td>\n",
       "      <td>260317.0</td>\n",
       "      <td>NaN</td>\n",
       "      <td>NaN</td>\n",
       "      <td>NaN</td>\n",
       "      <td>1</td>\n",
       "    </tr>\n",
       "  </tbody>\n",
       "</table>\n",
       "</div>"
      ],
      "text/plain": [
       "        code                  area        date  median_salary  \\\n",
       "0  E09000001        city of london  1999-12-01        33020.0   \n",
       "1  E09000002  barking and dagenham  1999-12-01        21480.0   \n",
       "2  E09000003                barnet  1999-12-01        19568.0   \n",
       "3  E09000004                bexley  1999-12-01        18621.0   \n",
       "4  E09000005                 brent  1999-12-01        18532.0   \n",
       "\n",
       "   life_satisfaction mean_salary recycling_pct  population_size  \\\n",
       "0                NaN       48922             0           6581.0   \n",
       "1                NaN       23620             3         162444.0   \n",
       "2                NaN       23128             8         313469.0   \n",
       "3                NaN       21386            18         217458.0   \n",
       "4                NaN       20911             6         260317.0   \n",
       "\n",
       "   number_of_jobs  area_size  no_of_houses  borough_flag  \n",
       "0             NaN        NaN           NaN             1  \n",
       "1             NaN        NaN           NaN             1  \n",
       "2             NaN        NaN           NaN             1  \n",
       "3             NaN        NaN           NaN             1  \n",
       "4             NaN        NaN           NaN             1  "
      ]
     },
     "execution_count": 32,
     "metadata": {},
     "output_type": "execute_result"
    }
   ],
   "source": [
    "import pandas as pd\n",
    "import numpy as np\n",
    "df = pd.read_csv('housing_in_london_yearly_variables.csv')\n",
    "df.head()"
   ]
  },
  {
   "cell_type": "code",
   "execution_count": 33,
   "id": "96bbb2aa-94bd-429c-89d1-c9ac075192eb",
   "metadata": {},
   "outputs": [],
   "source": [
    "to_drop = ['no_of_houses', 'borough_flag', 'area_size', 'number_of_jobs']\n",
    "df.drop(to_drop,inplace=True, axis=1)"
   ]
  },
  {
   "cell_type": "code",
   "execution_count": 34,
   "id": "72b81136-e366-43c1-8472-56a45419980e",
   "metadata": {},
   "outputs": [
    {
     "data": {
      "text/html": [
       "<div>\n",
       "<style scoped>\n",
       "    .dataframe tbody tr th:only-of-type {\n",
       "        vertical-align: middle;\n",
       "    }\n",
       "\n",
       "    .dataframe tbody tr th {\n",
       "        vertical-align: top;\n",
       "    }\n",
       "\n",
       "    .dataframe thead th {\n",
       "        text-align: right;\n",
       "    }\n",
       "</style>\n",
       "<table border=\"1\" class=\"dataframe\">\n",
       "  <thead>\n",
       "    <tr style=\"text-align: right;\">\n",
       "      <th></th>\n",
       "      <th>code</th>\n",
       "      <th>area</th>\n",
       "      <th>date</th>\n",
       "      <th>median_salary</th>\n",
       "      <th>life_satisfaction</th>\n",
       "      <th>mean_salary</th>\n",
       "      <th>recycling_pct</th>\n",
       "      <th>population_size</th>\n",
       "    </tr>\n",
       "  </thead>\n",
       "  <tbody>\n",
       "    <tr>\n",
       "      <th>0</th>\n",
       "      <td>E09000001</td>\n",
       "      <td>city of london</td>\n",
       "      <td>1999-12-01</td>\n",
       "      <td>33020.0</td>\n",
       "      <td>NaN</td>\n",
       "      <td>48922</td>\n",
       "      <td>0</td>\n",
       "      <td>6581.0</td>\n",
       "    </tr>\n",
       "    <tr>\n",
       "      <th>1</th>\n",
       "      <td>E09000002</td>\n",
       "      <td>barking and dagenham</td>\n",
       "      <td>1999-12-01</td>\n",
       "      <td>21480.0</td>\n",
       "      <td>NaN</td>\n",
       "      <td>23620</td>\n",
       "      <td>3</td>\n",
       "      <td>162444.0</td>\n",
       "    </tr>\n",
       "    <tr>\n",
       "      <th>2</th>\n",
       "      <td>E09000003</td>\n",
       "      <td>barnet</td>\n",
       "      <td>1999-12-01</td>\n",
       "      <td>19568.0</td>\n",
       "      <td>NaN</td>\n",
       "      <td>23128</td>\n",
       "      <td>8</td>\n",
       "      <td>313469.0</td>\n",
       "    </tr>\n",
       "    <tr>\n",
       "      <th>3</th>\n",
       "      <td>E09000004</td>\n",
       "      <td>bexley</td>\n",
       "      <td>1999-12-01</td>\n",
       "      <td>18621.0</td>\n",
       "      <td>NaN</td>\n",
       "      <td>21386</td>\n",
       "      <td>18</td>\n",
       "      <td>217458.0</td>\n",
       "    </tr>\n",
       "    <tr>\n",
       "      <th>4</th>\n",
       "      <td>E09000005</td>\n",
       "      <td>brent</td>\n",
       "      <td>1999-12-01</td>\n",
       "      <td>18532.0</td>\n",
       "      <td>NaN</td>\n",
       "      <td>20911</td>\n",
       "      <td>6</td>\n",
       "      <td>260317.0</td>\n",
       "    </tr>\n",
       "  </tbody>\n",
       "</table>\n",
       "</div>"
      ],
      "text/plain": [
       "        code                  area        date  median_salary  \\\n",
       "0  E09000001        city of london  1999-12-01        33020.0   \n",
       "1  E09000002  barking and dagenham  1999-12-01        21480.0   \n",
       "2  E09000003                barnet  1999-12-01        19568.0   \n",
       "3  E09000004                bexley  1999-12-01        18621.0   \n",
       "4  E09000005                 brent  1999-12-01        18532.0   \n",
       "\n",
       "   life_satisfaction mean_salary recycling_pct  population_size  \n",
       "0                NaN       48922             0           6581.0  \n",
       "1                NaN       23620             3         162444.0  \n",
       "2                NaN       23128             8         313469.0  \n",
       "3                NaN       21386            18         217458.0  \n",
       "4                NaN       20911             6         260317.0  "
      ]
     },
     "execution_count": 34,
     "metadata": {},
     "output_type": "execute_result"
    }
   ],
   "source": [
    "df.head()\n"
   ]
  },
  {
   "cell_type": "code",
   "execution_count": 35,
   "id": "92dd66c6-ccf7-4710-939f-5fa69b59b91d",
   "metadata": {},
   "outputs": [
    {
     "data": {
      "text/html": [
       "<div>\n",
       "<style scoped>\n",
       "    .dataframe tbody tr th:only-of-type {\n",
       "        vertical-align: middle;\n",
       "    }\n",
       "\n",
       "    .dataframe tbody tr th {\n",
       "        vertical-align: top;\n",
       "    }\n",
       "\n",
       "    .dataframe thead th {\n",
       "        text-align: right;\n",
       "    }\n",
       "</style>\n",
       "<table border=\"1\" class=\"dataframe\">\n",
       "  <thead>\n",
       "    <tr style=\"text-align: right;\">\n",
       "      <th></th>\n",
       "      <th>code</th>\n",
       "      <th>date</th>\n",
       "      <th>median_salary</th>\n",
       "      <th>life_satisfaction</th>\n",
       "      <th>mean_salary</th>\n",
       "      <th>recycling_pct</th>\n",
       "      <th>population_size</th>\n",
       "    </tr>\n",
       "    <tr>\n",
       "      <th>area</th>\n",
       "      <th></th>\n",
       "      <th></th>\n",
       "      <th></th>\n",
       "      <th></th>\n",
       "      <th></th>\n",
       "      <th></th>\n",
       "      <th></th>\n",
       "    </tr>\n",
       "  </thead>\n",
       "  <tbody>\n",
       "    <tr>\n",
       "      <th>city of london</th>\n",
       "      <td>E09000001</td>\n",
       "      <td>1999-12-01</td>\n",
       "      <td>33020.0</td>\n",
       "      <td>NaN</td>\n",
       "      <td>48922</td>\n",
       "      <td>0</td>\n",
       "      <td>6581.0</td>\n",
       "    </tr>\n",
       "    <tr>\n",
       "      <th>barking and dagenham</th>\n",
       "      <td>E09000002</td>\n",
       "      <td>1999-12-01</td>\n",
       "      <td>21480.0</td>\n",
       "      <td>NaN</td>\n",
       "      <td>23620</td>\n",
       "      <td>3</td>\n",
       "      <td>162444.0</td>\n",
       "    </tr>\n",
       "    <tr>\n",
       "      <th>barnet</th>\n",
       "      <td>E09000003</td>\n",
       "      <td>1999-12-01</td>\n",
       "      <td>19568.0</td>\n",
       "      <td>NaN</td>\n",
       "      <td>23128</td>\n",
       "      <td>8</td>\n",
       "      <td>313469.0</td>\n",
       "    </tr>\n",
       "    <tr>\n",
       "      <th>bexley</th>\n",
       "      <td>E09000004</td>\n",
       "      <td>1999-12-01</td>\n",
       "      <td>18621.0</td>\n",
       "      <td>NaN</td>\n",
       "      <td>21386</td>\n",
       "      <td>18</td>\n",
       "      <td>217458.0</td>\n",
       "    </tr>\n",
       "    <tr>\n",
       "      <th>brent</th>\n",
       "      <td>E09000005</td>\n",
       "      <td>1999-12-01</td>\n",
       "      <td>18532.0</td>\n",
       "      <td>NaN</td>\n",
       "      <td>20911</td>\n",
       "      <td>6</td>\n",
       "      <td>260317.0</td>\n",
       "    </tr>\n",
       "  </tbody>\n",
       "</table>\n",
       "</div>"
      ],
      "text/plain": [
       "                           code        date  median_salary  life_satisfaction  \\\n",
       "area                                                                            \n",
       "city of london        E09000001  1999-12-01        33020.0                NaN   \n",
       "barking and dagenham  E09000002  1999-12-01        21480.0                NaN   \n",
       "barnet                E09000003  1999-12-01        19568.0                NaN   \n",
       "bexley                E09000004  1999-12-01        18621.0                NaN   \n",
       "brent                 E09000005  1999-12-01        18532.0                NaN   \n",
       "\n",
       "                     mean_salary recycling_pct  population_size  \n",
       "area                                                             \n",
       "city of london             48922             0           6581.0  \n",
       "barking and dagenham       23620             3         162444.0  \n",
       "barnet                     23128             8         313469.0  \n",
       "bexley                     21386            18         217458.0  \n",
       "brent                      20911             6         260317.0  "
      ]
     },
     "execution_count": 35,
     "metadata": {},
     "output_type": "execute_result"
    }
   ],
   "source": [
    "\n",
    "df = df.set_index('area')\n",
    "df.head()"
   ]
  },
  {
   "cell_type": "code",
   "execution_count": 40,
   "id": "57b49cd6-d03f-4eae-a846-d030ff83bb67",
   "metadata": {},
   "outputs": [
    {
     "data": {
      "text/plain": [
       "code                  E09000011\n",
       "date                 1999-12-01\n",
       "median_salary           21236.0\n",
       "life_satisfaction           NaN\n",
       "mean_salary               22263\n",
       "recycling_pct                 4\n",
       "population_size        212168.0\n",
       "Name: greenwich, dtype: object"
      ]
     },
     "execution_count": 40,
     "metadata": {},
     "output_type": "execute_result"
    }
   ],
   "source": [
    "df.iloc[10]"
   ]
  },
  {
   "cell_type": "code",
   "execution_count": 41,
   "id": "6de7a8b4-8b65-4510-a7b3-64a5aa83df70",
   "metadata": {},
   "outputs": [],
   "source": [
    "df=df.dropna()"
   ]
  },
  {
   "cell_type": "code",
   "execution_count": 42,
   "id": "8349833a-415d-4b60-8391-a0c777af992b",
   "metadata": {},
   "outputs": [
    {
     "data": {
      "text/html": [
       "<div>\n",
       "<style scoped>\n",
       "    .dataframe tbody tr th:only-of-type {\n",
       "        vertical-align: middle;\n",
       "    }\n",
       "\n",
       "    .dataframe tbody tr th {\n",
       "        vertical-align: top;\n",
       "    }\n",
       "\n",
       "    .dataframe thead th {\n",
       "        text-align: right;\n",
       "    }\n",
       "</style>\n",
       "<table border=\"1\" class=\"dataframe\">\n",
       "  <thead>\n",
       "    <tr style=\"text-align: right;\">\n",
       "      <th></th>\n",
       "      <th>code</th>\n",
       "      <th>date</th>\n",
       "      <th>median_salary</th>\n",
       "      <th>life_satisfaction</th>\n",
       "      <th>mean_salary</th>\n",
       "      <th>recycling_pct</th>\n",
       "      <th>population_size</th>\n",
       "    </tr>\n",
       "    <tr>\n",
       "      <th>area</th>\n",
       "      <th></th>\n",
       "      <th></th>\n",
       "      <th></th>\n",
       "      <th></th>\n",
       "      <th></th>\n",
       "      <th></th>\n",
       "      <th></th>\n",
       "    </tr>\n",
       "  </thead>\n",
       "  <tbody>\n",
       "    <tr>\n",
       "      <th>barking and dagenham</th>\n",
       "      <td>E09000002</td>\n",
       "      <td>2011-12-01</td>\n",
       "      <td>28201.0</td>\n",
       "      <td>7.05</td>\n",
       "      <td>33568</td>\n",
       "      <td>30</td>\n",
       "      <td>187029.0</td>\n",
       "    </tr>\n",
       "    <tr>\n",
       "      <th>barnet</th>\n",
       "      <td>E09000003</td>\n",
       "      <td>2011-12-01</td>\n",
       "      <td>30237.0</td>\n",
       "      <td>7.43</td>\n",
       "      <td>33062</td>\n",
       "      <td>34</td>\n",
       "      <td>357538.0</td>\n",
       "    </tr>\n",
       "    <tr>\n",
       "      <th>bexley</th>\n",
       "      <td>E09000004</td>\n",
       "      <td>2011-12-01</td>\n",
       "      <td>28638.0</td>\n",
       "      <td>7.42</td>\n",
       "      <td>31812</td>\n",
       "      <td>54</td>\n",
       "      <td>232774.0</td>\n",
       "    </tr>\n",
       "    <tr>\n",
       "      <th>brent</th>\n",
       "      <td>E09000005</td>\n",
       "      <td>2011-12-01</td>\n",
       "      <td>26772.0</td>\n",
       "      <td>7.11</td>\n",
       "      <td>29609</td>\n",
       "      <td>37</td>\n",
       "      <td>312245.0</td>\n",
       "    </tr>\n",
       "    <tr>\n",
       "      <th>bromley</th>\n",
       "      <td>E09000006</td>\n",
       "      <td>2011-12-01</td>\n",
       "      <td>28163.0</td>\n",
       "      <td>7.50</td>\n",
       "      <td>32863</td>\n",
       "      <td>50</td>\n",
       "      <td>310554.0</td>\n",
       "    </tr>\n",
       "  </tbody>\n",
       "</table>\n",
       "</div>"
      ],
      "text/plain": [
       "                           code        date  median_salary  life_satisfaction  \\\n",
       "area                                                                            \n",
       "barking and dagenham  E09000002  2011-12-01        28201.0               7.05   \n",
       "barnet                E09000003  2011-12-01        30237.0               7.43   \n",
       "bexley                E09000004  2011-12-01        28638.0               7.42   \n",
       "brent                 E09000005  2011-12-01        26772.0               7.11   \n",
       "bromley               E09000006  2011-12-01        28163.0               7.50   \n",
       "\n",
       "                     mean_salary recycling_pct  population_size  \n",
       "area                                                             \n",
       "barking and dagenham       33568            30         187029.0  \n",
       "barnet                     33062            34         357538.0  \n",
       "bexley                     31812            54         232774.0  \n",
       "brent                      29609            37         312245.0  \n",
       "bromley                    32863            50         310554.0  "
      ]
     },
     "execution_count": 42,
     "metadata": {},
     "output_type": "execute_result"
    }
   ],
   "source": [
    "df.head()\n"
   ]
  },
  {
   "cell_type": "code",
   "execution_count": 43,
   "id": "4a7ebf98-9e84-4148-8316-b9c898dc84d8",
   "metadata": {},
   "outputs": [],
   "source": [
    "import matplotlib.pyplot as plt\n",
    "from kneed import KneeLocator\n",
    "from sklearn.datasets import make_blobs\n",
    "from sklearn.cluster import KMeans \n",
    "from sklearn.metrics import silhouette_score\n",
    "from sklearn.preprocessing import StandardScaler"
   ]
  },
  {
   "cell_type": "code",
   "execution_count": 44,
   "id": "db2bef32-22c6-410f-833b-c277f99e1b3a",
   "metadata": {},
   "outputs": [
    {
     "name": "stderr",
     "output_type": "stream",
     "text": [
      "/tmp/ipykernel_1487/3390915376.py:1: FutureWarning: Dropping of nuisance columns in DataFrame reductions (with 'numeric_only=None') is deprecated; in a future version this will raise TypeError.  Select only valid columns before calling the reduction.\n",
      "  df.std()\n"
     ]
    },
    {
     "data": {
      "text/plain": [
       "median_salary        4.628750e+03\n",
       "life_satisfaction    1.959339e-01\n",
       "population_size      8.652261e+06\n",
       "dtype: float64"
      ]
     },
     "execution_count": 44,
     "metadata": {},
     "output_type": "execute_result"
    }
   ],
   "source": [
    "df.std()"
   ]
  },
  {
   "cell_type": "code",
   "execution_count": 56,
   "id": "4f9ee9df-337d-495e-aed5-eb5351cb446c",
   "metadata": {},
   "outputs": [
    {
     "data": {
      "text/plain": [
       "array([[-2175.58876152,  2520.38908788],\n",
       "       [-7986.72261487, -2593.67411485],\n",
       "       [-4690.65124587,  1463.58662688],\n",
       "       [ 1117.47366689, -8847.08164633],\n",
       "       [-5323.02164266,  1740.9853721 ]])"
      ]
     },
     "execution_count": 56,
     "metadata": {},
     "output_type": "execute_result"
    }
   ],
   "source": [
    "df, median_salary = make_blobs(\n",
    "   ...:     n_samples=20,\n",
    "   ...:     centers=3,\n",
    "   ...:     cluster_std= 4.628750e+03,\n",
    "   ...:     random_state=42\n",
    "   ...: )\n",
    "\n",
    "scaler = StandardScaler()\n",
    "scaled_features = scaler.fit_transform(df)\n",
    "df[:5]\n"
   ]
  },
  {
   "cell_type": "code",
   "execution_count": 57,
   "id": "3d6f4ad4-36d5-4928-9066-632e81cd7317",
   "metadata": {},
   "outputs": [
    {
     "data": {
      "text/plain": [
       "array([0, 0, 0, 0, 1])"
      ]
     },
     "execution_count": 57,
     "metadata": {},
     "output_type": "execute_result"
    }
   ],
   "source": [
    "median_salary[:5]"
   ]
  },
  {
   "cell_type": "code",
   "execution_count": 58,
   "id": "df3e1229-4d6c-4b0b-905f-937d43755e68",
   "metadata": {},
   "outputs": [],
   "source": [
    "kmeans_kwargs = {\n",
    "\"init\": \"random\",\n",
    "\"n_init\": 10,\n",
    " \"max_iter\": 300,\n",
    "\"random_state\": 42,\n",
    "}\n",
    "# A list holds the SSE values for each k\n",
    "sse = []\n",
    "for k in range(0, 11):\n",
    "kmeans = KMeans(n_clusters=k, **kmeans_kwargs)\n",
    "kmeans.fit(scaled_features)\n",
    "sse.append(kmeans.inertia_)"
   ]
  },
  {
   "cell_type": "code",
   "execution_count": 60,
   "id": "6639fd9f-cdf4-49e8-a459-8a34978d4b4f",
   "metadata": {},
   "outputs": [],
   "source": [
    "sse = []\n",
    " for k in range(1, 11):\n",
    "kmeans = KMeans(n_clusters=k, **kmeans_kwargs)\n",
    " kmeans.fit(scaled_features)\n",
    "sse.append(kmeans.inertia_)"
   ]
  },
  {
   "cell_type": "code",
   "execution_count": 64,
   "id": "47256e4f-0ee1-4d7f-abc7-99a6d3044c15",
   "metadata": {},
   "outputs": [
    {
     "data": {
      "image/png": "[encoded data removed]",
      "text/plain": [
       "<Figure size 432x288 with 1 Axes>"
      ]
     },
     "metadata": {
      "needs_background": "light"
     },
     "output_type": "display_data"
    }
   ],
   "source": [
    "plt.style.use(\"fivethirtyeight\")\n",
    "plt.plot(range(1, 11), sse)\n",
    "plt.xticks(range(1, 11))\n",
    "plt.xlabel(\"Number of Clusters\")\n",
    "plt.ylabel(\"SSE\")\n",
    "plt.show()"
   ]
  },
  {
   "cell_type": "code",
   "execution_count": 65,
   "id": "3c86564f-9432-40a1-bddd-295d804dbae3",
   "metadata": {},
   "outputs": [],
   "source": [
    "from sklearn.cluster import DBSCAN\n",
    "from sklearn.datasets import make_moons\n",
    "from sklearn.metrics import adjusted_rand_score"
   ]
  },
  {
   "cell_type": "code",
   "execution_count": 67,
   "id": "7144e9ab-6a6f-4f95-9a3b-e0d0a299c590",
   "metadata": {},
   "outputs": [],
   "source": [
    "df, median_salary = make_moons(\n",
    "    n_samples=20, noise=.05, random_state=42)\n",
    "scaled_features = scaler.fit_transform(df)"
   ]
  },
  {
   "cell_type": "code",
   "execution_count": 68,
   "id": "1769621a-ac1f-4496-a80b-3cc94e2bde74",
   "metadata": {},
   "outputs": [],
   "source": [
    "kmeans = KMeans(n_clusters=5)\n",
    "dbscan = DBSCAN(eps=0.3)"
   ]
  },
  {
   "cell_type": "code",
   "execution_count": 107,
   "id": "c8693bcb-f00c-4927-bc6f-e567ce098820",
   "metadata": {},
   "outputs": [
    {
     "data": {
      "text/plain": [
       "(array([[ 1.07311891,  0.07693575],\n",
       "        [ 1.64408915, -0.11261555],\n",
       "        [ 1.16109598, -0.49300111],\n",
       "        [ 0.86587614,  0.41636919],\n",
       "        [-0.94091538,  0.35979771],\n",
       "        [-0.15279762,  1.02643085],\n",
       "        [ 0.04563742,  0.15648793],\n",
       "        [ 0.50475629,  0.89925812],\n",
       "        [ 1.9326817 ,  0.15632019],\n",
       "        [ 1.46254617, -0.4049445 ],\n",
       "        [ 0.54744214, -0.28698287],\n",
       "        [ 0.7476359 ,  0.66156584],\n",
       "        [-1.05965791, -0.0204526 ],\n",
       "        [ 1.97766293,  0.57621208],\n",
       "        [ 0.18979817,  0.91513691],\n",
       "        [ 0.12503884, -0.19498243],\n",
       "        [-0.75740976,  0.65899755],\n",
       "        [ 0.03729298,  0.40817084],\n",
       "        [ 0.85457503, -0.48353272],\n",
       "        [-0.47634034,  0.89898493]]),\n",
       " array([0, 1, 1, 0, 0, 0, 1, 0, 1, 1, 1, 0, 0, 1, 0, 1, 0, 1, 1, 0]),\n",
       " array([-1, -1, -1, -1, -1, -1, -1, -1, -1, -1, -1, -1, -1, -1, -1, -1, -1,\n",
       "        -1, -1, -1]))"
      ]
     },
     "execution_count": 107,
     "metadata": {},
     "output_type": "execute_result"
    }
   ],
   "source": [
    "kmeans.fit(scaled_features) \n",
    "dbscan.fit(scaled_features)\n",
    "\n",
    "np.unique(kmeans.labels_)\n",
    "\n",
    "silhouette_score(df, kmeans.labels_, metric='euclidean')\n",
    "\n",
    "dbscan_silhouette=(df, median_salary,dbscan.labels_)\n",
    "dbscan_silhouette\n"
   ]
  },
  {
   "cell_type": "code",
   "execution_count": 118,
   "id": "95046f49-32b8-459f-948a-dafbd82a5308",
   "metadata": {},
   "outputs": [
    {
     "data": {
      "text/plain": [
       "Text(0.5, 1.0, 'k-means\\nSilhouette: 0.33')"
      ]
     },
     "execution_count": 118,
     "metadata": {},
     "output_type": "execute_result"
    },
    {
     "data": {
      "image/png": "[encoded data removed]",
      "text/plain": [
       "<Figure size 576x432 with 2 Axes>"
      ]
     },
     "metadata": {
      "needs_background": "light"
     },
     "output_type": "display_data"
    }
   ],
   "source": [
    "fig, (ax1, ax2) = plt.subplots(\n",
    "1, 2, figsize=(8, 6), sharex=True, sharey=True\n",
    ")\n",
    "\n",
    "\n",
    "fig.suptitle(f\"Clustering Salary\", fontsize=16)\n",
    "fte_colors = {\n",
    "0: \"#008fd5\",\n",
    "1: \"#fc4f30\",}\n",
    "\n",
    "\n",
    "kmeans_colors = [fte_colors[0] for label in kmeans.labels_]\n",
    "ax1.scatter(scaled_features[:, 0], scaled_features[:, 1], c=kmeans_colors)\n",
    "ax1.set_title(\n",
    "f\"k-means\\nSilhouette: {kmeans_silhouette}\", fontdict={\"fontsize\": 12})"
   ]
  },
  {
   "cell_type": "code",
   "execution_count": null,
   "id": "c63884de-b623-433d-8554-4bac455e6c9e",
   "metadata": {},
   "outputs": [],
   "source": []
  }
 ],
 "metadata": {
  "kernelspec": {
   "display_name": "Python 3 (ipykernel)",
   "language": "python",
   "name": "python3"
  },
  "language_info": {
   "codemirror_mode": {
    "name": "ipython",
    "version": 3
   },
   "file_extension": ".py",
   "mimetype": "text/x-python",
   "name": "python",
   "nbconvert_exporter": "python",
   "pygments_lexer": "ipython3",
   "version": "3.10.5"
  }
 },
 "nbformat": 4,
 "nbformat_minor": 5
}
