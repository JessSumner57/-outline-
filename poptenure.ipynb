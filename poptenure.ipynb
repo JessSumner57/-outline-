{
 "cells": [
  {
   "cell_type": "code",
   "execution_count": 25,
   "id": "2838a391-3c49-46a2-9ab4-7b40e118edab",
   "metadata": {},
   "outputs": [],
   "source": [
    "import pandas as pd\n",
    "import os\n",
    "import glob\n",
    "from IPython.display import HTML,display\n",
    "from openpyxl import load_workbook"
   ]
  },
  {
   "cell_type": "code",
   "execution_count": 26,
   "id": "7e3933ce-4832-475b-a2a0-67154f27c0df",
   "metadata": {},
   "outputs": [],
   "source": [
    "path = 'C:/work/Documents/GitHub/-outline-/tenure-population-borough.xlsx'\n",
    "cols = ['Code', 'Area', 'Own Outright', 'Buying with mortgage', 'Rented from Local Authority or Housing Association', 'Rented from Private landlord', 'Total']"
   ]
  },
  {
   "cell_type": "code",
   "execution_count": 27,
   "id": "9f1c974a-dda6-4fbb-97ff-0c7ccab94678",
   "metadata": {},
   "outputs": [],
   "source": [
    "def getfilepath(path):\n",
    "    files=(os.listdir(path))\n",
    "    return files"
   ]
  },
  {
   "cell_type": "code",
   "execution_count": 28,
   "id": "0264ecdf-2890-4eed-ade6-b75a53e9439d",
   "metadata": {},
   "outputs": [
    {
     "ename": "FileNotFoundError",
     "evalue": "[Errno 2] No such file or directory: 'C:/work/Documents/GitHub/-outline-/tenure-population-borough.xlsx'",
     "output_type": "error",
     "traceback": [
      "\u001b[0;31m---------------------------------------------------------------------------\u001b[0m",
      "\u001b[0;31mFileNotFoundError\u001b[0m                         Traceback (most recent call last)",
      "Input \u001b[0;32mIn [28]\u001b[0m, in \u001b[0;36m<cell line: 18>\u001b[0;34m()\u001b[0m\n\u001b[1;32m     15\u001b[0m                         wb\u001b[38;5;241m.\u001b[39mclose()\n\u001b[1;32m     16\u001b[0m                         display(fulldf)\n\u001b[0;32m---> 18\u001b[0m files \u001b[38;5;241m=\u001b[39m \u001b[43mgetfilepath\u001b[49m\u001b[43m(\u001b[49m\u001b[43mpath\u001b[49m\u001b[43m)\u001b[49m\n\u001b[1;32m     19\u001b[0m rodent(cols, files)\n",
      "Input \u001b[0;32mIn [27]\u001b[0m, in \u001b[0;36mgetfilepath\u001b[0;34m(path)\u001b[0m\n\u001b[1;32m      1\u001b[0m \u001b[38;5;28;01mdef\u001b[39;00m \u001b[38;5;21mgetfilepath\u001b[39m(path):\n\u001b[0;32m----> 2\u001b[0m     files\u001b[38;5;241m=\u001b[39m(\u001b[43mos\u001b[49m\u001b[38;5;241;43m.\u001b[39;49m\u001b[43mlistdir\u001b[49m\u001b[43m(\u001b[49m\u001b[43mpath\u001b[49m\u001b[43m)\u001b[49m)\n\u001b[1;32m      3\u001b[0m     \u001b[38;5;28;01mreturn\u001b[39;00m files\n",
      "\u001b[0;31mFileNotFoundError\u001b[0m: [Errno 2] No such file or directory: 'C:/work/Documents/GitHub/-outline-/tenure-population-borough.xlsx'"
     ]
    }
   ],
   "source": [
    "def rodent(cols, files):\n",
    "    for i in range(len(files)):\n",
    "                   print('\\nCounter: ',i,' \\nFilenames: ',files[i])\n",
    "                   wb = load_workbook(files[i],read_only=True) \n",
    "                   for sheetname in wb.sheetnames:\n",
    "                    print('Sheetname: ',sheetname)\n",
    "                    try: \n",
    "                        df = pd.read_excel(files[i], sheet_name=sheetname, usecols=cols, \n",
    "                                              dtype=object)\n",
    "                        df2 = df.loc[:,~df.T.duplicated(keep='first' & 'third')]\n",
    "                        display(df2)\n",
    "                        fulldf = fulldf.append(df2)\n",
    "                    finally:   \n",
    "                        print('This executed.')\n",
    "                        wb.close()\n",
    "                        display(fulldf)\n",
    "\n",
    "files = getfilepath(path)\n",
    "rodent(cols, files)                "
   ]
  },
  {
   "cell_type": "code",
   "execution_count": null,
   "id": "23c2b703-ef58-43b2-a9e0-42b7d90ad484",
   "metadata": {},
   "outputs": [],
   "source": []
  }
 ],
 "metadata": {
  "kernelspec": {
   "display_name": "Python 3 (ipykernel)",
   "language": "python",
   "name": "python3"
  },
  "language_info": {
   "codemirror_mode": {
    "name": "ipython",
    "version": 3
   },
   "file_extension": ".py",
   "mimetype": "text/x-python",
   "name": "python",
   "nbconvert_exporter": "python",
   "pygments_lexer": "ipython3",
   "version": "3.10.5"
  }
 },
 "nbformat": 4,
 "nbformat_minor": 5
}
